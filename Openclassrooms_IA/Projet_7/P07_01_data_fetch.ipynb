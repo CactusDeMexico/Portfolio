{
 "cells": [
  {
   "cell_type": "markdown",
   "source": [
    "# Projet 7 :  Détectez les Bad Buzz grâce au Deep Learning\n",
    "## Data_fetch\n",
    "<font color = \"grey\"><i> Chargement des modules necessaires </i></font>"
   ],
   "metadata": {
    "collapsed": false
   }
  },
  {
   "cell_type": "code",
   "execution_count": 1,
   "outputs": [],
   "source": [
    "import numpy as np\n",
    "import pandas as pd\n",
    "from pandas import DataFrame\n",
    "from matplotlib import pyplot as plt\n",
    "\n",
    "import seaborn as sns\n",
    "import warnings\n",
    "import csv\n",
    "\n",
    "warnings.filterwarnings('ignore')\n",
    "sns.set()\n",
    "plt.style.use('ggplot')"
   ],
   "metadata": {
    "collapsed": false,
    "pycharm": {
     "name": "#%%\n"
    }
   }
  },
  {
   "cell_type": "markdown",
   "source": [
    "# 1. Récupération des données\n",
    "\n",
    "## a) Récupération des tweets postés par les clients"
   ],
   "metadata": {
    "collapsed": false
   }
  },
  {
   "cell_type": "code",
   "execution_count": 2,
   "outputs": [
    {
     "data": {
      "text/plain": "      Unnamed: 0                                              tweet  target\n0             30  @alielayus I want to go to promote GEAR AND GR...       0\n1            198     couldn't get shit done today ~ i'm so screwed        0\n2            362  @Sara_Kate Im afraid too  ( ur reply about uni...       0\n3           1279  Yo jimo i cant talk on aim anymore, its glitch...       0\n4           2112  @rustyrockets do I sense a blog coming on?  To...       0\n...          ...                                                ...     ...\n1995     1592304  @andrewtkelley that strawberry shortcake looks...       1\n1996     1594844                              @WinonaWiefel thanks        1\n1997     1594991  photographing Day of the African Child celebra...       1\n1998     1599678                               @jasontancy thanks!        1\n1999     1599992                                  @SCOOBY_GRITBOYS        1\n\n[2000 rows x 3 columns]",
      "text/html": "<div>\n<style scoped>\n    .dataframe tbody tr th:only-of-type {\n        vertical-align: middle;\n    }\n\n    .dataframe tbody tr th {\n        vertical-align: top;\n    }\n\n    .dataframe thead th {\n        text-align: right;\n    }\n</style>\n<table border=\"1\" class=\"dataframe\">\n  <thead>\n    <tr style=\"text-align: right;\">\n      <th></th>\n      <th>Unnamed: 0</th>\n      <th>tweet</th>\n      <th>target</th>\n    </tr>\n  </thead>\n  <tbody>\n    <tr>\n      <th>0</th>\n      <td>30</td>\n      <td>@alielayus I want to go to promote GEAR AND GR...</td>\n      <td>0</td>\n    </tr>\n    <tr>\n      <th>1</th>\n      <td>198</td>\n      <td>couldn't get shit done today ~ i'm so screwed</td>\n      <td>0</td>\n    </tr>\n    <tr>\n      <th>2</th>\n      <td>362</td>\n      <td>@Sara_Kate Im afraid too  ( ur reply about uni...</td>\n      <td>0</td>\n    </tr>\n    <tr>\n      <th>3</th>\n      <td>1279</td>\n      <td>Yo jimo i cant talk on aim anymore, its glitch...</td>\n      <td>0</td>\n    </tr>\n    <tr>\n      <th>4</th>\n      <td>2112</td>\n      <td>@rustyrockets do I sense a blog coming on?  To...</td>\n      <td>0</td>\n    </tr>\n    <tr>\n      <th>...</th>\n      <td>...</td>\n      <td>...</td>\n      <td>...</td>\n    </tr>\n    <tr>\n      <th>1995</th>\n      <td>1592304</td>\n      <td>@andrewtkelley that strawberry shortcake looks...</td>\n      <td>1</td>\n    </tr>\n    <tr>\n      <th>1996</th>\n      <td>1594844</td>\n      <td>@WinonaWiefel thanks</td>\n      <td>1</td>\n    </tr>\n    <tr>\n      <th>1997</th>\n      <td>1594991</td>\n      <td>photographing Day of the African Child celebra...</td>\n      <td>1</td>\n    </tr>\n    <tr>\n      <th>1998</th>\n      <td>1599678</td>\n      <td>@jasontancy thanks!</td>\n      <td>1</td>\n    </tr>\n    <tr>\n      <th>1999</th>\n      <td>1599992</td>\n      <td>@SCOOBY_GRITBOYS</td>\n      <td>1</td>\n    </tr>\n  </tbody>\n</table>\n<p>2000 rows × 3 columns</p>\n</div>"
     },
     "execution_count": 2,
     "metadata": {},
     "output_type": "execute_result"
    }
   ],
   "source": [
    "missing_values = [\"na\", \"n/a\", \"--\", \" \"]\n",
    "data_df = pd.read_csv('data/training.1600000.processed.noemoticon.csv',\n",
    "                      encoding='latin',\n",
    "                      delimiter=\",\")\n",
    "data_df = pd.read_csv('data/under_sampling_2000_op.csv',\n",
    "                      encoding='latin',\n",
    "                      delimiter=\",\")\n",
    "\n",
    "\n",
    "data_df"
   ],
   "metadata": {
    "collapsed": false,
    "pycharm": {
     "name": "#%%\n"
    }
   }
  },
  {
   "cell_type": "markdown",
   "source": [
    "data_df.columns\n",
    "\n",
    "data_df = data_df.rename(columns={'0': 'target',data_df.columns[2]: 'id',data_df.columns[3]: 'date',\n",
    "                                  data_df.columns[4]: 'user',data_df.columns[5]: 'tweet'})"
   ],
   "metadata": {
    "collapsed": false,
    "pycharm": {
     "name": "#%% md\n"
    }
   }
  },
  {
   "cell_type": "code",
   "source": [
    "data_df['target_bin'] = data_df['target'].map({0: 0,\n",
    "                                               1: 1})"
   ],
   "metadata": {
    "collapsed": false,
    "pycharm": {
     "name": "#%%\n"
    }
   },
   "execution_count": 3,
   "outputs": []
  },
  {
   "cell_type": "code",
   "execution_count": 3,
   "outputs": [],
   "source": [],
   "metadata": {
    "collapsed": false,
    "pycharm": {
     "name": "#%%\n"
    }
   }
  },
  {
   "cell_type": "code",
   "execution_count": 4,
   "outputs": [
    {
     "data": {
      "text/plain": "array([0, 1], dtype=int64)"
     },
     "execution_count": 4,
     "metadata": {},
     "output_type": "execute_result"
    }
   ],
   "source": [
    "data_df.head()\n",
    "data_df['target'].unique()"
   ],
   "metadata": {
    "collapsed": false,
    "pycharm": {
     "name": "#%%\n"
    }
   }
  },
  {
   "cell_type": "code",
   "execution_count": 5,
   "outputs": [
    {
     "data": {
      "text/plain": "      Unnamed: 0                                              tweet  target  \\\n0             30  @alielayus I want to go to promote GEAR AND GR...       0   \n1            198     couldn't get shit done today ~ i'm so screwed        0   \n2            362  @Sara_Kate Im afraid too  ( ur reply about uni...       0   \n3           1279  Yo jimo i cant talk on aim anymore, its glitch...       0   \n4           2112  @rustyrockets do I sense a blog coming on?  To...       0   \n...          ...                                                ...     ...   \n1995     1592304  @andrewtkelley that strawberry shortcake looks...       1   \n1996     1594844                              @WinonaWiefel thanks        1   \n1997     1594991  photographing Day of the African Child celebra...       1   \n1998     1599678                               @jasontancy thanks!        1   \n1999     1599992                                  @SCOOBY_GRITBOYS        1   \n\n      target_bin  \n0              0  \n1              0  \n2              0  \n3              0  \n4              0  \n...          ...  \n1995           1  \n1996           1  \n1997           1  \n1998           1  \n1999           1  \n\n[2000 rows x 4 columns]",
      "text/html": "<div>\n<style scoped>\n    .dataframe tbody tr th:only-of-type {\n        vertical-align: middle;\n    }\n\n    .dataframe tbody tr th {\n        vertical-align: top;\n    }\n\n    .dataframe thead th {\n        text-align: right;\n    }\n</style>\n<table border=\"1\" class=\"dataframe\">\n  <thead>\n    <tr style=\"text-align: right;\">\n      <th></th>\n      <th>Unnamed: 0</th>\n      <th>tweet</th>\n      <th>target</th>\n      <th>target_bin</th>\n    </tr>\n  </thead>\n  <tbody>\n    <tr>\n      <th>0</th>\n      <td>30</td>\n      <td>@alielayus I want to go to promote GEAR AND GR...</td>\n      <td>0</td>\n      <td>0</td>\n    </tr>\n    <tr>\n      <th>1</th>\n      <td>198</td>\n      <td>couldn't get shit done today ~ i'm so screwed</td>\n      <td>0</td>\n      <td>0</td>\n    </tr>\n    <tr>\n      <th>2</th>\n      <td>362</td>\n      <td>@Sara_Kate Im afraid too  ( ur reply about uni...</td>\n      <td>0</td>\n      <td>0</td>\n    </tr>\n    <tr>\n      <th>3</th>\n      <td>1279</td>\n      <td>Yo jimo i cant talk on aim anymore, its glitch...</td>\n      <td>0</td>\n      <td>0</td>\n    </tr>\n    <tr>\n      <th>4</th>\n      <td>2112</td>\n      <td>@rustyrockets do I sense a blog coming on?  To...</td>\n      <td>0</td>\n      <td>0</td>\n    </tr>\n    <tr>\n      <th>...</th>\n      <td>...</td>\n      <td>...</td>\n      <td>...</td>\n      <td>...</td>\n    </tr>\n    <tr>\n      <th>1995</th>\n      <td>1592304</td>\n      <td>@andrewtkelley that strawberry shortcake looks...</td>\n      <td>1</td>\n      <td>1</td>\n    </tr>\n    <tr>\n      <th>1996</th>\n      <td>1594844</td>\n      <td>@WinonaWiefel thanks</td>\n      <td>1</td>\n      <td>1</td>\n    </tr>\n    <tr>\n      <th>1997</th>\n      <td>1594991</td>\n      <td>photographing Day of the African Child celebra...</td>\n      <td>1</td>\n      <td>1</td>\n    </tr>\n    <tr>\n      <th>1998</th>\n      <td>1599678</td>\n      <td>@jasontancy thanks!</td>\n      <td>1</td>\n      <td>1</td>\n    </tr>\n    <tr>\n      <th>1999</th>\n      <td>1599992</td>\n      <td>@SCOOBY_GRITBOYS</td>\n      <td>1</td>\n      <td>1</td>\n    </tr>\n  </tbody>\n</table>\n<p>2000 rows × 4 columns</p>\n</div>"
     },
     "execution_count": 5,
     "metadata": {},
     "output_type": "execute_result"
    }
   ],
   "source": [
    "data_df['target'].value_counts()\n",
    "data_df"
   ],
   "metadata": {
    "collapsed": false,
    "pycharm": {
     "name": "#%%\n"
    }
   }
  },
  {
   "cell_type": "code",
   "source": [
    "data_df['target'] = data_df['target_bin'].map({0:'negative',1:'positive'})\n",
    "data_df"
   ],
   "metadata": {
    "collapsed": false,
    "pycharm": {
     "name": "#%%\n"
    }
   },
   "execution_count": 6,
   "outputs": [
    {
     "data": {
      "text/plain": "      Unnamed: 0                                              tweet    target  \\\n0             30  @alielayus I want to go to promote GEAR AND GR...  negative   \n1            198     couldn't get shit done today ~ i'm so screwed   negative   \n2            362  @Sara_Kate Im afraid too  ( ur reply about uni...  negative   \n3           1279  Yo jimo i cant talk on aim anymore, its glitch...  negative   \n4           2112  @rustyrockets do I sense a blog coming on?  To...  negative   \n...          ...                                                ...       ...   \n1995     1592304  @andrewtkelley that strawberry shortcake looks...  positive   \n1996     1594844                              @WinonaWiefel thanks   positive   \n1997     1594991  photographing Day of the African Child celebra...  positive   \n1998     1599678                               @jasontancy thanks!   positive   \n1999     1599992                                  @SCOOBY_GRITBOYS   positive   \n\n      target_bin  \n0              0  \n1              0  \n2              0  \n3              0  \n4              0  \n...          ...  \n1995           1  \n1996           1  \n1997           1  \n1998           1  \n1999           1  \n\n[2000 rows x 4 columns]",
      "text/html": "<div>\n<style scoped>\n    .dataframe tbody tr th:only-of-type {\n        vertical-align: middle;\n    }\n\n    .dataframe tbody tr th {\n        vertical-align: top;\n    }\n\n    .dataframe thead th {\n        text-align: right;\n    }\n</style>\n<table border=\"1\" class=\"dataframe\">\n  <thead>\n    <tr style=\"text-align: right;\">\n      <th></th>\n      <th>Unnamed: 0</th>\n      <th>tweet</th>\n      <th>target</th>\n      <th>target_bin</th>\n    </tr>\n  </thead>\n  <tbody>\n    <tr>\n      <th>0</th>\n      <td>30</td>\n      <td>@alielayus I want to go to promote GEAR AND GR...</td>\n      <td>negative</td>\n      <td>0</td>\n    </tr>\n    <tr>\n      <th>1</th>\n      <td>198</td>\n      <td>couldn't get shit done today ~ i'm so screwed</td>\n      <td>negative</td>\n      <td>0</td>\n    </tr>\n    <tr>\n      <th>2</th>\n      <td>362</td>\n      <td>@Sara_Kate Im afraid too  ( ur reply about uni...</td>\n      <td>negative</td>\n      <td>0</td>\n    </tr>\n    <tr>\n      <th>3</th>\n      <td>1279</td>\n      <td>Yo jimo i cant talk on aim anymore, its glitch...</td>\n      <td>negative</td>\n      <td>0</td>\n    </tr>\n    <tr>\n      <th>4</th>\n      <td>2112</td>\n      <td>@rustyrockets do I sense a blog coming on?  To...</td>\n      <td>negative</td>\n      <td>0</td>\n    </tr>\n    <tr>\n      <th>...</th>\n      <td>...</td>\n      <td>...</td>\n      <td>...</td>\n      <td>...</td>\n    </tr>\n    <tr>\n      <th>1995</th>\n      <td>1592304</td>\n      <td>@andrewtkelley that strawberry shortcake looks...</td>\n      <td>positive</td>\n      <td>1</td>\n    </tr>\n    <tr>\n      <th>1996</th>\n      <td>1594844</td>\n      <td>@WinonaWiefel thanks</td>\n      <td>positive</td>\n      <td>1</td>\n    </tr>\n    <tr>\n      <th>1997</th>\n      <td>1594991</td>\n      <td>photographing Day of the African Child celebra...</td>\n      <td>positive</td>\n      <td>1</td>\n    </tr>\n    <tr>\n      <th>1998</th>\n      <td>1599678</td>\n      <td>@jasontancy thanks!</td>\n      <td>positive</td>\n      <td>1</td>\n    </tr>\n    <tr>\n      <th>1999</th>\n      <td>1599992</td>\n      <td>@SCOOBY_GRITBOYS</td>\n      <td>positive</td>\n      <td>1</td>\n    </tr>\n  </tbody>\n</table>\n<p>2000 rows × 4 columns</p>\n</div>"
     },
     "execution_count": 6,
     "metadata": {},
     "output_type": "execute_result"
    }
   ]
  },
  {
   "cell_type": "code",
   "source": [
    "data_df['target'].unique()\n",
    "\n"
   ],
   "metadata": {
    "collapsed": false,
    "pycharm": {
     "name": "#%%\n"
    }
   },
   "execution_count": 7,
   "outputs": [
    {
     "data": {
      "text/plain": "array(['negative', 'positive'], dtype=object)"
     },
     "execution_count": 7,
     "metadata": {},
     "output_type": "execute_result"
    }
   ]
  },
  {
   "cell_type": "markdown",
   "source": [
    "## b) Affichage des colonnes et lignes, ansi que leurs nombres\n"
   ],
   "metadata": {
    "collapsed": false
   }
  },
  {
   "cell_type": "code",
   "execution_count": 8,
   "outputs": [],
   "source": [
    "data_df_new  = data_df\n"
   ],
   "metadata": {
    "collapsed": false,
    "pycharm": {
     "name": "#%%\n"
    }
   }
  },
  {
   "cell_type": "code",
   "execution_count": 9,
   "outputs": [
    {
     "data": {
      "text/plain": "Unnamed: 0    0\ntweet         0\ntarget        0\ntarget_bin    0\ndtype: int64"
     },
     "execution_count": 9,
     "metadata": {},
     "output_type": "execute_result"
    }
   ],
   "source": [
    "nb_col_nan = data_df_new.isnull().sum()\n",
    "nb_col_nan"
   ],
   "metadata": {
    "collapsed": false,
    "pycharm": {
     "name": "#%%\n"
    }
   }
  },
  {
   "cell_type": "markdown",
   "source": [
    "* Chargement des tweets dans une liste :"
   ],
   "metadata": {
    "collapsed": false
   }
  },
  {
   "cell_type": "code",
   "execution_count": 10,
   "outputs": [
    {
     "data": {
      "text/plain": "0       @alielayus I want to go to promote GEAR AND GR...\n1          couldn't get shit done today ~ i'm so screwed \n2       @Sara_Kate Im afraid too  ( ur reply about uni...\n3       Yo jimo i cant talk on aim anymore, its glitch...\n4       @rustyrockets do I sense a blog coming on?  To...\n                              ...                        \n1995    @andrewtkelley that strawberry shortcake looks...\n1996                                @WinonaWiefel thanks \n1997    photographing Day of the African Child celebra...\n1998                                 @jasontancy thanks! \n1999                                    @SCOOBY_GRITBOYS \nName: tweet, Length: 2000, dtype: object"
     },
     "execution_count": 10,
     "metadata": {},
     "output_type": "execute_result"
    }
   ],
   "source": [
    "data_df_new[\"tweet\"]"
   ],
   "metadata": {
    "collapsed": false,
    "pycharm": {
     "name": "#%%\n"
    }
   }
  },
  {
   "cell_type": "code",
   "execution_count": 11,
   "outputs": [],
   "source": [
    "tweets = []\n",
    "\n",
    "for i in data_df_new.index:\n",
    "    tweets.append(data_df_new[\"tweet\"][i].strip())\n"
   ],
   "metadata": {
    "collapsed": false,
    "pycharm": {
     "name": "#%%\n"
    }
   }
  },
  {
   "cell_type": "code",
   "execution_count": 11,
   "outputs": [],
   "source": [
    "\n"
   ],
   "metadata": {
    "collapsed": false,
    "pycharm": {
     "name": "#%%\n"
    }
   }
  },
  {
   "cell_type": "markdown",
   "source": [
    "## b) Utilisation de l'API pour l'analyse de target de Microsoft Azure\n",
    "\n",
    "> On envoie de requêtes au service cognitif Azure d'analyse du target pour obtenir le target positif ou négatif d'un tweet."
   ],
   "metadata": {
    "collapsed": false
   }
  },
  {
   "cell_type": "code",
   "execution_count": 12,
   "metadata": {
    "collapsed": true
   },
   "outputs": [],
   "source": [
    "\n",
    "\n",
    "import os\n",
    "import requests\n",
    "import uuid\n",
    "import json\n",
    "from dotenv import load_dotenv\n",
    "\n",
    "load_dotenv()\n",
    "\n",
    "key1_var_name = 'COGNITIVE_SERVICE_KEY'\n",
    "key2_var_name = 'COGNITIVE_SERVICE_REGION'\n",
    "endpoint_var_name = 'ANALYTICS_TEXT_ENDPOINT'\n",
    "\n",
    "if not key1_var_name in os.environ:\n",
    "    #raise Exception('Please set/export the environment variable 1: {}'.format(key1_var_name))\n",
    "    subscription_key = 'f3521be5e80b4cb59d2f0e8fc6899b40'\n",
    "else:\n",
    "    subscription_key = os.environ[key1_var_name]\n",
    "\n",
    "if not key2_var_name in os.environ:\n",
    "    #raise Exception('Please set/export the environment variable 2: {}'.format(key2_var_name))\n",
    "    region_key = 'francecentral'\n",
    "else:\n",
    "    region_key = os.environ[key2_var_name]\n",
    "\n",
    "if not endpoint_var_name in os.environ:\n",
    "    #raise Exception('Please set/export the environment variable 3: {}'.format(endpoint_var_name))\n",
    "    endpoint = 'https://p7-ia.cognitiveservices.azure.com/'\n",
    "else:\n",
    "    endpoint = os.environ[endpoint_var_name]\n",
    "\n",
    "path = 'text/analytics/v3.0/sentiment'\n",
    "constructed_url = endpoint + path\n",
    "\n",
    "headers = {\n",
    "    'Ocp-Apim-Subscription-Key': subscription_key,\n",
    "    'Ocp-Apim-Subscription-Region': region_key,\n",
    "    'Content-type': 'application/json',\n",
    "    'X-ClientTraceId': str(uuid.uuid4())\n",
    "}\n",
    "taux_success = []\n",
    "\n",
    "predicted = []\n",
    "def detectLang(*param):\n",
    "    positive_succ = 0\n",
    "    negative_succ = 0\n",
    "    i = 0\n",
    "\n",
    "    for elt in param:\n",
    "        #print(\"elt \",elt)\n",
    "        body = {\n",
    "            \"documents\": [\n",
    "                {\n",
    "                    \"language\": \"en\",\n",
    "                    \"id\": i,\n",
    "                    \"text\": elt\n",
    "                }\n",
    "            ]\n",
    "        }\n",
    "        request = requests.post(constructed_url, headers=headers, json=body)\n",
    "\n",
    "        response = request.json()\n",
    "\n",
    "        id = response['documents'][0]['id']\n",
    "        target = response['documents'][0]['sentiment']\n",
    "        sc = response['documents'][0]['confidenceScores']\n",
    "        if i <= 5:\n",
    "            print(\"Le texte :'{}' a le target : '{}'\\\n",
    "                  avec un score de : '{}'\".format(elt, target, sc))\n",
    "        if target == data_df_new[\"target\"][i] and target == 'negative':\n",
    "            negative_succ += 1\n",
    "\n",
    "        if target == data_df_new[\"target\"][i] and target == 'positive':\n",
    "            positive_succ += 1\n",
    "\n",
    "        if  target == 'neutral':\n",
    "            predicted.append(0)\n",
    "\n",
    "        if  target == 'mixed':\n",
    "            predicted.append(0)\n",
    "\n",
    "        if target == 'negative':\n",
    "             predicted.append(0)\n",
    "        if target == 'positive':\n",
    "             predicted.append(1)\n",
    "        i += 1\n",
    "\n",
    "\n",
    "    print(\"i = \",i)\n",
    "    tx_succ_neg = negative_succ / 1000 * 100\n",
    "    tx_succ_pos = positive_succ / 1000 * 100\n",
    "\n",
    "    taux_success.append(tx_succ_neg)\n",
    "    taux_success.append(tx_succ_pos)"
   ]
  },
  {
   "cell_type": "code",
   "execution_count": 12,
   "outputs": [],
   "source": [],
   "metadata": {
    "collapsed": false,
    "pycharm": {
     "name": "#%%\n"
    }
   }
  },
  {
   "cell_type": "code",
   "execution_count": 13,
   "outputs": [
    {
     "name": "stdout",
     "output_type": "stream",
     "text": [
      "Le texte :'@alielayus I want to go to promote GEAR AND GROOVE but unfornately no ride there  I may b going to the one in Anaheim in May though' a le target : 'neutral'                  avec un score de : '{'positive': 0.14, 'neutral': 0.79, 'negative': 0.07}'\n",
      "Le texte :'couldn't get shit done today ~ i'm so screwed' a le target : 'negative'                  avec un score de : '{'positive': 0.0, 'neutral': 0.0, 'negative': 1.0}'\n",
      "Le texte :'@Sara_Kate Im afraid too  ( ur reply about uni from ages ago' a le target : 'negative'                  avec un score de : '{'positive': 0.0, 'neutral': 0.0, 'negative': 1.0}'\n",
      "Le texte :'Yo jimo i cant talk on aim anymore, its glitching  ill cya later and i hope u see this' a le target : 'negative'                  avec un score de : '{'positive': 0.48, 'neutral': 0.01, 'negative': 0.51}'\n",
      "Le texte :'@rustyrockets do I sense a blog coming on?  Too bad I have to leave in like 10 mins   xxx' a le target : 'negative'                  avec un score de : '{'positive': 0.0, 'neutral': 0.0, 'negative': 1.0}'\n",
      "Le texte :'Riry is being a pain and nomming on my hand. Should not have sprayed her with that cat nip mist as a joke.  now she is craaaazy' a le target : 'negative'                  avec un score de : '{'positive': 0.02, 'neutral': 0.02, 'negative': 0.96}'\n",
      "i =  2000\n"
     ]
    }
   ],
   "source": [
    "\n",
    "import time\n",
    "\n",
    "start = time.time()\n",
    "detectLang(*tweets)\n",
    "stop = time.time()"
   ],
   "metadata": {
    "collapsed": false,
    "pycharm": {
     "name": "#%%\n"
    }
   }
  },
  {
   "cell_type": "code",
   "execution_count": 14,
   "outputs": [
    {
     "name": "stdout",
     "output_type": "stream",
     "text": [
      "[48.0, 53.1]\n"
     ]
    }
   ],
   "source": [
    "print(taux_success)"
   ],
   "metadata": {
    "collapsed": false,
    "pycharm": {
     "name": "#%%\n"
    }
   }
  },
  {
   "cell_type": "code",
   "execution_count": 15,
   "outputs": [
    {
     "data": {
      "text/plain": "<Figure size 432x288 with 1 Axes>",
      "image/png": "[encoded data removed]"
     },
     "metadata": {},
     "output_type": "display_data"
    }
   ],
   "source": [
    "sent = ['negative', 'positive']\n",
    "xs = [i + 0.1 for i, _ in enumerate(sent)]\n",
    "\n",
    "plt.bar(xs, taux_success)\n",
    "plt.title(\"Taux de succès pour le sentiment négatif et positif des tweets\")\n",
    "plt.ylabel(\"Taux de succès %\")\n",
    "plt.xlabel(\"sentiment\")\n",
    "plt.xticks([i + 0.1 for i, _ in enumerate(sent)], sent)\n",
    "plt.show()"
   ],
   "metadata": {
    "collapsed": false,
    "pycharm": {
     "name": "#%%\n"
    }
   }
  },
  {
   "cell_type": "markdown",
   "source": [
    "Matrice de confusion"
   ],
   "metadata": {
    "collapsed": false
   }
  },
  {
   "cell_type": "code",
   "execution_count": 16,
   "outputs": [
    {
     "data": {
      "text/plain": "2000"
     },
     "execution_count": 16,
     "metadata": {},
     "output_type": "execute_result"
    }
   ],
   "source": [
    "len(predicted)"
   ],
   "metadata": {
    "collapsed": false,
    "pycharm": {
     "name": "#%%\n"
    }
   }
  },
  {
   "cell_type": "code",
   "execution_count": 17,
   "outputs": [],
   "source": [
    "data_df_new['pred']= predicted"
   ],
   "metadata": {
    "collapsed": false,
    "pycharm": {
     "name": "#%%\n"
    }
   }
  },
  {
   "cell_type": "code",
   "execution_count": 18,
   "outputs": [
    {
     "data": {
      "text/plain": "   pred  Nombre\n0     0    1255\n1     1     745",
      "text/html": "<div>\n<style scoped>\n    .dataframe tbody tr th:only-of-type {\n        vertical-align: middle;\n    }\n\n    .dataframe tbody tr th {\n        vertical-align: top;\n    }\n\n    .dataframe thead th {\n        text-align: right;\n    }\n</style>\n<table border=\"1\" class=\"dataframe\">\n  <thead>\n    <tr style=\"text-align: right;\">\n      <th></th>\n      <th>pred</th>\n      <th>Nombre</th>\n    </tr>\n  </thead>\n  <tbody>\n    <tr>\n      <th>0</th>\n      <td>0</td>\n      <td>1255</td>\n    </tr>\n    <tr>\n      <th>1</th>\n      <td>1</td>\n      <td>745</td>\n    </tr>\n  </tbody>\n</table>\n</div>"
     },
     "execution_count": 18,
     "metadata": {},
     "output_type": "execute_result"
    }
   ],
   "source": [
    "df_count = pd.DataFrame({'pred': data_df_new['pred'].value_counts().index,\n",
    "                            'Nombre': data_df_new['pred'].value_counts().values})\n",
    "df_count\n"
   ],
   "metadata": {
    "collapsed": false,
    "pycharm": {
     "name": "#%%\n"
    }
   }
  },
  {
   "cell_type": "code",
   "execution_count": 19,
   "outputs": [],
   "source": [
    "data_df_new['pred']= predicted\n"
   ],
   "metadata": {
    "collapsed": false,
    "pycharm": {
     "name": "#%%\n"
    }
   }
  },
  {
   "cell_type": "code",
   "execution_count": 20,
   "outputs": [
    {
     "data": {
      "text/plain": "0       1000\n1       1000\nnull       2\ndtype: int64"
     },
     "execution_count": 20,
     "metadata": {},
     "output_type": "execute_result"
    }
   ],
   "source": [
    "x = data_df_new['target_bin'].value_counts()\n",
    "null_row= pd.Series({'null':2})\n",
    "x=x.append(null_row)\n",
    "x"
   ],
   "metadata": {
    "collapsed": false,
    "pycharm": {
     "name": "#%%\n"
    }
   }
  },
  {
   "cell_type": "markdown",
   "source": [
    "df_count = pd.DataFrame({'target_pred': data_df_new['pred'].value_counts().index,\n",
    "                            'Nombre_pred': data_df_new['pred'].value_counts().values,\n",
    "                         'target': x.index,\n",
    "                         'Nombre target': x.values,\n",
    "                         })\n",
    "df_count"
   ],
   "metadata": {
    "collapsed": false,
    "pycharm": {
     "name": "#%% md\n"
    }
   }
  },
  {
   "cell_type": "code",
   "execution_count": 21,
   "outputs": [
    {
     "data": {
      "text/plain": "      Unnamed: 0                                              tweet    target  \\\n0             30  @alielayus I want to go to promote GEAR AND GR...  negative   \n1            198     couldn't get shit done today ~ i'm so screwed   negative   \n2            362  @Sara_Kate Im afraid too  ( ur reply about uni...  negative   \n3           1279  Yo jimo i cant talk on aim anymore, its glitch...  negative   \n4           2112  @rustyrockets do I sense a blog coming on?  To...  negative   \n...          ...                                                ...       ...   \n1995     1592304  @andrewtkelley that strawberry shortcake looks...  positive   \n1996     1594844                              @WinonaWiefel thanks   positive   \n1997     1594991  photographing Day of the African Child celebra...  positive   \n1998     1599678                               @jasontancy thanks!   positive   \n1999     1599992                                  @SCOOBY_GRITBOYS   positive   \n\n      target_bin  pred  \n0              0     0  \n1              0     0  \n2              0     0  \n3              0     0  \n4              0     0  \n...          ...   ...  \n1995           1     1  \n1996           1     1  \n1997           1     0  \n1998           1     1  \n1999           1     0  \n\n[2000 rows x 5 columns]",
      "text/html": "<div>\n<style scoped>\n    .dataframe tbody tr th:only-of-type {\n        vertical-align: middle;\n    }\n\n    .dataframe tbody tr th {\n        vertical-align: top;\n    }\n\n    .dataframe thead th {\n        text-align: right;\n    }\n</style>\n<table border=\"1\" class=\"dataframe\">\n  <thead>\n    <tr style=\"text-align: right;\">\n      <th></th>\n      <th>Unnamed: 0</th>\n      <th>tweet</th>\n      <th>target</th>\n      <th>target_bin</th>\n      <th>pred</th>\n    </tr>\n  </thead>\n  <tbody>\n    <tr>\n      <th>0</th>\n      <td>30</td>\n      <td>@alielayus I want to go to promote GEAR AND GR...</td>\n      <td>negative</td>\n      <td>0</td>\n      <td>0</td>\n    </tr>\n    <tr>\n      <th>1</th>\n      <td>198</td>\n      <td>couldn't get shit done today ~ i'm so screwed</td>\n      <td>negative</td>\n      <td>0</td>\n      <td>0</td>\n    </tr>\n    <tr>\n      <th>2</th>\n      <td>362</td>\n      <td>@Sara_Kate Im afraid too  ( ur reply about uni...</td>\n      <td>negative</td>\n      <td>0</td>\n      <td>0</td>\n    </tr>\n    <tr>\n      <th>3</th>\n      <td>1279</td>\n      <td>Yo jimo i cant talk on aim anymore, its glitch...</td>\n      <td>negative</td>\n      <td>0</td>\n      <td>0</td>\n    </tr>\n    <tr>\n      <th>4</th>\n      <td>2112</td>\n      <td>@rustyrockets do I sense a blog coming on?  To...</td>\n      <td>negative</td>\n      <td>0</td>\n      <td>0</td>\n    </tr>\n    <tr>\n      <th>...</th>\n      <td>...</td>\n      <td>...</td>\n      <td>...</td>\n      <td>...</td>\n      <td>...</td>\n    </tr>\n    <tr>\n      <th>1995</th>\n      <td>1592304</td>\n      <td>@andrewtkelley that strawberry shortcake looks...</td>\n      <td>positive</td>\n      <td>1</td>\n      <td>1</td>\n    </tr>\n    <tr>\n      <th>1996</th>\n      <td>1594844</td>\n      <td>@WinonaWiefel thanks</td>\n      <td>positive</td>\n      <td>1</td>\n      <td>1</td>\n    </tr>\n    <tr>\n      <th>1997</th>\n      <td>1594991</td>\n      <td>photographing Day of the African Child celebra...</td>\n      <td>positive</td>\n      <td>1</td>\n      <td>0</td>\n    </tr>\n    <tr>\n      <th>1998</th>\n      <td>1599678</td>\n      <td>@jasontancy thanks!</td>\n      <td>positive</td>\n      <td>1</td>\n      <td>1</td>\n    </tr>\n    <tr>\n      <th>1999</th>\n      <td>1599992</td>\n      <td>@SCOOBY_GRITBOYS</td>\n      <td>positive</td>\n      <td>1</td>\n      <td>0</td>\n    </tr>\n  </tbody>\n</table>\n<p>2000 rows × 5 columns</p>\n</div>"
     },
     "execution_count": 21,
     "metadata": {},
     "output_type": "execute_result"
    }
   ],
   "source": [
    "data_ref = data_df_new\n",
    "data_df_new = data_df_new.drop(data_df_new[data_df_new['pred'] == 2].index)\n",
    "data_df_new = data_df_new.drop(data_df_new[data_df_new['pred'] == 3].index)\n",
    "data_df_new"
   ],
   "metadata": {
    "collapsed": false,
    "pycharm": {
     "name": "#%%\n"
    }
   }
  },
  {
   "cell_type": "code",
   "execution_count": 40,
   "outputs": [],
   "source": [
    "from sklearn.metrics import confusion_matrix, adjusted_rand_score\n",
    "\n",
    "\n",
    "def ConfusionMatrix(y_pred, y_test):\n",
    "    cf_matrix = confusion_matrix(y_pred, y_test)\n",
    "\n",
    "    categories  = ['Negative','Positive']\n",
    "\n",
    "    group_names = ['True Neg','False Neg', 'False Pos','True Pos']\n",
    "    group_percentages = ['{0:.2%}'.format(value) for value in cf_matrix.flatten() / np.sum(cf_matrix)]\n",
    "    true_neg = round((cf_matrix[0][0])*100 / (cf_matrix[0][0]+cf_matrix[1][0]),2)\n",
    "    false_pos = round(100 - true_neg,2)\n",
    "    false_neg = round((cf_matrix[0][1])*100 / (cf_matrix[0][1]+cf_matrix[1][1]),2)\n",
    "    tru_pos = round(100 - false_neg,2)\n",
    "    print(true_neg ,tru_pos,false_pos,false_neg)\n",
    "    label_v2 =[f'True Neg {true_neg}% classe réel',f'False Neg {false_neg}% classe réel', f'False Pos {false_pos}% classe réel',f'True Pos {tru_pos}% classe réel']\n",
    "    print(\"true neg \",true_neg ,' falsepos ',false_pos ,' falseneg ',false_neg ,' true pos',tru_pos)\n",
    "    group = [value for value in cf_matrix.flatten() / np.sum(cf_matrix)]\n",
    "    print(cf_matrix)\n",
    "    print(cf_matrix[0])\n",
    "    print(cf_matrix[0] [0])\n",
    "    labels = [f'{v1}  {v2}' for v1, v2 in zip(group_names,group_percentages)]\n",
    "    print('Ancien',labels)\n",
    "    print(group_percentages)\n",
    "    print(float(group_percentages[0].replace(\"%\",\"\"))+float(group_percentages[1].replace(\"%\",\"\")))\n",
    "    categories_y  = [f'Negative ',\n",
    "                     f'Positive ']\n",
    "\n",
    "    categories_x  = [f'Negative 100% n: {cf_matrix[0][1]+cf_matrix[1][1]}',\n",
    "\n",
    "                     f'Positive 100% n: {cf_matrix[0][0]+cf_matrix[1][0]}']\n",
    "    labels = np.asarray(labels).reshape(2,2)\n",
    "    label_v2 = np.asarray(label_v2).reshape(2,2)\n",
    "    print(\"Nouveau label\",label_v2)\n",
    "\n",
    "    sns.heatmap(cf_matrix, annot = label_v2, cmap = 'Blues',fmt = '',\n",
    "                xticklabels = categories_x, yticklabels = categories_y)\n",
    "\n",
    "    plt.ylabel(\"Classe prédite\", fontdict = {'size':14}, labelpad = 10)\n",
    "    plt.xlabel(\"Classe réelle\"   , fontdict = {'size':14}, labelpad = 10)\n",
    "    plt.title (f\"Matrice de confusion n:{len(y_pred)}\", fontdict = {'size':18}, pad = 20)"
   ],
   "metadata": {
    "collapsed": false,
    "pycharm": {
     "name": "#%%\n"
    }
   }
  },
  {
   "cell_type": "code",
   "execution_count": 41,
   "outputs": [
    {
     "name": "stdout",
     "output_type": "stream",
     "text": [
      "78.6 53.1 21.4 46.9\n",
      "true neg  78.6  falsepos  21.4  falseneg  46.9  true pos 53.1\n",
      "[[786 469]\n",
      " [214 531]]\n",
      "[786 469]\n",
      "786\n",
      "Ancien ['True Neg  39.30%', 'False Neg  23.45%', 'False Pos  10.70%', 'True Pos  26.55%']\n",
      "['39.30%', '23.45%', '10.70%', '26.55%']\n",
      "62.75\n",
      "Nouveau label [['True Neg 78.6% classe réel' 'False Neg 46.9% classe réel']\n",
      " ['False Pos 21.4% classe réel' 'True Pos 53.1% classe réel']]\n"
     ]
    },
    {
     "data": {
      "text/plain": "<Figure size 432x288 with 2 Axes>",
      "image/png": "[encoded data removed]"
     },
     "metadata": {},
     "output_type": "display_data"
    }
   ],
   "source": [
    "ConfusionMatrix(data_df_new['pred'], data_df_new['target_bin'])"
   ],
   "metadata": {
    "collapsed": false,
    "pycharm": {
     "name": "#%%\n"
    }
   }
  },
  {
   "cell_type": "code",
   "execution_count": 24,
   "outputs": [],
   "source": [
    "def ConfusionMatrix2(y_pred, y_test):\n",
    "    cf_matrix = confusion_matrix(y_pred, y_test)\n",
    "\n",
    "    categories  = ['Negative','Positive']\n",
    "\n",
    "    group_names = ['True Neg','False Neg', 'False Pos','True Pos']\n",
    "    group_percentages = ['{0:.2%}'.format(value) for value in cf_matrix.flatten() / np.sum(cf_matrix)]\n",
    "\n",
    "    labels = [f'{v1}  {v2}' for v1, v2 in zip(group_names,group_percentages)]\n",
    "    print(labels)\n",
    "    print(group_percentages)\n",
    "    print(float(group_percentages[0].replace(\"%\",\"\"))+float(group_percentages[1].replace(\"%\",\"\")))\n",
    "    categories_y  = [f'Negative {round(float(group_percentages[0].replace(\"%\",\"\"))+float(group_percentages[1].replace(\"%\",\"\")),2)}%',\n",
    "                     f'Positive {round(float(group_percentages[2].replace(\"%\",\"\"))+float(group_percentages[3].replace(\"%\",\"\")),2)}%']\n",
    "    labels = np.asarray(labels).reshape(2,2)\n",
    "\n",
    "    sns.heatmap(cf_matrix, annot = labels, cmap = 'Blues',fmt = '',\n",
    "                xticklabels = categories, yticklabels = categories_y)\n",
    "\n",
    "    plt.ylabel(\"Classe prédite\", fontdict = {'size':14}, labelpad = 10)\n",
    "    plt.xlabel(\"Classe réelle\"   , fontdict = {'size':14}, labelpad = 10)\n",
    "    plt.title (f\"Matrice de confusion n:{len(y_pred)}\", fontdict = {'size':18}, pad = 20)"
   ],
   "metadata": {
    "collapsed": false,
    "pycharm": {
     "name": "#%%\n"
    }
   }
  },
  {
   "cell_type": "code",
   "execution_count": null,
   "outputs": [],
   "source": [],
   "metadata": {
    "collapsed": false,
    "pycharm": {
     "name": "#%%\n"
    }
   }
  },
  {
   "cell_type": "code",
   "execution_count": 27,
   "outputs": [
    {
     "data": {
      "text/plain": "   target_pred  Nombre_pred  target  Nombre target\n0            0         1255       0           1000\n1            1          745       1           1000",
      "text/html": "<div>\n<style scoped>\n    .dataframe tbody tr th:only-of-type {\n        vertical-align: middle;\n    }\n\n    .dataframe tbody tr th {\n        vertical-align: top;\n    }\n\n    .dataframe thead th {\n        text-align: right;\n    }\n</style>\n<table border=\"1\" class=\"dataframe\">\n  <thead>\n    <tr style=\"text-align: right;\">\n      <th></th>\n      <th>target_pred</th>\n      <th>Nombre_pred</th>\n      <th>target</th>\n      <th>Nombre target</th>\n    </tr>\n  </thead>\n  <tbody>\n    <tr>\n      <th>0</th>\n      <td>0</td>\n      <td>1255</td>\n      <td>0</td>\n      <td>1000</td>\n    </tr>\n    <tr>\n      <th>1</th>\n      <td>1</td>\n      <td>745</td>\n      <td>1</td>\n      <td>1000</td>\n    </tr>\n  </tbody>\n</table>\n</div>"
     },
     "execution_count": 27,
     "metadata": {},
     "output_type": "execute_result"
    }
   ],
   "source": [
    "df_count = pd.DataFrame({'target_pred': data_df_new['pred'].value_counts().index,\n",
    "                            'Nombre_pred': data_df_new['pred'].value_counts().values,\n",
    "                         'target': data_df_new['target_bin'].value_counts().index,\n",
    "                         'Nombre target': data_df_new['target_bin'].value_counts().values,\n",
    "                         })\n",
    "df_count"
   ],
   "metadata": {
    "collapsed": false,
    "pycharm": {
     "name": "#%%\n"
    }
   }
  },
  {
   "cell_type": "code",
   "execution_count": 28,
   "outputs": [
    {
     "data": {
      "text/plain": "array([1000, 1000], dtype=int64)"
     },
     "execution_count": 28,
     "metadata": {},
     "output_type": "execute_result"
    }
   ],
   "source": [
    "data_df_new['target_bin'].value_counts().values"
   ],
   "metadata": {
    "collapsed": false,
    "pycharm": {
     "name": "#%%\n"
    }
   }
  },
  {
   "cell_type": "code",
   "execution_count": 29,
   "outputs": [
    {
     "data": {
      "text/plain": "Int64Index([0, 1], dtype='int64')"
     },
     "execution_count": 29,
     "metadata": {},
     "output_type": "execute_result"
    }
   ],
   "source": [
    "data_df_new['target_bin'].value_counts().index"
   ],
   "metadata": {
    "collapsed": false,
    "pycharm": {
     "name": "#%%\n"
    }
   }
  },
  {
   "cell_type": "code",
   "execution_count": 30,
   "outputs": [
    {
     "data": {
      "text/plain": "array([1255,  745], dtype=int64)"
     },
     "execution_count": 30,
     "metadata": {},
     "output_type": "execute_result"
    }
   ],
   "source": [
    "data_df_new['pred'].value_counts().values"
   ],
   "metadata": {
    "collapsed": false,
    "pycharm": {
     "name": "#%%\n"
    }
   }
  },
  {
   "cell_type": "code",
   "execution_count": 31,
   "outputs": [
    {
     "data": {
      "text/plain": "Int64Index([0, 1], dtype='int64')"
     },
     "execution_count": 31,
     "metadata": {},
     "output_type": "execute_result"
    }
   ],
   "source": [
    "data_df_new['pred'].value_counts().index"
   ],
   "metadata": {
    "collapsed": false,
    "pycharm": {
     "name": "#%%\n"
    }
   }
  },
  {
   "cell_type": "code",
   "execution_count": 32,
   "outputs": [
    {
     "name": "stdout",
     "output_type": "stream",
     "text": [
      "API report: \n",
      "\n",
      "               precision    recall  f1-score   support\n",
      "\n",
      "           0       0.79      0.63      0.70      1255\n",
      "           1       0.53      0.71      0.61       745\n",
      "\n",
      "    accuracy                           0.66      2000\n",
      "   macro avg       0.66      0.67      0.65      2000\n",
      "weighted avg       0.69      0.66      0.66      2000\n",
      "\n"
     ]
    }
   ],
   "source": [
    "from sklearn.metrics import classification_report\n",
    "\n",
    "print(\"API report: \\n\\n\",\n",
    "      classification_report(data_df_new['pred'],  data_df_new['target_bin']))"
   ],
   "metadata": {
    "collapsed": false,
    "pycharm": {
     "name": "#%%\n"
    }
   }
  },
  {
   "cell_type": "markdown",
   "source": [
    "Accuracy"
   ],
   "metadata": {
    "collapsed": false,
    "pycharm": {
     "name": "#%% md\n"
    }
   }
  },
  {
   "cell_type": "code",
   "execution_count": 33,
   "outputs": [],
   "source": [
    "report = classification_report(data_df_new['pred'],  data_df_new['target_bin'], output_dict=True)"
   ],
   "metadata": {
    "collapsed": false,
    "pycharm": {
     "name": "#%%\n"
    }
   }
  },
  {
   "cell_type": "code",
   "execution_count": 34,
   "outputs": [
    {
     "data": {
      "text/plain": "              precision    recall  f1-score    support\n0              0.786000  0.626295  0.697118  1255.0000\n1              0.531000  0.712752  0.608596   745.0000\naccuracy       0.658500  0.658500  0.658500     0.6585\nmacro avg      0.658500  0.669523  0.652857  2000.0000\nweighted avg   0.691013  0.658500  0.664143  2000.0000",
      "text/html": "<div>\n<style scoped>\n    .dataframe tbody tr th:only-of-type {\n        vertical-align: middle;\n    }\n\n    .dataframe tbody tr th {\n        vertical-align: top;\n    }\n\n    .dataframe thead th {\n        text-align: right;\n    }\n</style>\n<table border=\"1\" class=\"dataframe\">\n  <thead>\n    <tr style=\"text-align: right;\">\n      <th></th>\n      <th>precision</th>\n      <th>recall</th>\n      <th>f1-score</th>\n      <th>support</th>\n    </tr>\n  </thead>\n  <tbody>\n    <tr>\n      <th>0</th>\n      <td>0.786000</td>\n      <td>0.626295</td>\n      <td>0.697118</td>\n      <td>1255.0000</td>\n    </tr>\n    <tr>\n      <th>1</th>\n      <td>0.531000</td>\n      <td>0.712752</td>\n      <td>0.608596</td>\n      <td>745.0000</td>\n    </tr>\n    <tr>\n      <th>accuracy</th>\n      <td>0.658500</td>\n      <td>0.658500</td>\n      <td>0.658500</td>\n      <td>0.6585</td>\n    </tr>\n    <tr>\n      <th>macro avg</th>\n      <td>0.658500</td>\n      <td>0.669523</td>\n      <td>0.652857</td>\n      <td>2000.0000</td>\n    </tr>\n    <tr>\n      <th>weighted avg</th>\n      <td>0.691013</td>\n      <td>0.658500</td>\n      <td>0.664143</td>\n      <td>2000.0000</td>\n    </tr>\n  </tbody>\n</table>\n</div>"
     },
     "execution_count": 34,
     "metadata": {},
     "output_type": "execute_result"
    }
   ],
   "source": [
    "\n",
    "df = pd.DataFrame(report).transpose()\n",
    "df"
   ],
   "metadata": {
    "collapsed": false,
    "pycharm": {
     "name": "#%%\n"
    }
   }
  },
  {
   "cell_type": "code",
   "execution_count": 35,
   "outputs": [
    {
     "data": {
      "text/plain": "0.6585"
     },
     "execution_count": 35,
     "metadata": {},
     "output_type": "execute_result"
    }
   ],
   "source": [
    "from sklearn.metrics import accuracy_score\n",
    "\n",
    "acc = accuracy_score(data_df_new['pred'],  data_df_new['target_bin'])\n",
    "acc"
   ],
   "metadata": {
    "collapsed": false,
    "pycharm": {
     "name": "#%%\n"
    }
   }
  },
  {
   "cell_type": "code",
   "execution_count": 35,
   "outputs": [],
   "source": [],
   "metadata": {
    "collapsed": false,
    "pycharm": {
     "name": "#%%\n"
    }
   }
  },
  {
   "cell_type": "code",
   "execution_count": 36,
   "outputs": [],
   "source": [
    "ari = adjusted_rand_score(data_df_new['pred'],  data_df_new['target_bin'])"
   ],
   "metadata": {
    "collapsed": false,
    "pycharm": {
     "name": "#%%\n"
    }
   }
  },
  {
   "cell_type": "code",
   "execution_count": 37,
   "outputs": [
    {
     "data": {
      "text/plain": "     Accuracy_val       ARI    Times(s)\nApi        0.6585  0.100068  340.576967",
      "text/html": "<div>\n<style scoped>\n    .dataframe tbody tr th:only-of-type {\n        vertical-align: middle;\n    }\n\n    .dataframe tbody tr th {\n        vertical-align: top;\n    }\n\n    .dataframe thead th {\n        text-align: right;\n    }\n</style>\n<table border=\"1\" class=\"dataframe\">\n  <thead>\n    <tr style=\"text-align: right;\">\n      <th></th>\n      <th>Accuracy_val</th>\n      <th>ARI</th>\n      <th>Times(s)</th>\n    </tr>\n  </thead>\n  <tbody>\n    <tr>\n      <th>Api</th>\n      <td>0.6585</td>\n      <td>0.100068</td>\n      <td>340.576967</td>\n    </tr>\n  </tbody>\n</table>\n</div>"
     },
     "execution_count": 37,
     "metadata": {},
     "output_type": "execute_result"
    }
   ],
   "source": [
    "hyperparamters_performances=pd.DataFrame(columns=['Accuracy_val','ARI','Times(s)'])\n",
    "hyperparamters_performances.append(\n",
    "    pd.Series(data={\n",
    "                    'Accuracy_val':acc,\n",
    "                    'ARI':ari,\n",
    "                    'Times(s)':(stop-start) },name=\"Api\"))"
   ],
   "metadata": {
    "collapsed": false,
    "pycharm": {
     "name": "#%%\n"
    }
   }
  },
  {
   "cell_type": "markdown",
   "source": [
    "Exemple d'erreur\n",
    "\n"
   ],
   "metadata": {
    "collapsed": false,
    "pycharm": {
     "name": "#%% md\n"
    }
   }
  },
  {
   "cell_type": "code",
   "execution_count": 38,
   "outputs": [
    {
     "data": {
      "text/plain": "    Unnamed: 0                                              tweet    target  \\\n15       10575            prepay for my BM lisan karangan now...   negative   \n16       12408                               @adlantis  Clean Me!  negative   \n23       16030         Not Much To Say .. I'm Just Missin' Him!!   negative   \n32       25246  @nicholasmegalis I'm an oldschool Joker fan ev...  negative   \n35       26990  @delightful9 but tegan is in victoria right no...  negative   \n\n    target_bin  pred  \n15           0     1  \n16           0     1  \n23           0     1  \n32           0     1  \n35           0     1  ",
      "text/html": "<div>\n<style scoped>\n    .dataframe tbody tr th:only-of-type {\n        vertical-align: middle;\n    }\n\n    .dataframe tbody tr th {\n        vertical-align: top;\n    }\n\n    .dataframe thead th {\n        text-align: right;\n    }\n</style>\n<table border=\"1\" class=\"dataframe\">\n  <thead>\n    <tr style=\"text-align: right;\">\n      <th></th>\n      <th>Unnamed: 0</th>\n      <th>tweet</th>\n      <th>target</th>\n      <th>target_bin</th>\n      <th>pred</th>\n    </tr>\n  </thead>\n  <tbody>\n    <tr>\n      <th>15</th>\n      <td>10575</td>\n      <td>prepay for my BM lisan karangan now...</td>\n      <td>negative</td>\n      <td>0</td>\n      <td>1</td>\n    </tr>\n    <tr>\n      <th>16</th>\n      <td>12408</td>\n      <td>@adlantis  Clean Me!</td>\n      <td>negative</td>\n      <td>0</td>\n      <td>1</td>\n    </tr>\n    <tr>\n      <th>23</th>\n      <td>16030</td>\n      <td>Not Much To Say .. I'm Just Missin' Him!!</td>\n      <td>negative</td>\n      <td>0</td>\n      <td>1</td>\n    </tr>\n    <tr>\n      <th>32</th>\n      <td>25246</td>\n      <td>@nicholasmegalis I'm an oldschool Joker fan ev...</td>\n      <td>negative</td>\n      <td>0</td>\n      <td>1</td>\n    </tr>\n    <tr>\n      <th>35</th>\n      <td>26990</td>\n      <td>@delightful9 but tegan is in victoria right no...</td>\n      <td>negative</td>\n      <td>0</td>\n      <td>1</td>\n    </tr>\n  </tbody>\n</table>\n</div>"
     },
     "execution_count": 38,
     "metadata": {},
     "output_type": "execute_result"
    }
   ],
   "source": [
    "err = data_df_new[data_df_new['pred'] != data_df_new['target_bin']]\n",
    "err.head(5)"
   ],
   "metadata": {
    "collapsed": false,
    "pycharm": {
     "name": "#%%\n"
    }
   }
  },
  {
   "cell_type": "code",
   "execution_count": 39,
   "outputs": [
    {
     "name": "stdout",
     "output_type": "stream",
     "text": [
      "prepay for my BM lisan karangan now... \n",
      "@adlantis  Clean Me!\n",
      "Not Much To Say .. I'm Just Missin' Him!! \n",
      "pred: 1 text OMG, just realized I have missed my locking dance class this afternoon!! \n",
      "pred: 1 text jazz_santi follows me now, hes freaking awesome, a great supririsie to wake up to...especily if u wear to be in school like 4 hours ago \n",
      "pred: 0 text just bored and about to FINALLY ;o get off of myspace \n"
     ]
    }
   ],
   "source": [
    "print(err.tweet.iloc[0])\n",
    "print(err.tweet.iloc[1])\n",
    "print(err.tweet.iloc[2])\n",
    "print('pred:',err.pred.iloc[5],'text',err.tweet.iloc[5])\n",
    "print('pred:',err.pred.iloc[8],'text',err.tweet.iloc[8])\n",
    "\n",
    "print('pred:',err.pred.iloc[545],'text',err.tweet.iloc[545])\n",
    "\n"
   ],
   "metadata": {
    "collapsed": false,
    "pycharm": {
     "name": "#%%\n"
    }
   }
  }
 ],
 "metadata": {
  "kernelspec": {
   "display_name": "Python 3",
   "language": "python",
   "name": "python3"
  },
  "language_info": {
   "codemirror_mode": {
    "name": "ipython",
    "version": 2
   },
   "file_extension": ".py",
   "mimetype": "text/x-python",
   "name": "python",
   "nbconvert_exporter": "python",
   "pygments_lexer": "ipython2",
   "version": "2.7.6"
  }
 },
 "nbformat": 4,
 "nbformat_minor": 0
}