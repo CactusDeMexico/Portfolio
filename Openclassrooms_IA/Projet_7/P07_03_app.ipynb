{
 "cells": [
  {
   "cell_type": "markdown",
   "source": [
    "# Projet 7 :  Détectez les Bad Buzz grâce au Deep Learning\n",
    "## Website\n",
    "<font color = \"grey\"><i> Chargement des modules necessaires </i></font>"
   ],
   "metadata": {
    "collapsed": false,
    "pycharm": {
     "name": "#%% md\n"
    }
   }
  },
  {
   "cell_type": "code",
   "execution_count": null,
   "metadata": {
    "collapsed": true
   },
   "outputs": [],
   "source": []
  },
  {
   "cell_type": "code",
   "execution_count": 1,
   "outputs": [
    {
     "name": "stderr",
     "output_type": "stream",
     "text": [
      "C:\\Users\\marj1\\AppData\\Local\\Temp/ipykernel_37040/888921169.py:2: UserWarning: \n",
      "The dash_core_components package is deprecated. Please replace\n",
      "`import dash_core_components as dcc` with `from dash import dcc`\n",
      "  import dash_core_components as dcc\n",
      "C:\\Users\\marj1\\AppData\\Local\\Temp/ipykernel_37040/888921169.py:3: UserWarning: \n",
      "The dash_html_components package is deprecated. Please replace\n",
      "`import dash_html_components as html` with `from dash import html`\n",
      "  import dash_html_components as html\n"
     ]
    }
   ],
   "source": [
    "import dash\n",
    "import dash_core_components as dcc\n",
    "import dash_html_components as html\n",
    "import numpy as np\n",
    "\n",
    "import pandas as pd\n",
    "import tensorflow\n",
    "from tensorflow.keras.preprocessing.text import Tokenizer\n",
    "from tensorflow.keras.preprocessing.sequence import pad_sequences\n",
    "\n",
    "import spacy\n",
    "import re\n",
    "import string\n",
    "import os\n",
    "\n",
    "import dash_bootstrap_components as dbc\n",
    "from dash.dependencies import Output, State, Input"
   ],
   "metadata": {
    "collapsed": false,
    "pycharm": {
     "name": "#%%\n"
    }
   }
  },
  {
   "cell_type": "markdown",
   "source": [
    "<font color = \"grey\"><i> Chargement du dataframe  </i></font>"
   ],
   "metadata": {
    "collapsed": false
   }
  },
  {
   "cell_type": "code",
   "execution_count": 2,
   "outputs": [
    {
     "name": "stdout",
     "output_type": "stream",
     "text": [
      "path : C:\\Users\\marj1\\PycharmProjects\\projet7\\data\n"
     ]
    }
   ],
   "source": [
    "import plotly.graph_objects as go\n",
    "\n",
    "\n",
    "\n",
    "\n",
    "\n",
    "import main\n",
    "\n",
    "assets_path = os.getcwd() +'\\data'\n",
    "print(\"path :\",assets_path)"
   ],
   "metadata": {
    "collapsed": false,
    "pycharm": {
     "name": "#%%\n"
    }
   }
  },
  {
   "cell_type": "code",
   "execution_count": 3,
   "outputs": [],
   "source": [
    "def load_model():\n",
    "    global RNN\n",
    "    global tokenizer\n",
    "    global nlp\n",
    "    print('chargement')\n",
    "    RNN = tensorflow.keras.models.load_model('saved_model/', compile=True)\n",
    "\n",
    "    data_df = pd.read_csv('data/under_sampling_10000_clean.csv',\n",
    "                          encoding='latin',\n",
    "                          delimiter=\",\")\n",
    "    data_df['clean_tweet'] = data_df['clean_tweet'].astype(str)\n",
    "    tokenizer = Tokenizer(nb_words=2500, lower=True, split=' ')\n",
    "    tokenizer.fit_on_texts(data_df['clean_tweet'].values)\n",
    "    nlp = spacy.load('en_core_web_sm')\n",
    "\n",
    "\n",
    "\n",
    "def preprocess_reviews(reviews):\n",
    "    REPLACE_NO_SPACE = re.compile(\"[.;:!\\?,\\\"()\\[\\]]\")\n",
    "    REPLACE_WITH_SPACE = re.compile(\"(<br\\s*/><br\\s*/>)|(\\-)|(\\/)|(\\n)|(')|[0-9]\")\n",
    "    reviews = [REPLACE_NO_SPACE.sub(\"\", line.lower()) for line in reviews]\n",
    "    reviews = [REPLACE_WITH_SPACE.sub(\" \", line) for line in reviews]\n",
    "\n",
    "    return reviews\n",
    "\n",
    "\n",
    "def get_lemmatized_text(corpus):\n",
    "    lem = [' '.join([token.lemma_ for token in nlp(review)]) for review in corpus]\n",
    "    return lem\n",
    "\n",
    "\n",
    "\n",
    "def remove_stop_words(corpus, stop_words):\n",
    "    removed_stop_words = []\n",
    "    for review in corpus:\n",
    "        removed_stop_words.append(\n",
    "            ' '.join([word for word in review.split()\n",
    "                      if word not in stop_words])\n",
    "            )\n",
    "    return removed_stop_words\n",
    "\n",
    "def predict(tweet):\n",
    "\n",
    "    MAX_WORDS = 21\n",
    "\n",
    "    out = [tweet]\n",
    "    out = preprocess_reviews(out)\n",
    "\n",
    "    sp = string.punctuation\n",
    "    out = list(map(lambda t: ''.join([\"\" if c.isdigit() else c for c in t]), out))\n",
    "    out = list(map(lambda t: ''.join([\"\" if c in sp else c for c in t]), out))\n",
    "    out = list(map(str.lower, out))\n",
    "\n",
    "    out = get_lemmatized_text(out)\n",
    "    stop_words_ot = ['a', 'about', 'above', 'the', 'after', 'my', 'me', 'our',\n",
    "                     'your', 'i', 'we', 'you', 'he', 'she', 'they',\n",
    "                     'their', 'in', 'until', 'before', 'it', 'and', 'at', 'of']\n",
    "\n",
    "    out = remove_stop_words(out, stop_words_ot)\n",
    "\n",
    "    X = tokenizer.texts_to_sequences(out)\n",
    "\n",
    "    vect = pad_sequences(X, maxlen=MAX_WORDS, padding='post')\n",
    "\n",
    "    sentiment = RNN.predict(vect)\n",
    "\n",
    "    my_prediction = np.argmax(sentiment, axis=1)\n",
    "\n",
    "    result = ['positif' if lbl == 1 else 'négatif' for lbl in my_prediction]\n",
    "\n",
    "    return(result)"
   ],
   "metadata": {
    "collapsed": false,
    "pycharm": {
     "name": "#%%\n"
    }
   }
  },
  {
   "cell_type": "markdown",
   "source": [
    "<font color = \"grey\"><i> Configuration donnée dashboard </i></font>"
   ],
   "metadata": {
    "collapsed": false
   }
  },
  {
   "cell_type": "code",
   "execution_count": 4,
   "outputs": [
    {
     "name": "stdout",
     "output_type": "stream",
     "text": [
      "chargement\n"
     ]
    },
    {
     "name": "stderr",
     "output_type": "stream",
     "text": [
      "c:\\users\\marj1\\pycharmprojects\\projet7\\env\\lib\\site-packages\\keras_preprocessing\\text.py:180: UserWarning: The `nb_words` argument in `Tokenizer` has been renamed `num_words`.\n",
      "  warnings.warn('The `nb_words` argument in `Tokenizer` '\n"
     ]
    }
   ],
   "source": [
    "load_model()"
   ],
   "metadata": {
    "collapsed": false,
    "pycharm": {
     "name": "#%%\n"
    }
   }
  },
  {
   "cell_type": "code",
   "execution_count": 5,
   "outputs": [
    {
     "name": "stdout",
     "output_type": "stream",
     "text": [
      "['positif']\n"
     ]
    }
   ],
   "source": [
    "x = predict(\"I feel good\")\n",
    "print(\"I feel good :\",x)"
   ],
   "metadata": {
    "collapsed": false,
    "pycharm": {
     "name": "#%%\n"
    }
   }
  },
  {
   "cell_type": "code",
   "execution_count": 6,
   "outputs": [
    {
     "name": "stdout",
     "output_type": "stream",
     "text": [
      "['négatif']\n"
     ]
    }
   ],
   "source": [
    "x = predict(\"I feel bad\")\n",
    "print(\"I feel bad:\", x)\n",
    "\n"
   ],
   "metadata": {
    "collapsed": false,
    "pycharm": {
     "name": "#%%\n"
    }
   }
  },
  {
   "cell_type": "code",
   "execution_count": 7,
   "outputs": [
    {
     "name": "stdout",
     "output_type": "stream",
     "text": [
      "chargement\n"
     ]
    }
   ],
   "source": [
    "\n",
    "external_stylesheets = ['https://codepen.io/chriddyp/pen/bWLwgP.css',dbc.themes.BOOTSTRAP]\n",
    "load_model()\n",
    "app = dash.Dash(__name__,assets_folder=assets_path,\n",
    "                external_stylesheets=external_stylesheets)\n",
    "\n",
    "app.layout = html.Div(children=[\n",
    "             html.Div([\n",
    "                html.H1(\"Prédiction de sentiment\",style={'font-size': '60px'})\n",
    "                  ], className='row'),\n",
    "                html.Div(children=[\n",
    "                    html.Div(children=[\n",
    "                         dcc.Input(id='username', value='I feel bad', type='text', style={'font-size': '20px'})\n",
    "                    ], className='two columns',style = {'width': '25%','height': '100%'}),\n",
    "                    html.Div(children=[\n",
    "                          html.Button(id='submit-button', type='submit', children='Prédire',\n",
    "                                      className='button-primary',style = {'font-size': '20px','border-radius': '8px'}),\n",
    "                    ], className='two columns',style = {'padding-rigth': '2%'}),\n",
    "                html.Div(children=[\n",
    "                    dbc.Alert(id='output_div', color=\"primary\",style={'font-size': '20px'})\n",
    "                ], className='row',style = {'padding': '2%'}),\n",
    "\n",
    "\n",
    "\n",
    "                    ], className='row')\n",
    "    ],style = {'padding' : '20%'})\n",
    "\n",
    "@app.callback(Output('output_div', 'children'),\n",
    "              [Input('submit-button', 'n_clicks')],\n",
    "              [State('username', 'value')],\n",
    "              )\n",
    "def update_output(clicks, input_value):\n",
    "    if clicks is not None:\n",
    "        print(clicks, input_value)\n",
    "        output = predict(input_value)\n",
    "        output = str(output[0])\n",
    "        print(clicks, input_value, ' pred',output)\n",
    "        return output"
   ],
   "metadata": {
    "collapsed": false,
    "pycharm": {
     "name": "#%%\n"
    }
   }
  },
  {
   "cell_type": "markdown",
   "source": [
    "<font color = \"grey\"><i> Lancement dashboard  </i></font>"
   ],
   "metadata": {
    "collapsed": false
   }
  },
  {
   "cell_type": "code",
   "execution_count": null,
   "outputs": [
    {
     "name": "stdout",
     "output_type": "stream",
     "text": [
      "Dash is running on http://127.0.0.1:8050/\n",
      "\n",
      " * Serving Flask app '__main__' (lazy loading)\n",
      " * Environment: production\n",
      "   WARNING: This is a development server. Do not use it in a production deployment.\n",
      "   Use a production WSGI server instead.\n",
      " * Debug mode: on\n"
     ]
    }
   ],
   "source": [
    "app.run_server(debug=True, use_reloader=False)"
   ],
   "metadata": {
    "collapsed": false,
    "pycharm": {
     "name": "#%%\n",
     "is_executing": true
    }
   }
  }
 ],
 "metadata": {
  "kernelspec": {
   "display_name": "Python 3",
   "language": "python",
   "name": "python3"
  },
  "language_info": {
   "codemirror_mode": {
    "name": "ipython",
    "version": 2
   },
   "file_extension": ".py",
   "mimetype": "text/x-python",
   "name": "python",
   "nbconvert_exporter": "python",
   "pygments_lexer": "ipython2",
   "version": "2.7.6"
  }
 },
 "nbformat": 4,
 "nbformat_minor": 0
}