{
 "cells": [
  {
   "cell_type": "code",
   "execution_count": 93,
   "outputs": [],
   "source": [
    "import numpy as np\n",
    "import pandas as pd\n",
    "from pandas import DataFrame\n",
    "from matplotlib import pyplot as plt\n",
    "\n",
    "import seaborn as sns\n",
    "import warnings\n",
    "import csv"
   ],
   "metadata": {
    "collapsed": false,
    "pycharm": {
     "name": "#%%\n"
    }
   }
  },
  {
   "cell_type": "code",
   "execution_count": 94,
   "outputs": [
    {
     "data": {
      "text/plain": "         0  1467810369  Mon Apr 06 22:19:45 PDT 2009  NO_QUERY  \\\n0        0  1467810672  Mon Apr 06 22:19:49 PDT 2009  NO_QUERY   \n1        0  1467810917  Mon Apr 06 22:19:53 PDT 2009  NO_QUERY   \n2        0  1467811184  Mon Apr 06 22:19:57 PDT 2009  NO_QUERY   \n3        0  1467811193  Mon Apr 06 22:19:57 PDT 2009  NO_QUERY   \n4        0  1467811372  Mon Apr 06 22:20:00 PDT 2009  NO_QUERY   \n...     ..         ...                           ...       ...   \n1599994  4  2193601966  Tue Jun 16 08:40:49 PDT 2009  NO_QUERY   \n1599995  4  2193601969  Tue Jun 16 08:40:49 PDT 2009  NO_QUERY   \n1599996  4  2193601991  Tue Jun 16 08:40:49 PDT 2009  NO_QUERY   \n1599997  4  2193602064  Tue Jun 16 08:40:49 PDT 2009  NO_QUERY   \n1599998  4  2193602129  Tue Jun 16 08:40:50 PDT 2009  NO_QUERY   \n\n         _TheSpecialOne_  \\\n0          scotthamilton   \n1               mattycus   \n2                ElleCTF   \n3                 Karoli   \n4               joy_wolf   \n...                  ...   \n1599994  AmandaMarie1028   \n1599995      TheWDBoards   \n1599996           bpbabe   \n1599997     tinydiamondz   \n1599998   RyanTrevMorris   \n\n        @switchfoot http://twitpic.com/2y1zl - Awww, that's a bummer.  You shoulda got David Carr of Third Day to do it. ;D  \n0        is upset that he can't update his Facebook by ...                                                                   \n1        @Kenichan I dived many times for the ball. Man...                                                                   \n2          my whole body feels itchy and like its on fire                                                                    \n3        @nationwideclass no, it's not behaving at all....                                                                   \n4                            @Kwesidei not the whole crew                                                                    \n...                                                    ...                                                                   \n1599994  Just woke up. Having no school is the best fee...                                                                   \n1599995  TheWDB.com - Very cool to hear old Walt interv...                                                                   \n1599996  Are you ready for your MoJo Makeover? Ask me f...                                                                   \n1599997  Happy 38th Birthday to my boo of alll time!!! ...                                                                   \n1599998  happy #charitytuesday @theNSPCC @SparksCharity...                                                                   \n\n[1599999 rows x 6 columns]",
      "text/html": "<div>\n<style scoped>\n    .dataframe tbody tr th:only-of-type {\n        vertical-align: middle;\n    }\n\n    .dataframe tbody tr th {\n        vertical-align: top;\n    }\n\n    .dataframe thead th {\n        text-align: right;\n    }\n</style>\n<table border=\"1\" class=\"dataframe\">\n  <thead>\n    <tr style=\"text-align: right;\">\n      <th></th>\n      <th>0</th>\n      <th>1467810369</th>\n      <th>Mon Apr 06 22:19:45 PDT 2009</th>\n      <th>NO_QUERY</th>\n      <th>_TheSpecialOne_</th>\n      <th>@switchfoot http://twitpic.com/2y1zl - Awww, that's a bummer.  You shoulda got David Carr of Third Day to do it. ;D</th>\n    </tr>\n  </thead>\n  <tbody>\n    <tr>\n      <th>0</th>\n      <td>0</td>\n      <td>1467810672</td>\n      <td>Mon Apr 06 22:19:49 PDT 2009</td>\n      <td>NO_QUERY</td>\n      <td>scotthamilton</td>\n      <td>is upset that he can't update his Facebook by ...</td>\n    </tr>\n    <tr>\n      <th>1</th>\n      <td>0</td>\n      <td>1467810917</td>\n      <td>Mon Apr 06 22:19:53 PDT 2009</td>\n      <td>NO_QUERY</td>\n      <td>mattycus</td>\n      <td>@Kenichan I dived many times for the ball. Man...</td>\n    </tr>\n    <tr>\n      <th>2</th>\n      <td>0</td>\n      <td>1467811184</td>\n      <td>Mon Apr 06 22:19:57 PDT 2009</td>\n      <td>NO_QUERY</td>\n      <td>ElleCTF</td>\n      <td>my whole body feels itchy and like its on fire</td>\n    </tr>\n    <tr>\n      <th>3</th>\n      <td>0</td>\n      <td>1467811193</td>\n      <td>Mon Apr 06 22:19:57 PDT 2009</td>\n      <td>NO_QUERY</td>\n      <td>Karoli</td>\n      <td>@nationwideclass no, it's not behaving at all....</td>\n    </tr>\n    <tr>\n      <th>4</th>\n      <td>0</td>\n      <td>1467811372</td>\n      <td>Mon Apr 06 22:20:00 PDT 2009</td>\n      <td>NO_QUERY</td>\n      <td>joy_wolf</td>\n      <td>@Kwesidei not the whole crew</td>\n    </tr>\n    <tr>\n      <th>...</th>\n      <td>...</td>\n      <td>...</td>\n      <td>...</td>\n      <td>...</td>\n      <td>...</td>\n      <td>...</td>\n    </tr>\n    <tr>\n      <th>1599994</th>\n      <td>4</td>\n      <td>2193601966</td>\n      <td>Tue Jun 16 08:40:49 PDT 2009</td>\n      <td>NO_QUERY</td>\n      <td>AmandaMarie1028</td>\n      <td>Just woke up. Having no school is the best fee...</td>\n    </tr>\n    <tr>\n      <th>1599995</th>\n      <td>4</td>\n      <td>2193601969</td>\n      <td>Tue Jun 16 08:40:49 PDT 2009</td>\n      <td>NO_QUERY</td>\n      <td>TheWDBoards</td>\n      <td>TheWDB.com - Very cool to hear old Walt interv...</td>\n    </tr>\n    <tr>\n      <th>1599996</th>\n      <td>4</td>\n      <td>2193601991</td>\n      <td>Tue Jun 16 08:40:49 PDT 2009</td>\n      <td>NO_QUERY</td>\n      <td>bpbabe</td>\n      <td>Are you ready for your MoJo Makeover? Ask me f...</td>\n    </tr>\n    <tr>\n      <th>1599997</th>\n      <td>4</td>\n      <td>2193602064</td>\n      <td>Tue Jun 16 08:40:49 PDT 2009</td>\n      <td>NO_QUERY</td>\n      <td>tinydiamondz</td>\n      <td>Happy 38th Birthday to my boo of alll time!!! ...</td>\n    </tr>\n    <tr>\n      <th>1599998</th>\n      <td>4</td>\n      <td>2193602129</td>\n      <td>Tue Jun 16 08:40:50 PDT 2009</td>\n      <td>NO_QUERY</td>\n      <td>RyanTrevMorris</td>\n      <td>happy #charitytuesday @theNSPCC @SparksCharity...</td>\n    </tr>\n  </tbody>\n</table>\n<p>1599999 rows × 6 columns</p>\n</div>"
     },
     "execution_count": 94,
     "metadata": {},
     "output_type": "execute_result"
    }
   ],
   "source": [
    "\n",
    "missing_values = [\"na\", \"n/a\", \"--\", \" \"]\n",
    "data_df = pd.read_csv('data/training.1600000.processed.noemoticon.csv',\n",
    "                      encoding='latin',\n",
    "                      delimiter=\",\")\n",
    "\n",
    "data_df\n"
   ],
   "metadata": {
    "collapsed": false,
    "pycharm": {
     "name": "#%%\n"
    }
   }
  },
  {
   "cell_type": "code",
   "execution_count": 95,
   "outputs": [],
   "source": [
    "\n",
    "\n",
    "data_df.columns\n",
    "data_df = data_df.rename(columns={'0': 'sentiment', data_df.columns[1]: 'id',data_df.columns[2]: 'date', data_df.columns[3]: 'flag',\n",
    "                                  data_df.columns[4]: 'user', data_df.columns[5]: 'tweet'})"
   ],
   "metadata": {
    "collapsed": false,
    "pycharm": {
     "name": "#%%\n"
    }
   }
  },
  {
   "cell_type": "code",
   "execution_count": 96,
   "outputs": [
    {
     "data": {
      "text/plain": "array([0, 4], dtype=int64)"
     },
     "execution_count": 96,
     "metadata": {},
     "output_type": "execute_result"
    }
   ],
   "source": [
    "data_df['sentiment'].unique()"
   ],
   "metadata": {
    "collapsed": false,
    "pycharm": {
     "name": "#%%\n"
    }
   }
  },
  {
   "cell_type": "markdown",
   "source": [
    "Le variable sentiment représente le sentiment du tweet qui se compose en 5 valeurs :\n",
    "\n",
    "| Sentiment   | Représentation |\n",
    "|-------------|-------------|\n",
    "| 0           | Négative       |\n",
    "| 1           | Négative        |\n",
    "| 2          | Neutre           |\n",
    "| 3         | Positive           |\n",
    "| 4         | Positive            |"
   ],
   "metadata": {
    "collapsed": false
   }
  },
  {
   "cell_type": "code",
   "execution_count": 97,
   "outputs": [
    {
     "data": {
      "text/plain": "   sentiment  Nombre\n0          4  800000\n1          0  799999",
      "text/html": "<div>\n<style scoped>\n    .dataframe tbody tr th:only-of-type {\n        vertical-align: middle;\n    }\n\n    .dataframe tbody tr th {\n        vertical-align: top;\n    }\n\n    .dataframe thead th {\n        text-align: right;\n    }\n</style>\n<table border=\"1\" class=\"dataframe\">\n  <thead>\n    <tr style=\"text-align: right;\">\n      <th></th>\n      <th>sentiment</th>\n      <th>Nombre</th>\n    </tr>\n  </thead>\n  <tbody>\n    <tr>\n      <th>0</th>\n      <td>4</td>\n      <td>800000</td>\n    </tr>\n    <tr>\n      <th>1</th>\n      <td>0</td>\n      <td>799999</td>\n    </tr>\n  </tbody>\n</table>\n</div>"
     },
     "execution_count": 97,
     "metadata": {},
     "output_type": "execute_result"
    }
   ],
   "source": [
    "\n",
    "df_count = pd.DataFrame({'sentiment': data_df['sentiment'].value_counts().index,\n",
    "                            'Nombre': data_df['sentiment'].value_counts().values})\n",
    "df_count"
   ],
   "metadata": {
    "collapsed": false,
    "pycharm": {
     "name": "#%%\n"
    }
   }
  },
  {
   "cell_type": "code",
   "execution_count": 98,
   "outputs": [
    {
     "data": {
      "text/plain": "         sentiment          id                          date      flag  \\\n0                0  1467810672  Mon Apr 06 22:19:49 PDT 2009  NO_QUERY   \n1                0  1467810917  Mon Apr 06 22:19:53 PDT 2009  NO_QUERY   \n2                0  1467811184  Mon Apr 06 22:19:57 PDT 2009  NO_QUERY   \n3                0  1467811193  Mon Apr 06 22:19:57 PDT 2009  NO_QUERY   \n4                0  1467811372  Mon Apr 06 22:20:00 PDT 2009  NO_QUERY   \n...            ...         ...                           ...       ...   \n1599994          4  2193601966  Tue Jun 16 08:40:49 PDT 2009  NO_QUERY   \n1599995          4  2193601969  Tue Jun 16 08:40:49 PDT 2009  NO_QUERY   \n1599996          4  2193601991  Tue Jun 16 08:40:49 PDT 2009  NO_QUERY   \n1599997          4  2193602064  Tue Jun 16 08:40:49 PDT 2009  NO_QUERY   \n1599998          4  2193602129  Tue Jun 16 08:40:50 PDT 2009  NO_QUERY   \n\n                    user                                              tweet  \n0          scotthamilton  is upset that he can't update his Facebook by ...  \n1               mattycus  @Kenichan I dived many times for the ball. Man...  \n2                ElleCTF    my whole body feels itchy and like its on fire   \n3                 Karoli  @nationwideclass no, it's not behaving at all....  \n4               joy_wolf                      @Kwesidei not the whole crew   \n...                  ...                                                ...  \n1599994  AmandaMarie1028  Just woke up. Having no school is the best fee...  \n1599995      TheWDBoards  TheWDB.com - Very cool to hear old Walt interv...  \n1599996           bpbabe  Are you ready for your MoJo Makeover? Ask me f...  \n1599997     tinydiamondz  Happy 38th Birthday to my boo of alll time!!! ...  \n1599998   RyanTrevMorris  happy #charitytuesday @theNSPCC @SparksCharity...  \n\n[1599999 rows x 6 columns]",
      "text/html": "<div>\n<style scoped>\n    .dataframe tbody tr th:only-of-type {\n        vertical-align: middle;\n    }\n\n    .dataframe tbody tr th {\n        vertical-align: top;\n    }\n\n    .dataframe thead th {\n        text-align: right;\n    }\n</style>\n<table border=\"1\" class=\"dataframe\">\n  <thead>\n    <tr style=\"text-align: right;\">\n      <th></th>\n      <th>sentiment</th>\n      <th>id</th>\n      <th>date</th>\n      <th>flag</th>\n      <th>user</th>\n      <th>tweet</th>\n    </tr>\n  </thead>\n  <tbody>\n    <tr>\n      <th>0</th>\n      <td>0</td>\n      <td>1467810672</td>\n      <td>Mon Apr 06 22:19:49 PDT 2009</td>\n      <td>NO_QUERY</td>\n      <td>scotthamilton</td>\n      <td>is upset that he can't update his Facebook by ...</td>\n    </tr>\n    <tr>\n      <th>1</th>\n      <td>0</td>\n      <td>1467810917</td>\n      <td>Mon Apr 06 22:19:53 PDT 2009</td>\n      <td>NO_QUERY</td>\n      <td>mattycus</td>\n      <td>@Kenichan I dived many times for the ball. Man...</td>\n    </tr>\n    <tr>\n      <th>2</th>\n      <td>0</td>\n      <td>1467811184</td>\n      <td>Mon Apr 06 22:19:57 PDT 2009</td>\n      <td>NO_QUERY</td>\n      <td>ElleCTF</td>\n      <td>my whole body feels itchy and like its on fire</td>\n    </tr>\n    <tr>\n      <th>3</th>\n      <td>0</td>\n      <td>1467811193</td>\n      <td>Mon Apr 06 22:19:57 PDT 2009</td>\n      <td>NO_QUERY</td>\n      <td>Karoli</td>\n      <td>@nationwideclass no, it's not behaving at all....</td>\n    </tr>\n    <tr>\n      <th>4</th>\n      <td>0</td>\n      <td>1467811372</td>\n      <td>Mon Apr 06 22:20:00 PDT 2009</td>\n      <td>NO_QUERY</td>\n      <td>joy_wolf</td>\n      <td>@Kwesidei not the whole crew</td>\n    </tr>\n    <tr>\n      <th>...</th>\n      <td>...</td>\n      <td>...</td>\n      <td>...</td>\n      <td>...</td>\n      <td>...</td>\n      <td>...</td>\n    </tr>\n    <tr>\n      <th>1599994</th>\n      <td>4</td>\n      <td>2193601966</td>\n      <td>Tue Jun 16 08:40:49 PDT 2009</td>\n      <td>NO_QUERY</td>\n      <td>AmandaMarie1028</td>\n      <td>Just woke up. Having no school is the best fee...</td>\n    </tr>\n    <tr>\n      <th>1599995</th>\n      <td>4</td>\n      <td>2193601969</td>\n      <td>Tue Jun 16 08:40:49 PDT 2009</td>\n      <td>NO_QUERY</td>\n      <td>TheWDBoards</td>\n      <td>TheWDB.com - Very cool to hear old Walt interv...</td>\n    </tr>\n    <tr>\n      <th>1599996</th>\n      <td>4</td>\n      <td>2193601991</td>\n      <td>Tue Jun 16 08:40:49 PDT 2009</td>\n      <td>NO_QUERY</td>\n      <td>bpbabe</td>\n      <td>Are you ready for your MoJo Makeover? Ask me f...</td>\n    </tr>\n    <tr>\n      <th>1599997</th>\n      <td>4</td>\n      <td>2193602064</td>\n      <td>Tue Jun 16 08:40:49 PDT 2009</td>\n      <td>NO_QUERY</td>\n      <td>tinydiamondz</td>\n      <td>Happy 38th Birthday to my boo of alll time!!! ...</td>\n    </tr>\n    <tr>\n      <th>1599998</th>\n      <td>4</td>\n      <td>2193602129</td>\n      <td>Tue Jun 16 08:40:50 PDT 2009</td>\n      <td>NO_QUERY</td>\n      <td>RyanTrevMorris</td>\n      <td>happy #charitytuesday @theNSPCC @SparksCharity...</td>\n    </tr>\n  </tbody>\n</table>\n<p>1599999 rows × 6 columns</p>\n</div>"
     },
     "execution_count": 98,
     "metadata": {},
     "output_type": "execute_result"
    }
   ],
   "source": [
    "data_df"
   ],
   "metadata": {
    "collapsed": false,
    "pycharm": {
     "name": "#%%\n"
    }
   }
  },
  {
   "cell_type": "markdown",
   "source": [
    "Nous pouvons voir qu'il n'y a que 2 valeur pour l'instant 0 ou 4\n",
    "Creation d'un dataset de **200 000** équilibré avec une nouvelle variable Target qui a pour valeur 0 et 1:\n",
    "\n",
    "| Target | Sentiment   | Représentation |\n",
    "|-------------|-------------|-------------|\n",
    "| 0           | [0,1]        |Négative |\n",
    "| 1           | [3,4]           | Positive |\n",
    "\n"
   ],
   "metadata": {
    "collapsed": false,
    "pycharm": {
     "name": "#%% md\n"
    }
   }
  },
  {
   "cell_type": "code",
   "execution_count": 99,
   "outputs": [],
   "source": [
    "data_df['target'] = data_df['sentiment'].map({0: 0, 1: 0,\n",
    "                                              3: 1, 4: 1})"
   ],
   "metadata": {
    "collapsed": false,
    "pycharm": {
     "name": "#%%\n"
    }
   }
  },
  {
   "cell_type": "code",
   "execution_count": 100,
   "outputs": [
    {
     "data": {
      "text/plain": "   target  Nombre\n0       1  800000\n1       0  799999",
      "text/html": "<div>\n<style scoped>\n    .dataframe tbody tr th:only-of-type {\n        vertical-align: middle;\n    }\n\n    .dataframe tbody tr th {\n        vertical-align: top;\n    }\n\n    .dataframe thead th {\n        text-align: right;\n    }\n</style>\n<table border=\"1\" class=\"dataframe\">\n  <thead>\n    <tr style=\"text-align: right;\">\n      <th></th>\n      <th>target</th>\n      <th>Nombre</th>\n    </tr>\n  </thead>\n  <tbody>\n    <tr>\n      <th>0</th>\n      <td>1</td>\n      <td>800000</td>\n    </tr>\n    <tr>\n      <th>1</th>\n      <td>0</td>\n      <td>799999</td>\n    </tr>\n  </tbody>\n</table>\n</div>"
     },
     "execution_count": 100,
     "metadata": {},
     "output_type": "execute_result"
    }
   ],
   "source": [
    "\n",
    "df_count = pd.DataFrame({'target': data_df['target'].value_counts().index,\n",
    "                            'Nombre': data_df['target'].value_counts().values})\n",
    "df_count"
   ],
   "metadata": {
    "collapsed": false,
    "pycharm": {
     "name": "#%%\n"
    }
   }
  },
  {
   "cell_type": "markdown",
   "source": [
    "Undersimpling\n"
   ],
   "metadata": {
    "collapsed": false,
    "pycharm": {
     "name": "#%% md\n"
    }
   }
  },
  {
   "cell_type": "code",
   "execution_count": 101,
   "outputs": [],
   "source": [
    "def undersamppling(col,nb_row,df):\n",
    "\n",
    "    df_col_neg = df[df[col]==0]\n",
    "    df_col_pos = df[df[col]==1]\n",
    "    if nb_row%2 ==0:\n",
    "\n",
    "        return pd.concat([df_col_neg.sample(int(nb_row/2)), df_col_pos.sample(int(nb_row/2))]).sort_index()\n",
    "    else:\n",
    "        print('nb_row ',nb_row,' Est impaire rentrer, nb_row doit etre paire')\n",
    "        return df[:1]"
   ],
   "metadata": {
    "collapsed": false,
    "pycharm": {
     "name": "#%%\n"
    }
   }
  },
  {
   "cell_type": "code",
   "execution_count": 102,
   "outputs": [],
   "source": [
    "def undersamppling2(col,nb_row,df):\n",
    "\n",
    "    df_col_neg = df[df[col]==0]\n",
    "    df_col_pos = df[df[col]==1]\n",
    "    if nb_row%2 ==0:\n",
    "\n",
    "        return pd.concat([df[df[col]==0].sample(int(nb_row/2)), df[df[col]==1].sample(int(nb_row/2))]).sort_index()\n",
    "    else:\n",
    "        print('nb_row ',nb_row,' Est impaire rentrer, nb_row doit etre paire')\n",
    "        return df[:1]\n"
   ],
   "metadata": {
    "collapsed": false,
    "pycharm": {
     "name": "#%%\n"
    }
   }
  },
  {
   "cell_type": "code",
   "execution_count": 102,
   "outputs": [],
   "source": [],
   "metadata": {
    "collapsed": false,
    "pycharm": {
     "name": "#%%\n"
    }
   }
  },
  {
   "cell_type": "code",
   "execution_count": 103,
   "outputs": [
    {
     "data": {
      "text/plain": "         old_index          id                          date      flag  \\\n332              0  1467896211  Mon Apr 06 22:42:18 PDT 2009  NO_QUERY   \n406              0  1467915670  Mon Apr 06 22:47:41 PDT 2009  NO_QUERY   \n1832             0  1468244784  Tue Apr 07 00:30:49 PDT 2009  NO_QUERY   \n1943             0  1468268489  Tue Apr 07 00:38:59 PDT 2009  NO_QUERY   \n2732             0  1468442569  Tue Apr 07 01:41:50 PDT 2009  NO_QUERY   \n...            ...         ...                           ...       ...   \n1597382          4  2192912819  Tue Jun 16 07:43:56 PDT 2009  NO_QUERY   \n1597881          4  2193032795  Tue Jun 16 07:54:13 PDT 2009  NO_QUERY   \n1598284          4  2193152877  Tue Jun 16 08:04:06 PDT 2009  NO_QUERY   \n1598728          4  2193254701  Tue Jun 16 08:12:25 PDT 2009  NO_QUERY   \n1598987          4  2193319644  Tue Jun 16 08:17:46 PDT 2009  NO_QUERY   \n\n                    user                                              tweet  \\\n332         summerseelye                    michigan state you make me sad    \n406      lizziehalfpenny  why to we, the only school in the world, be in...   \n1832         SimonArloff  Why don't the hot guys from my gym get on my t...   \n1943           ElmosSexy  Nothing was sick all day it sucked im just up ...   \n2732             saradia  I know I shouldn't feel upset about losing a f...   \n...                  ...                                                ...   \n1597382        mahhriahh         @kaddyi If you come, totally we can hang!    \n1597881      AllaIceland        is starting to work on a new business plan    \n1598284            DKJ63      @ourladyj Congratulations on the new nephew.    \n1598728         kmconard                 Lunch with Megan and our mommies!    \n1598987  joeymartinortiz  Sometimes Love Comes Around Just Get Back Up W...   \n\n         target  \n332           0  \n406           0  \n1832          0  \n1943          0  \n2732          0  \n...         ...  \n1597382       1  \n1597881       1  \n1598284       1  \n1598728       1  \n1598987       1  \n\n[2000 rows x 7 columns]",
      "text/html": "<div>\n<style scoped>\n    .dataframe tbody tr th:only-of-type {\n        vertical-align: middle;\n    }\n\n    .dataframe tbody tr th {\n        vertical-align: top;\n    }\n\n    .dataframe thead th {\n        text-align: right;\n    }\n</style>\n<table border=\"1\" class=\"dataframe\">\n  <thead>\n    <tr style=\"text-align: right;\">\n      <th></th>\n      <th>old_index</th>\n      <th>id</th>\n      <th>date</th>\n      <th>flag</th>\n      <th>user</th>\n      <th>tweet</th>\n      <th>target</th>\n    </tr>\n  </thead>\n  <tbody>\n    <tr>\n      <th>332</th>\n      <td>0</td>\n      <td>1467896211</td>\n      <td>Mon Apr 06 22:42:18 PDT 2009</td>\n      <td>NO_QUERY</td>\n      <td>summerseelye</td>\n      <td>michigan state you make me sad</td>\n      <td>0</td>\n    </tr>\n    <tr>\n      <th>406</th>\n      <td>0</td>\n      <td>1467915670</td>\n      <td>Mon Apr 06 22:47:41 PDT 2009</td>\n      <td>NO_QUERY</td>\n      <td>lizziehalfpenny</td>\n      <td>why to we, the only school in the world, be in...</td>\n      <td>0</td>\n    </tr>\n    <tr>\n      <th>1832</th>\n      <td>0</td>\n      <td>1468244784</td>\n      <td>Tue Apr 07 00:30:49 PDT 2009</td>\n      <td>NO_QUERY</td>\n      <td>SimonArloff</td>\n      <td>Why don't the hot guys from my gym get on my t...</td>\n      <td>0</td>\n    </tr>\n    <tr>\n      <th>1943</th>\n      <td>0</td>\n      <td>1468268489</td>\n      <td>Tue Apr 07 00:38:59 PDT 2009</td>\n      <td>NO_QUERY</td>\n      <td>ElmosSexy</td>\n      <td>Nothing was sick all day it sucked im just up ...</td>\n      <td>0</td>\n    </tr>\n    <tr>\n      <th>2732</th>\n      <td>0</td>\n      <td>1468442569</td>\n      <td>Tue Apr 07 01:41:50 PDT 2009</td>\n      <td>NO_QUERY</td>\n      <td>saradia</td>\n      <td>I know I shouldn't feel upset about losing a f...</td>\n      <td>0</td>\n    </tr>\n    <tr>\n      <th>...</th>\n      <td>...</td>\n      <td>...</td>\n      <td>...</td>\n      <td>...</td>\n      <td>...</td>\n      <td>...</td>\n      <td>...</td>\n    </tr>\n    <tr>\n      <th>1597382</th>\n      <td>4</td>\n      <td>2192912819</td>\n      <td>Tue Jun 16 07:43:56 PDT 2009</td>\n      <td>NO_QUERY</td>\n      <td>mahhriahh</td>\n      <td>@kaddyi If you come, totally we can hang!</td>\n      <td>1</td>\n    </tr>\n    <tr>\n      <th>1597881</th>\n      <td>4</td>\n      <td>2193032795</td>\n      <td>Tue Jun 16 07:54:13 PDT 2009</td>\n      <td>NO_QUERY</td>\n      <td>AllaIceland</td>\n      <td>is starting to work on a new business plan</td>\n      <td>1</td>\n    </tr>\n    <tr>\n      <th>1598284</th>\n      <td>4</td>\n      <td>2193152877</td>\n      <td>Tue Jun 16 08:04:06 PDT 2009</td>\n      <td>NO_QUERY</td>\n      <td>DKJ63</td>\n      <td>@ourladyj Congratulations on the new nephew.</td>\n      <td>1</td>\n    </tr>\n    <tr>\n      <th>1598728</th>\n      <td>4</td>\n      <td>2193254701</td>\n      <td>Tue Jun 16 08:12:25 PDT 2009</td>\n      <td>NO_QUERY</td>\n      <td>kmconard</td>\n      <td>Lunch with Megan and our mommies!</td>\n      <td>1</td>\n    </tr>\n    <tr>\n      <th>1598987</th>\n      <td>4</td>\n      <td>2193319644</td>\n      <td>Tue Jun 16 08:17:46 PDT 2009</td>\n      <td>NO_QUERY</td>\n      <td>joeymartinortiz</td>\n      <td>Sometimes Love Comes Around Just Get Back Up W...</td>\n      <td>1</td>\n    </tr>\n  </tbody>\n</table>\n<p>2000 rows × 7 columns</p>\n</div>"
     },
     "execution_count": 103,
     "metadata": {},
     "output_type": "execute_result"
    }
   ],
   "source": [
    "df_under_sampl_2000 = undersamppling('target',2000,data_df)\n",
    "\n",
    "df_under_sampl_2000 = df_under_sampl_2000.rename(columns={data_df.columns[0]: 'old_index'})\n",
    "df_under_sampl_2000"
   ],
   "metadata": {
    "collapsed": false,
    "pycharm": {
     "name": "#%%\n"
    }
   }
  },
  {
   "cell_type": "code",
   "execution_count": 104,
   "outputs": [],
   "source": [
    "df_under_sampl_2000.to_csv('data/under_sampling_2000.csv')"
   ],
   "metadata": {
    "collapsed": false,
    "pycharm": {
     "name": "#%%\n"
    }
   }
  },
  {
   "cell_type": "code",
   "execution_count": 105,
   "outputs": [
    {
     "data": {
      "text/plain": "         old_index          id                          date      flag  \\\n711              0  1467988612  Mon Apr 06 23:08:23 PDT 2009  NO_QUERY   \n789              0  1468006296  Mon Apr 06 23:13:27 PDT 2009  NO_QUERY   \n1250             0  1468115272  Mon Apr 06 23:47:50 PDT 2009  NO_QUERY   \n1365             0  1468137623  Mon Apr 06 23:55:14 PDT 2009  NO_QUERY   \n1495             0  1468167471  Tue Apr 07 00:05:01 PDT 2009  NO_QUERY   \n...            ...         ...                           ...       ...   \n1597974          4  2193056628  Tue Jun 16 07:56:15 PDT 2009  NO_QUERY   \n1598022          4  2193079512  Tue Jun 16 07:58:10 PDT 2009  NO_QUERY   \n1598083          4  2193082210  Tue Jun 16 07:58:23 PDT 2009  NO_QUERY   \n1598724          4  2193254324  Tue Jun 16 08:12:23 PDT 2009  NO_QUERY   \n1599401          4  2193428755  Tue Jun 16 08:26:47 PDT 2009  NO_QUERY   \n\n                    user                                              tweet  \\\n711         jackdanielzz  @ikimb0 i just seen ur tweet . plz write bak i...   \n789           shroedernz    going thru town and traffic on bypass is stink    \n1250     danielcalderonL  @aniita_0517 Yes i did. That's a sad topic for...   \n1365       kussenvandeth  I was woken up from a deep sleep just to be le...   \n1495       intoxxication  @ylizabeth because you died, and i never see y...   \n...                  ...                                                ...   \n1597974          rdrmr17  Finally up. Class at 1pm today. I'm buying a w...   \n1598022            lozjg           Back home where the internet runs free.    \n1598083       RockOrchid  Happy JONAS DAY , hahahahah  ^^ sooo much fan ...   \n1598724       jtonydavis  I need cheap, or free, video editing software....   \n1599401  craftyasparagus  I'm using @MrTweet to recommend one person per...   \n\n         target  \n711           0  \n789           0  \n1250          0  \n1365          0  \n1495          0  \n...         ...  \n1597974       1  \n1598022       1  \n1598083       1  \n1598724       1  \n1599401       1  \n\n[5000 rows x 7 columns]",
      "text/html": "<div>\n<style scoped>\n    .dataframe tbody tr th:only-of-type {\n        vertical-align: middle;\n    }\n\n    .dataframe tbody tr th {\n        vertical-align: top;\n    }\n\n    .dataframe thead th {\n        text-align: right;\n    }\n</style>\n<table border=\"1\" class=\"dataframe\">\n  <thead>\n    <tr style=\"text-align: right;\">\n      <th></th>\n      <th>old_index</th>\n      <th>id</th>\n      <th>date</th>\n      <th>flag</th>\n      <th>user</th>\n      <th>tweet</th>\n      <th>target</th>\n    </tr>\n  </thead>\n  <tbody>\n    <tr>\n      <th>711</th>\n      <td>0</td>\n      <td>1467988612</td>\n      <td>Mon Apr 06 23:08:23 PDT 2009</td>\n      <td>NO_QUERY</td>\n      <td>jackdanielzz</td>\n      <td>@ikimb0 i just seen ur tweet . plz write bak i...</td>\n      <td>0</td>\n    </tr>\n    <tr>\n      <th>789</th>\n      <td>0</td>\n      <td>1468006296</td>\n      <td>Mon Apr 06 23:13:27 PDT 2009</td>\n      <td>NO_QUERY</td>\n      <td>shroedernz</td>\n      <td>going thru town and traffic on bypass is stink</td>\n      <td>0</td>\n    </tr>\n    <tr>\n      <th>1250</th>\n      <td>0</td>\n      <td>1468115272</td>\n      <td>Mon Apr 06 23:47:50 PDT 2009</td>\n      <td>NO_QUERY</td>\n      <td>danielcalderonL</td>\n      <td>@aniita_0517 Yes i did. That's a sad topic for...</td>\n      <td>0</td>\n    </tr>\n    <tr>\n      <th>1365</th>\n      <td>0</td>\n      <td>1468137623</td>\n      <td>Mon Apr 06 23:55:14 PDT 2009</td>\n      <td>NO_QUERY</td>\n      <td>kussenvandeth</td>\n      <td>I was woken up from a deep sleep just to be le...</td>\n      <td>0</td>\n    </tr>\n    <tr>\n      <th>1495</th>\n      <td>0</td>\n      <td>1468167471</td>\n      <td>Tue Apr 07 00:05:01 PDT 2009</td>\n      <td>NO_QUERY</td>\n      <td>intoxxication</td>\n      <td>@ylizabeth because you died, and i never see y...</td>\n      <td>0</td>\n    </tr>\n    <tr>\n      <th>...</th>\n      <td>...</td>\n      <td>...</td>\n      <td>...</td>\n      <td>...</td>\n      <td>...</td>\n      <td>...</td>\n      <td>...</td>\n    </tr>\n    <tr>\n      <th>1597974</th>\n      <td>4</td>\n      <td>2193056628</td>\n      <td>Tue Jun 16 07:56:15 PDT 2009</td>\n      <td>NO_QUERY</td>\n      <td>rdrmr17</td>\n      <td>Finally up. Class at 1pm today. I'm buying a w...</td>\n      <td>1</td>\n    </tr>\n    <tr>\n      <th>1598022</th>\n      <td>4</td>\n      <td>2193079512</td>\n      <td>Tue Jun 16 07:58:10 PDT 2009</td>\n      <td>NO_QUERY</td>\n      <td>lozjg</td>\n      <td>Back home where the internet runs free.</td>\n      <td>1</td>\n    </tr>\n    <tr>\n      <th>1598083</th>\n      <td>4</td>\n      <td>2193082210</td>\n      <td>Tue Jun 16 07:58:23 PDT 2009</td>\n      <td>NO_QUERY</td>\n      <td>RockOrchid</td>\n      <td>Happy JONAS DAY , hahahahah  ^^ sooo much fan ...</td>\n      <td>1</td>\n    </tr>\n    <tr>\n      <th>1598724</th>\n      <td>4</td>\n      <td>2193254324</td>\n      <td>Tue Jun 16 08:12:23 PDT 2009</td>\n      <td>NO_QUERY</td>\n      <td>jtonydavis</td>\n      <td>I need cheap, or free, video editing software....</td>\n      <td>1</td>\n    </tr>\n    <tr>\n      <th>1599401</th>\n      <td>4</td>\n      <td>2193428755</td>\n      <td>Tue Jun 16 08:26:47 PDT 2009</td>\n      <td>NO_QUERY</td>\n      <td>craftyasparagus</td>\n      <td>I'm using @MrTweet to recommend one person per...</td>\n      <td>1</td>\n    </tr>\n  </tbody>\n</table>\n<p>5000 rows × 7 columns</p>\n</div>"
     },
     "execution_count": 105,
     "metadata": {},
     "output_type": "execute_result"
    }
   ],
   "source": [
    "df_under_sampl_50000 = undersamppling('target',5000,data_df)\n",
    "\n",
    "df_under_sampl_50000 = df_under_sampl_50000.rename(columns={data_df.columns[0]: 'old_index'})\n",
    "df_under_sampl_50000"
   ],
   "metadata": {
    "collapsed": false,
    "pycharm": {
     "name": "#%%\n"
    }
   }
  },
  {
   "cell_type": "code",
   "execution_count": 106,
   "outputs": [],
   "source": [
    "df_under_sampl_50000.to_csv('data/under_sampling_50000.csv')"
   ],
   "metadata": {
    "collapsed": false,
    "pycharm": {
     "name": "#%%\n"
    }
   }
  },
  {
   "cell_type": "markdown",
   "source": [
    "précis"
   ],
   "metadata": {
    "collapsed": false,
    "pycharm": {
     "name": "#%% md\n"
    }
   }
  },
  {
   "cell_type": "code",
   "execution_count": 107,
   "outputs": [],
   "source": [
    "data_df['target'] = data_df['sentiment'].map({0: 0, 1: 0,\n",
    "                                              3: 2, 4: 1})"
   ],
   "metadata": {
    "collapsed": false,
    "pycharm": {
     "name": "#%%\n"
    }
   }
  },
  {
   "cell_type": "code",
   "execution_count": 108,
   "outputs": [
    {
     "data": {
      "text/plain": "   target  Nombre\n0       1  800000\n1       0  799999",
      "text/html": "<div>\n<style scoped>\n    .dataframe tbody tr th:only-of-type {\n        vertical-align: middle;\n    }\n\n    .dataframe tbody tr th {\n        vertical-align: top;\n    }\n\n    .dataframe thead th {\n        text-align: right;\n    }\n</style>\n<table border=\"1\" class=\"dataframe\">\n  <thead>\n    <tr style=\"text-align: right;\">\n      <th></th>\n      <th>target</th>\n      <th>Nombre</th>\n    </tr>\n  </thead>\n  <tbody>\n    <tr>\n      <th>0</th>\n      <td>1</td>\n      <td>800000</td>\n    </tr>\n    <tr>\n      <th>1</th>\n      <td>0</td>\n      <td>799999</td>\n    </tr>\n  </tbody>\n</table>\n</div>"
     },
     "execution_count": 108,
     "metadata": {},
     "output_type": "execute_result"
    }
   ],
   "source": [
    "\n",
    "df_count = pd.DataFrame({'target': data_df['target'].value_counts().index,\n",
    "                            'Nombre': data_df['target'].value_counts().values})\n",
    "df_count"
   ],
   "metadata": {
    "collapsed": false,
    "pycharm": {
     "name": "#%%\n"
    }
   }
  },
  {
   "cell_type": "code",
   "execution_count": 109,
   "outputs": [],
   "source": [
    "df_under_sampl_2000= undersamppling('target',2000,data_df[['tweet','target']])"
   ],
   "metadata": {
    "collapsed": false,
    "pycharm": {
     "name": "#%%\n"
    }
   }
  },
  {
   "cell_type": "code",
   "execution_count": 110,
   "outputs": [
    {
     "data": {
      "text/plain": "                                                     tweet  target\n30       @alielayus I want to go to promote GEAR AND GR...       0\n198         couldn't get shit done today ~ i'm so screwed        0\n362      @Sara_Kate Im afraid too  ( ur reply about uni...       0\n1279     Yo jimo i cant talk on aim anymore, its glitch...       0\n2112     @rustyrockets do I sense a blog coming on?  To...       0\n...                                                    ...     ...\n1592304  @andrewtkelley that strawberry shortcake looks...       1\n1594844                              @WinonaWiefel thanks        1\n1594991  photographing Day of the African Child celebra...       1\n1599678                               @jasontancy thanks!        1\n1599992                                  @SCOOBY_GRITBOYS        1\n\n[2000 rows x 2 columns]",
      "text/html": "<div>\n<style scoped>\n    .dataframe tbody tr th:only-of-type {\n        vertical-align: middle;\n    }\n\n    .dataframe tbody tr th {\n        vertical-align: top;\n    }\n\n    .dataframe thead th {\n        text-align: right;\n    }\n</style>\n<table border=\"1\" class=\"dataframe\">\n  <thead>\n    <tr style=\"text-align: right;\">\n      <th></th>\n      <th>tweet</th>\n      <th>target</th>\n    </tr>\n  </thead>\n  <tbody>\n    <tr>\n      <th>30</th>\n      <td>@alielayus I want to go to promote GEAR AND GR...</td>\n      <td>0</td>\n    </tr>\n    <tr>\n      <th>198</th>\n      <td>couldn't get shit done today ~ i'm so screwed</td>\n      <td>0</td>\n    </tr>\n    <tr>\n      <th>362</th>\n      <td>@Sara_Kate Im afraid too  ( ur reply about uni...</td>\n      <td>0</td>\n    </tr>\n    <tr>\n      <th>1279</th>\n      <td>Yo jimo i cant talk on aim anymore, its glitch...</td>\n      <td>0</td>\n    </tr>\n    <tr>\n      <th>2112</th>\n      <td>@rustyrockets do I sense a blog coming on?  To...</td>\n      <td>0</td>\n    </tr>\n    <tr>\n      <th>...</th>\n      <td>...</td>\n      <td>...</td>\n    </tr>\n    <tr>\n      <th>1592304</th>\n      <td>@andrewtkelley that strawberry shortcake looks...</td>\n      <td>1</td>\n    </tr>\n    <tr>\n      <th>1594844</th>\n      <td>@WinonaWiefel thanks</td>\n      <td>1</td>\n    </tr>\n    <tr>\n      <th>1594991</th>\n      <td>photographing Day of the African Child celebra...</td>\n      <td>1</td>\n    </tr>\n    <tr>\n      <th>1599678</th>\n      <td>@jasontancy thanks!</td>\n      <td>1</td>\n    </tr>\n    <tr>\n      <th>1599992</th>\n      <td>@SCOOBY_GRITBOYS</td>\n      <td>1</td>\n    </tr>\n  </tbody>\n</table>\n<p>2000 rows × 2 columns</p>\n</div>"
     },
     "execution_count": 110,
     "metadata": {},
     "output_type": "execute_result"
    }
   ],
   "source": [
    "df_under_sampl_2000\n",
    "#df_under_sampl_2000.reset_index(drop=True, inplace=True)\n",
    "df_under_sampl_2000"
   ],
   "metadata": {
    "collapsed": false,
    "pycharm": {
     "name": "#%%\n"
    }
   }
  },
  {
   "cell_type": "code",
   "source": [],
   "metadata": {
    "collapsed": false,
    "pycharm": {
     "name": "#%%\n"
    }
   },
   "execution_count": 110,
   "outputs": []
  },
  {
   "cell_type": "markdown",
   "source": [
    "data_df= df_under_sampl_2000\n",
    "\n",
    "df_count = pd.DataFrame({'target': data_df['target'].value_counts().index,\n",
    "                            'Nombre': data_df['target'].value_counts().values})\n",
    "df_count"
   ],
   "metadata": {
    "collapsed": false,
    "pycharm": {
     "name": "#%% md\n"
    }
   }
  },
  {
   "cell_type": "code",
   "source": [
    "df_under_sampl_2000.to_csv('data/under_sampling_2000_op.csv')"
   ],
   "metadata": {
    "collapsed": false,
    "pycharm": {
     "name": "#%%\n"
    }
   },
   "execution_count": 111,
   "outputs": []
  },
  {
   "cell_type": "markdown",
   "source": [
    "Donné ref"
   ],
   "metadata": {
    "collapsed": false,
    "pycharm": {
     "name": "#%% md\n"
    }
   }
  },
  {
   "cell_type": "markdown",
   "source": [
    "df_under_sampl_8000 = undersamppling('target',8000,data_df[['tweet','target']])\n",
    "pd.concat(df_under_sampl_2000, df_under_sampl_8000).sort_index()\n",
    "df_under_sampl_2000.to_csv('data/under_sampling_2000_ref.csv')"
   ],
   "metadata": {
    "collapsed": false,
    "pycharm": {
     "name": "#%% md\n"
    }
   }
  },
  {
   "cell_type": "code",
   "execution_count": 112,
   "outputs": [],
   "source": [
    "df_under_sampl_10000 = undersamppling('target',10000,data_df[['tweet','target']])\n",
    "df_under_sampl_10000.reset_index(drop=True, inplace=True)"
   ],
   "metadata": {
    "collapsed": false,
    "pycharm": {
     "name": "#%%\n"
    }
   }
  },
  {
   "cell_type": "code",
   "execution_count": 113,
   "outputs": [
    {
     "data": {
      "text/plain": "                                                  tweet  target\n0     Today I realized I am too good at hiding thing...       0\n1     My thoughts are with Sandra Cantu's family at ...       0\n2     getting annoyed easily today  &gt;&gt;&gt; bio...       0\n3     are you vaccinated against chicken-pox?should ...       0\n4     is stucked in Paris and can't even travel into...       0\n...                                                 ...     ...\n9995  @ZAC_DANCE macbook, or macbook pro? either way...       1\n9996  @peanut819 oh okay i see. i know you need enou...       1\n9997  @Rogcar3 Don't look now, but I think your hole...       1\n9998         @neildouglass i cant wait for born to run        1\n9999  Dintist today! My teeth are excited lol ... HO...       1\n\n[10000 rows x 2 columns]",
      "text/html": "<div>\n<style scoped>\n    .dataframe tbody tr th:only-of-type {\n        vertical-align: middle;\n    }\n\n    .dataframe tbody tr th {\n        vertical-align: top;\n    }\n\n    .dataframe thead th {\n        text-align: right;\n    }\n</style>\n<table border=\"1\" class=\"dataframe\">\n  <thead>\n    <tr style=\"text-align: right;\">\n      <th></th>\n      <th>tweet</th>\n      <th>target</th>\n    </tr>\n  </thead>\n  <tbody>\n    <tr>\n      <th>0</th>\n      <td>Today I realized I am too good at hiding thing...</td>\n      <td>0</td>\n    </tr>\n    <tr>\n      <th>1</th>\n      <td>My thoughts are with Sandra Cantu's family at ...</td>\n      <td>0</td>\n    </tr>\n    <tr>\n      <th>2</th>\n      <td>getting annoyed easily today  &amp;gt;&amp;gt;&amp;gt; bio...</td>\n      <td>0</td>\n    </tr>\n    <tr>\n      <th>3</th>\n      <td>are you vaccinated against chicken-pox?should ...</td>\n      <td>0</td>\n    </tr>\n    <tr>\n      <th>4</th>\n      <td>is stucked in Paris and can't even travel into...</td>\n      <td>0</td>\n    </tr>\n    <tr>\n      <th>...</th>\n      <td>...</td>\n      <td>...</td>\n    </tr>\n    <tr>\n      <th>9995</th>\n      <td>@ZAC_DANCE macbook, or macbook pro? either way...</td>\n      <td>1</td>\n    </tr>\n    <tr>\n      <th>9996</th>\n      <td>@peanut819 oh okay i see. i know you need enou...</td>\n      <td>1</td>\n    </tr>\n    <tr>\n      <th>9997</th>\n      <td>@Rogcar3 Don't look now, but I think your hole...</td>\n      <td>1</td>\n    </tr>\n    <tr>\n      <th>9998</th>\n      <td>@neildouglass i cant wait for born to run</td>\n      <td>1</td>\n    </tr>\n    <tr>\n      <th>9999</th>\n      <td>Dintist today! My teeth are excited lol ... HO...</td>\n      <td>1</td>\n    </tr>\n  </tbody>\n</table>\n<p>10000 rows × 2 columns</p>\n</div>"
     },
     "execution_count": 113,
     "metadata": {},
     "output_type": "execute_result"
    }
   ],
   "source": [
    "df_under_sampl_10000"
   ],
   "metadata": {
    "collapsed": false,
    "pycharm": {
     "name": "#%%\n"
    }
   }
  },
  {
   "cell_type": "code",
   "execution_count": 114,
   "outputs": [],
   "source": [
    "df_under_sampl_10000.to_csv('data/under_sampling_10000_op.csv')"
   ],
   "metadata": {
    "collapsed": false,
    "pycharm": {
     "name": "#%%\n"
    }
   }
  }
 ],
 "metadata": {
  "kernelspec": {
   "display_name": "Python 3",
   "language": "python",
   "name": "python3"
  },
  "language_info": {
   "codemirror_mode": {
    "name": "ipython",
    "version": 2
   },
   "file_extension": ".py",
   "mimetype": "text/x-python",
   "name": "python",
   "nbconvert_exporter": "python",
   "pygments_lexer": "ipython2",
   "version": "2.7.6"
  }
 },
 "nbformat": 4,
 "nbformat_minor": 0
}