{
 "cells": [
  {
   "cell_type": "markdown",
   "source": [
    "# Projet 9 :  Application mobile de recommandation de contenu\n",
    "\n",
    "<font color = \"grey\"><i> Chargement des modules necessaires </i></font>"
   ],
   "metadata": {
    "collapsed": false
   }
  },
  {
   "cell_type": "code",
   "execution_count": 1,
   "outputs": [],
   "source": [
    "import numpy as np\n",
    "import pandas as pd\n",
    "from matplotlib import pyplot as plt\n",
    "import seaborn as sns\n",
    "import warnings\n",
    "from surprise import Reader, Dataset\n",
    "from surprise.model_selection import GridSearchCV\n",
    "from surprise.model_selection import train_test_split\n",
    "from surprise import SVD, accuracy\n",
    "from surprise.model_selection import cross_validate\n",
    "#from sklearn.model_selection import train_test_split\n",
    "\n",
    "import _pickle as cPickle\n",
    "import pickle\n",
    "from random import randint\n",
    "from scipy.spatial import distance\n",
    "\n",
    "warnings.filterwarnings('ignore')\n",
    "\n",
    "sns.set()\n",
    "plt.style.use('ggplot')\n"
   ],
   "metadata": {
    "collapsed": false,
    "pycharm": {
     "name": "#%%\n"
    }
   }
  },
  {
   "cell_type": "markdown",
   "source": [
    "# Sommaire\n",
    "## I) Présentation générale\n",
    "### Taille du jeu de données\n",
    "###  Entrevue du jeu de données\n",
    "### Types de données et leurs effectif\n",
    "\n",
    "## II) Content-Based Filtering Model\n",
    "### Presentation\n",
    "\n",
    "## III) Collaborative Filtering Model\n",
    "### Presentation"
   ],
   "metadata": {
    "collapsed": false
   }
  },
  {
   "cell_type": "markdown",
   "source": [
    "Légende:\n",
    "\n",
    "><font color = \"grey\"><i> Je suis une petite indication </i></font>\n",
    "\n",
    "><font color = \"cyan\"><i> Je suis une indication </i></font>\n",
    "\n",
    "><font color = \"green\"><i> Je suis un commentaire </i></font>"
   ],
   "metadata": {
    "collapsed": false
   }
  },
  {
   "cell_type": "markdown",
   "source": [
    "<font color = \"grey\"><i> Chargement du style </i></font>"
   ],
   "metadata": {
    "collapsed": false
   }
  },
  {
   "cell_type": "code",
   "execution_count": 2,
   "outputs": [],
   "source": [
    "plt.style.use('ggplot')"
   ],
   "metadata": {
    "collapsed": false,
    "pycharm": {
     "name": "#%%\n"
    }
   }
  },
  {
   "cell_type": "markdown",
   "source": [
    "## I) Présentation générale"
   ],
   "metadata": {
    "collapsed": false
   }
  },
  {
   "cell_type": "markdown",
   "source": [
    "![img](data/sys_rec.JPG )"
   ],
   "metadata": {
    "collapsed": false
   }
  },
  {
   "cell_type": "markdown",
   "source": [
    "<font color = \"cyan\"><i>  Chargement des jeux de données</i></font>"
   ],
   "metadata": {
    "collapsed": false
   }
  },
  {
   "cell_type": "code",
   "execution_count": 3,
   "outputs": [],
   "source": [
    "missing_values = [\"na\", \"n/a\", \"--\", \" \"]\n",
    "df_articles_meta = pd.read_csv(\"data/articles_metadata.csv\", sep=',', na_values=missing_values, low_memory=False)\n",
    "\n",
    "df_cliks = pd.read_csv(\"data/clicks.csv\", sep=',', na_values=missing_values, low_memory=False)\n",
    "\n",
    "df_cliks_samp = pd.read_csv(\"data/clicks_sample.csv\", sep=',', na_values=missing_values,  low_memory=False)"
   ],
   "metadata": {
    "collapsed": false,
    "pycharm": {
     "name": "#%%\n"
    }
   }
  },
  {
   "cell_type": "markdown",
   "source": [
    "<a id='data_size'></a>\n",
    "### I.2) Taille du jeu de données\n",
    "\n",
    "<font color = \"cyan\"><i> Apercu des permières lignes et colonnes de articles_metadata.csv</i></font>"
   ],
   "metadata": {
    "collapsed": false
   }
  },
  {
   "cell_type": "code",
   "execution_count": 4,
   "outputs": [
    {
     "name": "stdout",
     "output_type": "stream",
     "text": [
      "Le jeu de données df_articles_meta est composé de 5 colonnes ou attributs et  364047  lignes\n"
     ]
    }
   ],
   "source": [
    "print(\"Le jeu de données df_articles_meta est composé de\", df_articles_meta.shape[1], \"colonnes ou attributs et \", df_articles_meta.shape[0],\n",
    "      \" lignes\", )"
   ],
   "metadata": {
    "collapsed": false,
    "pycharm": {
     "name": "#%%\n"
    }
   }
  },
  {
   "cell_type": "markdown",
   "source": [
    "<font color = \"cyan\"><i> Apercu des permières lignes et colonnes de clicks_sample.csv</i></font>"
   ],
   "metadata": {
    "collapsed": false
   }
  },
  {
   "cell_type": "code",
   "execution_count": 5,
   "outputs": [
    {
     "name": "stdout",
     "output_type": "stream",
     "text": [
      "Le jeu de données df_cliks_samp est composé de 12 colonnes ou attributs et  1883  lignes\n"
     ]
    }
   ],
   "source": [
    "print(\"Le jeu de données df_cliks_samp est composé de\", df_cliks_samp.shape[1], \"colonnes ou attributs et \", df_cliks_samp.shape[0],\n",
    "      \" lignes\", )"
   ],
   "metadata": {
    "collapsed": false,
    "pycharm": {
     "name": "#%%\n"
    }
   }
  },
  {
   "cell_type": "markdown",
   "source": [
    "<font color = \"cyan\"><i> Apercu des permières lignes et colonnes de clicks.csv</i></font>"
   ],
   "metadata": {
    "collapsed": false
   }
  },
  {
   "cell_type": "code",
   "execution_count": 6,
   "outputs": [
    {
     "name": "stdout",
     "output_type": "stream",
     "text": [
      "Le jeu de données df_cliks est composé de 12 colonnes ou attributs et  2569  lignes\n"
     ]
    }
   ],
   "source": [
    "print(\"Le jeu de données df_cliks est composé de\", df_cliks.shape[1], \"colonnes ou attributs et \", df_cliks.shape[0],\n",
    "      \" lignes\", )"
   ],
   "metadata": {
    "collapsed": false,
    "pycharm": {
     "name": "#%%\n"
    }
   }
  },
  {
   "cell_type": "markdown",
   "source": [
    "<a id='data_size'></a>\n",
    "### I.3) Entrevue du jeu de données\n",
    "<font color = \"cyan\"><i> Apercu des permières lignes du jeu de données df_articles_meta</i></font>"
   ],
   "metadata": {
    "collapsed": false
   }
  },
  {
   "cell_type": "code",
   "execution_count": 7,
   "outputs": [
    {
     "data": {
      "text/plain": "   article_id  category_id  created_at_ts  publisher_id  words_count\n0           0            0  1513144419000             0          168\n1           1            1  1405341936000             0          189\n2           2            1  1408667706000             0          250\n3           3            1  1408468313000             0          230\n4           4            1  1407071171000             0          162",
      "text/html": "<div>\n<style scoped>\n    .dataframe tbody tr th:only-of-type {\n        vertical-align: middle;\n    }\n\n    .dataframe tbody tr th {\n        vertical-align: top;\n    }\n\n    .dataframe thead th {\n        text-align: right;\n    }\n</style>\n<table border=\"1\" class=\"dataframe\">\n  <thead>\n    <tr style=\"text-align: right;\">\n      <th></th>\n      <th>article_id</th>\n      <th>category_id</th>\n      <th>created_at_ts</th>\n      <th>publisher_id</th>\n      <th>words_count</th>\n    </tr>\n  </thead>\n  <tbody>\n    <tr>\n      <th>0</th>\n      <td>0</td>\n      <td>0</td>\n      <td>1513144419000</td>\n      <td>0</td>\n      <td>168</td>\n    </tr>\n    <tr>\n      <th>1</th>\n      <td>1</td>\n      <td>1</td>\n      <td>1405341936000</td>\n      <td>0</td>\n      <td>189</td>\n    </tr>\n    <tr>\n      <th>2</th>\n      <td>2</td>\n      <td>1</td>\n      <td>1408667706000</td>\n      <td>0</td>\n      <td>250</td>\n    </tr>\n    <tr>\n      <th>3</th>\n      <td>3</td>\n      <td>1</td>\n      <td>1408468313000</td>\n      <td>0</td>\n      <td>230</td>\n    </tr>\n    <tr>\n      <th>4</th>\n      <td>4</td>\n      <td>1</td>\n      <td>1407071171000</td>\n      <td>0</td>\n      <td>162</td>\n    </tr>\n  </tbody>\n</table>\n</div>"
     },
     "execution_count": 7,
     "metadata": {},
     "output_type": "execute_result"
    }
   ],
   "source": [
    "df_articles_meta.head()"
   ],
   "metadata": {
    "collapsed": false,
    "pycharm": {
     "name": "#%%\n"
    }
   }
  },
  {
   "cell_type": "markdown",
   "source": [
    "<font color = \"cyan\"><i> Apercu des permières lignes du jeu de données df_cliks_samp</i></font>"
   ],
   "metadata": {
    "collapsed": false
   }
  },
  {
   "cell_type": "code",
   "execution_count": 8,
   "outputs": [
    {
     "data": {
      "text/plain": "   user_id        session_id  session_start  session_size  click_article_id  \\\n0        0  1506825423271737  1506825423000             2            157541   \n1        0  1506825423271737  1506825423000             2             68866   \n2        1  1506825426267738  1506825426000             2            235840   \n3        1  1506825426267738  1506825426000             2             96663   \n4        2  1506825435299739  1506825435000             2            119592   \n\n   click_timestamp  click_environment  click_deviceGroup  click_os  \\\n0    1506826828020                  4                  3        20   \n1    1506826858020                  4                  3        20   \n2    1506827017951                  4                  1        17   \n3    1506827047951                  4                  1        17   \n4    1506827090575                  4                  1        17   \n\n   click_country  click_region  click_referrer_type  \n0              1            20                    2  \n1              1            20                    2  \n2              1            16                    2  \n3              1            16                    2  \n4              1            24                    2  ",
      "text/html": "<div>\n<style scoped>\n    .dataframe tbody tr th:only-of-type {\n        vertical-align: middle;\n    }\n\n    .dataframe tbody tr th {\n        vertical-align: top;\n    }\n\n    .dataframe thead th {\n        text-align: right;\n    }\n</style>\n<table border=\"1\" class=\"dataframe\">\n  <thead>\n    <tr style=\"text-align: right;\">\n      <th></th>\n      <th>user_id</th>\n      <th>session_id</th>\n      <th>session_start</th>\n      <th>session_size</th>\n      <th>click_article_id</th>\n      <th>click_timestamp</th>\n      <th>click_environment</th>\n      <th>click_deviceGroup</th>\n      <th>click_os</th>\n      <th>click_country</th>\n      <th>click_region</th>\n      <th>click_referrer_type</th>\n    </tr>\n  </thead>\n  <tbody>\n    <tr>\n      <th>0</th>\n      <td>0</td>\n      <td>1506825423271737</td>\n      <td>1506825423000</td>\n      <td>2</td>\n      <td>157541</td>\n      <td>1506826828020</td>\n      <td>4</td>\n      <td>3</td>\n      <td>20</td>\n      <td>1</td>\n      <td>20</td>\n      <td>2</td>\n    </tr>\n    <tr>\n      <th>1</th>\n      <td>0</td>\n      <td>1506825423271737</td>\n      <td>1506825423000</td>\n      <td>2</td>\n      <td>68866</td>\n      <td>1506826858020</td>\n      <td>4</td>\n      <td>3</td>\n      <td>20</td>\n      <td>1</td>\n      <td>20</td>\n      <td>2</td>\n    </tr>\n    <tr>\n      <th>2</th>\n      <td>1</td>\n      <td>1506825426267738</td>\n      <td>1506825426000</td>\n      <td>2</td>\n      <td>235840</td>\n      <td>1506827017951</td>\n      <td>4</td>\n      <td>1</td>\n      <td>17</td>\n      <td>1</td>\n      <td>16</td>\n      <td>2</td>\n    </tr>\n    <tr>\n      <th>3</th>\n      <td>1</td>\n      <td>1506825426267738</td>\n      <td>1506825426000</td>\n      <td>2</td>\n      <td>96663</td>\n      <td>1506827047951</td>\n      <td>4</td>\n      <td>1</td>\n      <td>17</td>\n      <td>1</td>\n      <td>16</td>\n      <td>2</td>\n    </tr>\n    <tr>\n      <th>4</th>\n      <td>2</td>\n      <td>1506825435299739</td>\n      <td>1506825435000</td>\n      <td>2</td>\n      <td>119592</td>\n      <td>1506827090575</td>\n      <td>4</td>\n      <td>1</td>\n      <td>17</td>\n      <td>1</td>\n      <td>24</td>\n      <td>2</td>\n    </tr>\n  </tbody>\n</table>\n</div>"
     },
     "execution_count": 8,
     "metadata": {},
     "output_type": "execute_result"
    }
   ],
   "source": [
    "df_cliks_samp.head()"
   ],
   "metadata": {
    "collapsed": false,
    "pycharm": {
     "name": "#%%\n"
    }
   }
  },
  {
   "cell_type": "markdown",
   "source": [
    "<font color = \"cyan\"><i> Apercu des permières lignes du jeu de données df_cliks</i></font>"
   ],
   "metadata": {
    "collapsed": false
   }
  },
  {
   "cell_type": "code",
   "execution_count": 9,
   "outputs": [
    {
     "data": {
      "text/plain": "   user_id        session_id  session_start  session_size  click_article_id  \\\n0   170835  1508207781378377  1508207781000             2            209122   \n1   170835  1508207781378377  1508207781000             2            289003   \n2   306892  1508207782230378  1508207782000             3             50644   \n3   306892  1508207782230378  1508207782000             3            211442   \n4   306892  1508207782230378  1508207782000             3             16346   \n\n   click_timestamp  click_environment  click_deviceGroup  click_os  \\\n0    1508207781268                  4                  3         2   \n1    1508207811268                  4                  3         2   \n2    1508208270611                  4                  4        20   \n3    1508208475029                  4                  4        20   \n4    1508208505029                  4                  4        20   \n\n   click_country  click_region  click_referrer_type  \n0              1            25                    2  \n1              1            25                    2  \n2              1            25                    2  \n3              1            25                    2  \n4              1            25                    2  ",
      "text/html": "<div>\n<style scoped>\n    .dataframe tbody tr th:only-of-type {\n        vertical-align: middle;\n    }\n\n    .dataframe tbody tr th {\n        vertical-align: top;\n    }\n\n    .dataframe thead th {\n        text-align: right;\n    }\n</style>\n<table border=\"1\" class=\"dataframe\">\n  <thead>\n    <tr style=\"text-align: right;\">\n      <th></th>\n      <th>user_id</th>\n      <th>session_id</th>\n      <th>session_start</th>\n      <th>session_size</th>\n      <th>click_article_id</th>\n      <th>click_timestamp</th>\n      <th>click_environment</th>\n      <th>click_deviceGroup</th>\n      <th>click_os</th>\n      <th>click_country</th>\n      <th>click_region</th>\n      <th>click_referrer_type</th>\n    </tr>\n  </thead>\n  <tbody>\n    <tr>\n      <th>0</th>\n      <td>170835</td>\n      <td>1508207781378377</td>\n      <td>1508207781000</td>\n      <td>2</td>\n      <td>209122</td>\n      <td>1508207781268</td>\n      <td>4</td>\n      <td>3</td>\n      <td>2</td>\n      <td>1</td>\n      <td>25</td>\n      <td>2</td>\n    </tr>\n    <tr>\n      <th>1</th>\n      <td>170835</td>\n      <td>1508207781378377</td>\n      <td>1508207781000</td>\n      <td>2</td>\n      <td>289003</td>\n      <td>1508207811268</td>\n      <td>4</td>\n      <td>3</td>\n      <td>2</td>\n      <td>1</td>\n      <td>25</td>\n      <td>2</td>\n    </tr>\n    <tr>\n      <th>2</th>\n      <td>306892</td>\n      <td>1508207782230378</td>\n      <td>1508207782000</td>\n      <td>3</td>\n      <td>50644</td>\n      <td>1508208270611</td>\n      <td>4</td>\n      <td>4</td>\n      <td>20</td>\n      <td>1</td>\n      <td>25</td>\n      <td>2</td>\n    </tr>\n    <tr>\n      <th>3</th>\n      <td>306892</td>\n      <td>1508207782230378</td>\n      <td>1508207782000</td>\n      <td>3</td>\n      <td>211442</td>\n      <td>1508208475029</td>\n      <td>4</td>\n      <td>4</td>\n      <td>20</td>\n      <td>1</td>\n      <td>25</td>\n      <td>2</td>\n    </tr>\n    <tr>\n      <th>4</th>\n      <td>306892</td>\n      <td>1508207782230378</td>\n      <td>1508207782000</td>\n      <td>3</td>\n      <td>16346</td>\n      <td>1508208505029</td>\n      <td>4</td>\n      <td>4</td>\n      <td>20</td>\n      <td>1</td>\n      <td>25</td>\n      <td>2</td>\n    </tr>\n  </tbody>\n</table>\n</div>"
     },
     "execution_count": 9,
     "metadata": {},
     "output_type": "execute_result"
    }
   ],
   "source": [
    "df_cliks.head()"
   ],
   "metadata": {
    "collapsed": false,
    "pycharm": {
     "name": "#%%\n"
    }
   }
  },
  {
   "cell_type": "markdown",
   "source": [
    "<a id='data_def'></a>\n",
    "## I.3) Types de données et leurs effectif\n",
    "<font color = \"cyan\"><i> affichage des type et de leurs effectif df_articles_meta</i></font>"
   ],
   "metadata": {
    "collapsed": false
   }
  },
  {
   "cell_type": "code",
   "execution_count": 10,
   "outputs": [
    {
     "data": {
      "text/plain": "<pandas.io.formats.style.Styler at 0x1e5ad6b3108>",
      "text/html": "<style type=\"text/css\">\n</style>\n<table id=\"T_e1394_\">\n  <caption>Valeurs manquantes et leurs types df_articles_meta </caption>\n  <thead>\n    <tr>\n      <th class=\"blank level0\" >&nbsp;</th>\n      <th class=\"col_heading level0 col0\" >colonne</th>\n      <th class=\"col_heading level0 col1\" >Types</th>\n      <th class=\"col_heading level0 col2\" >Effectif manquant</th>\n      <th class=\"col_heading level0 col3\" >Effectif manquant %</th>\n    </tr>\n  </thead>\n  <tbody>\n    <tr>\n      <th id=\"T_e1394_level0_row0\" class=\"row_heading level0 row0\" >0</th>\n      <td id=\"T_e1394_row0_col0\" class=\"data row0 col0\" >article_id</td>\n      <td id=\"T_e1394_row0_col1\" class=\"data row0 col1\" >int64</td>\n      <td id=\"T_e1394_row0_col2\" class=\"data row0 col2\" >0</td>\n      <td id=\"T_e1394_row0_col3\" class=\"data row0 col3\" >0.000000</td>\n    </tr>\n    <tr>\n      <th id=\"T_e1394_level0_row1\" class=\"row_heading level0 row1\" >1</th>\n      <td id=\"T_e1394_row1_col0\" class=\"data row1 col0\" >category_id</td>\n      <td id=\"T_e1394_row1_col1\" class=\"data row1 col1\" >int64</td>\n      <td id=\"T_e1394_row1_col2\" class=\"data row1 col2\" >0</td>\n      <td id=\"T_e1394_row1_col3\" class=\"data row1 col3\" >0.000000</td>\n    </tr>\n    <tr>\n      <th id=\"T_e1394_level0_row2\" class=\"row_heading level0 row2\" >2</th>\n      <td id=\"T_e1394_row2_col0\" class=\"data row2 col0\" >created_at_ts</td>\n      <td id=\"T_e1394_row2_col1\" class=\"data row2 col1\" >int64</td>\n      <td id=\"T_e1394_row2_col2\" class=\"data row2 col2\" >0</td>\n      <td id=\"T_e1394_row2_col3\" class=\"data row2 col3\" >0.000000</td>\n    </tr>\n    <tr>\n      <th id=\"T_e1394_level0_row3\" class=\"row_heading level0 row3\" >3</th>\n      <td id=\"T_e1394_row3_col0\" class=\"data row3 col0\" >publisher_id</td>\n      <td id=\"T_e1394_row3_col1\" class=\"data row3 col1\" >int64</td>\n      <td id=\"T_e1394_row3_col2\" class=\"data row3 col2\" >0</td>\n      <td id=\"T_e1394_row3_col3\" class=\"data row3 col3\" >0.000000</td>\n    </tr>\n    <tr>\n      <th id=\"T_e1394_level0_row4\" class=\"row_heading level0 row4\" >4</th>\n      <td id=\"T_e1394_row4_col0\" class=\"data row4 col0\" >words_count</td>\n      <td id=\"T_e1394_row4_col1\" class=\"data row4 col1\" >int64</td>\n      <td id=\"T_e1394_row4_col2\" class=\"data row4 col2\" >0</td>\n      <td id=\"T_e1394_row4_col3\" class=\"data row4 col3\" >0.000000</td>\n    </tr>\n  </tbody>\n</table>\n"
     },
     "execution_count": 10,
     "metadata": {},
     "output_type": "execute_result"
    }
   ],
   "source": [
    "unsorted_df = pd.DataFrame({'colonne': df_articles_meta.dtypes.index,\n",
    "                            'Types': df_articles_meta.dtypes.values,\n",
    "                            'Effectif manquant': df_articles_meta.isna().sum().values,\n",
    "                            'Effectif manquant %': ((df_articles_meta.isna().sum(axis=0) / df_articles_meta.shape[0]) * 100).astype(\n",
    "                                float).values}).style.set_caption(\"Valeurs manquantes et leurs types df_articles_meta \")\n",
    "unsorted_df"
   ],
   "metadata": {
    "collapsed": false,
    "pycharm": {
     "name": "#%%\n"
    }
   }
  },
  {
   "cell_type": "markdown",
   "source": [
    "<font color = \"cyan\"><i> affichage des type et de leurs effectif df_cliks_samp</i></font>"
   ],
   "metadata": {
    "collapsed": false
   }
  },
  {
   "cell_type": "code",
   "execution_count": 11,
   "outputs": [
    {
     "data": {
      "text/plain": "<pandas.io.formats.style.Styler at 0x1e5ad688988>",
      "text/html": "<style type=\"text/css\">\n</style>\n<table id=\"T_f038c_\">\n  <caption>Valeurs manquantes et leurs types df_cliks_samp </caption>\n  <thead>\n    <tr>\n      <th class=\"blank level0\" >&nbsp;</th>\n      <th class=\"col_heading level0 col0\" >colonne</th>\n      <th class=\"col_heading level0 col1\" >Types</th>\n      <th class=\"col_heading level0 col2\" >Effectif manquant</th>\n      <th class=\"col_heading level0 col3\" >Effectif manquant %</th>\n    </tr>\n  </thead>\n  <tbody>\n    <tr>\n      <th id=\"T_f038c_level0_row0\" class=\"row_heading level0 row0\" >0</th>\n      <td id=\"T_f038c_row0_col0\" class=\"data row0 col0\" >user_id</td>\n      <td id=\"T_f038c_row0_col1\" class=\"data row0 col1\" >int64</td>\n      <td id=\"T_f038c_row0_col2\" class=\"data row0 col2\" >0</td>\n      <td id=\"T_f038c_row0_col3\" class=\"data row0 col3\" >0.000000</td>\n    </tr>\n    <tr>\n      <th id=\"T_f038c_level0_row1\" class=\"row_heading level0 row1\" >1</th>\n      <td id=\"T_f038c_row1_col0\" class=\"data row1 col0\" >session_id</td>\n      <td id=\"T_f038c_row1_col1\" class=\"data row1 col1\" >int64</td>\n      <td id=\"T_f038c_row1_col2\" class=\"data row1 col2\" >0</td>\n      <td id=\"T_f038c_row1_col3\" class=\"data row1 col3\" >0.000000</td>\n    </tr>\n    <tr>\n      <th id=\"T_f038c_level0_row2\" class=\"row_heading level0 row2\" >2</th>\n      <td id=\"T_f038c_row2_col0\" class=\"data row2 col0\" >session_start</td>\n      <td id=\"T_f038c_row2_col1\" class=\"data row2 col1\" >int64</td>\n      <td id=\"T_f038c_row2_col2\" class=\"data row2 col2\" >0</td>\n      <td id=\"T_f038c_row2_col3\" class=\"data row2 col3\" >0.000000</td>\n    </tr>\n    <tr>\n      <th id=\"T_f038c_level0_row3\" class=\"row_heading level0 row3\" >3</th>\n      <td id=\"T_f038c_row3_col0\" class=\"data row3 col0\" >session_size</td>\n      <td id=\"T_f038c_row3_col1\" class=\"data row3 col1\" >int64</td>\n      <td id=\"T_f038c_row3_col2\" class=\"data row3 col2\" >0</td>\n      <td id=\"T_f038c_row3_col3\" class=\"data row3 col3\" >0.000000</td>\n    </tr>\n    <tr>\n      <th id=\"T_f038c_level0_row4\" class=\"row_heading level0 row4\" >4</th>\n      <td id=\"T_f038c_row4_col0\" class=\"data row4 col0\" >click_article_id</td>\n      <td id=\"T_f038c_row4_col1\" class=\"data row4 col1\" >int64</td>\n      <td id=\"T_f038c_row4_col2\" class=\"data row4 col2\" >0</td>\n      <td id=\"T_f038c_row4_col3\" class=\"data row4 col3\" >0.000000</td>\n    </tr>\n    <tr>\n      <th id=\"T_f038c_level0_row5\" class=\"row_heading level0 row5\" >5</th>\n      <td id=\"T_f038c_row5_col0\" class=\"data row5 col0\" >click_timestamp</td>\n      <td id=\"T_f038c_row5_col1\" class=\"data row5 col1\" >int64</td>\n      <td id=\"T_f038c_row5_col2\" class=\"data row5 col2\" >0</td>\n      <td id=\"T_f038c_row5_col3\" class=\"data row5 col3\" >0.000000</td>\n    </tr>\n    <tr>\n      <th id=\"T_f038c_level0_row6\" class=\"row_heading level0 row6\" >6</th>\n      <td id=\"T_f038c_row6_col0\" class=\"data row6 col0\" >click_environment</td>\n      <td id=\"T_f038c_row6_col1\" class=\"data row6 col1\" >int64</td>\n      <td id=\"T_f038c_row6_col2\" class=\"data row6 col2\" >0</td>\n      <td id=\"T_f038c_row6_col3\" class=\"data row6 col3\" >0.000000</td>\n    </tr>\n    <tr>\n      <th id=\"T_f038c_level0_row7\" class=\"row_heading level0 row7\" >7</th>\n      <td id=\"T_f038c_row7_col0\" class=\"data row7 col0\" >click_deviceGroup</td>\n      <td id=\"T_f038c_row7_col1\" class=\"data row7 col1\" >int64</td>\n      <td id=\"T_f038c_row7_col2\" class=\"data row7 col2\" >0</td>\n      <td id=\"T_f038c_row7_col3\" class=\"data row7 col3\" >0.000000</td>\n    </tr>\n    <tr>\n      <th id=\"T_f038c_level0_row8\" class=\"row_heading level0 row8\" >8</th>\n      <td id=\"T_f038c_row8_col0\" class=\"data row8 col0\" >click_os</td>\n      <td id=\"T_f038c_row8_col1\" class=\"data row8 col1\" >int64</td>\n      <td id=\"T_f038c_row8_col2\" class=\"data row8 col2\" >0</td>\n      <td id=\"T_f038c_row8_col3\" class=\"data row8 col3\" >0.000000</td>\n    </tr>\n    <tr>\n      <th id=\"T_f038c_level0_row9\" class=\"row_heading level0 row9\" >9</th>\n      <td id=\"T_f038c_row9_col0\" class=\"data row9 col0\" >click_country</td>\n      <td id=\"T_f038c_row9_col1\" class=\"data row9 col1\" >int64</td>\n      <td id=\"T_f038c_row9_col2\" class=\"data row9 col2\" >0</td>\n      <td id=\"T_f038c_row9_col3\" class=\"data row9 col3\" >0.000000</td>\n    </tr>\n    <tr>\n      <th id=\"T_f038c_level0_row10\" class=\"row_heading level0 row10\" >10</th>\n      <td id=\"T_f038c_row10_col0\" class=\"data row10 col0\" >click_region</td>\n      <td id=\"T_f038c_row10_col1\" class=\"data row10 col1\" >int64</td>\n      <td id=\"T_f038c_row10_col2\" class=\"data row10 col2\" >0</td>\n      <td id=\"T_f038c_row10_col3\" class=\"data row10 col3\" >0.000000</td>\n    </tr>\n    <tr>\n      <th id=\"T_f038c_level0_row11\" class=\"row_heading level0 row11\" >11</th>\n      <td id=\"T_f038c_row11_col0\" class=\"data row11 col0\" >click_referrer_type</td>\n      <td id=\"T_f038c_row11_col1\" class=\"data row11 col1\" >int64</td>\n      <td id=\"T_f038c_row11_col2\" class=\"data row11 col2\" >0</td>\n      <td id=\"T_f038c_row11_col3\" class=\"data row11 col3\" >0.000000</td>\n    </tr>\n  </tbody>\n</table>\n"
     },
     "execution_count": 11,
     "metadata": {},
     "output_type": "execute_result"
    }
   ],
   "source": [
    "unsorted_df = pd.DataFrame({'colonne': df_cliks_samp.dtypes.index,\n",
    "                            'Types': df_cliks_samp.dtypes.values,\n",
    "                            'Effectif manquant': df_cliks_samp.isna().sum().values,\n",
    "                            'Effectif manquant %': ((df_cliks_samp.isna().sum(axis=0) / df_cliks_samp.shape[0]) * 100).astype(\n",
    "                                float).values}).style.set_caption(\"Valeurs manquantes et leurs types df_cliks_samp \")\n",
    "unsorted_df"
   ],
   "metadata": {
    "collapsed": false,
    "pycharm": {
     "name": "#%%\n"
    }
   }
  },
  {
   "cell_type": "markdown",
   "source": [
    "<font color = \"cyan\"><i> affichage des type et de leurs effectif df_cliks</i></font>"
   ],
   "metadata": {
    "collapsed": false
   }
  },
  {
   "cell_type": "code",
   "execution_count": 12,
   "outputs": [
    {
     "data": {
      "text/plain": "<pandas.io.formats.style.Styler at 0x1e5ad89b308>",
      "text/html": "<style type=\"text/css\">\n</style>\n<table id=\"T_f0f78_\">\n  <caption>Valeurs manquantes et leurs types df_cliks </caption>\n  <thead>\n    <tr>\n      <th class=\"blank level0\" >&nbsp;</th>\n      <th class=\"col_heading level0 col0\" >colonne</th>\n      <th class=\"col_heading level0 col1\" >Types</th>\n      <th class=\"col_heading level0 col2\" >Effectif manquant</th>\n      <th class=\"col_heading level0 col3\" >Effectif manquant %</th>\n    </tr>\n  </thead>\n  <tbody>\n    <tr>\n      <th id=\"T_f0f78_level0_row0\" class=\"row_heading level0 row0\" >0</th>\n      <td id=\"T_f0f78_row0_col0\" class=\"data row0 col0\" >user_id</td>\n      <td id=\"T_f0f78_row0_col1\" class=\"data row0 col1\" >int64</td>\n      <td id=\"T_f0f78_row0_col2\" class=\"data row0 col2\" >0</td>\n      <td id=\"T_f0f78_row0_col3\" class=\"data row0 col3\" >0.000000</td>\n    </tr>\n    <tr>\n      <th id=\"T_f0f78_level0_row1\" class=\"row_heading level0 row1\" >1</th>\n      <td id=\"T_f0f78_row1_col0\" class=\"data row1 col0\" >session_id</td>\n      <td id=\"T_f0f78_row1_col1\" class=\"data row1 col1\" >int64</td>\n      <td id=\"T_f0f78_row1_col2\" class=\"data row1 col2\" >0</td>\n      <td id=\"T_f0f78_row1_col3\" class=\"data row1 col3\" >0.000000</td>\n    </tr>\n    <tr>\n      <th id=\"T_f0f78_level0_row2\" class=\"row_heading level0 row2\" >2</th>\n      <td id=\"T_f0f78_row2_col0\" class=\"data row2 col0\" >session_start</td>\n      <td id=\"T_f0f78_row2_col1\" class=\"data row2 col1\" >int64</td>\n      <td id=\"T_f0f78_row2_col2\" class=\"data row2 col2\" >0</td>\n      <td id=\"T_f0f78_row2_col3\" class=\"data row2 col3\" >0.000000</td>\n    </tr>\n    <tr>\n      <th id=\"T_f0f78_level0_row3\" class=\"row_heading level0 row3\" >3</th>\n      <td id=\"T_f0f78_row3_col0\" class=\"data row3 col0\" >session_size</td>\n      <td id=\"T_f0f78_row3_col1\" class=\"data row3 col1\" >int64</td>\n      <td id=\"T_f0f78_row3_col2\" class=\"data row3 col2\" >0</td>\n      <td id=\"T_f0f78_row3_col3\" class=\"data row3 col3\" >0.000000</td>\n    </tr>\n    <tr>\n      <th id=\"T_f0f78_level0_row4\" class=\"row_heading level0 row4\" >4</th>\n      <td id=\"T_f0f78_row4_col0\" class=\"data row4 col0\" >click_article_id</td>\n      <td id=\"T_f0f78_row4_col1\" class=\"data row4 col1\" >int64</td>\n      <td id=\"T_f0f78_row4_col2\" class=\"data row4 col2\" >0</td>\n      <td id=\"T_f0f78_row4_col3\" class=\"data row4 col3\" >0.000000</td>\n    </tr>\n    <tr>\n      <th id=\"T_f0f78_level0_row5\" class=\"row_heading level0 row5\" >5</th>\n      <td id=\"T_f0f78_row5_col0\" class=\"data row5 col0\" >click_timestamp</td>\n      <td id=\"T_f0f78_row5_col1\" class=\"data row5 col1\" >int64</td>\n      <td id=\"T_f0f78_row5_col2\" class=\"data row5 col2\" >0</td>\n      <td id=\"T_f0f78_row5_col3\" class=\"data row5 col3\" >0.000000</td>\n    </tr>\n    <tr>\n      <th id=\"T_f0f78_level0_row6\" class=\"row_heading level0 row6\" >6</th>\n      <td id=\"T_f0f78_row6_col0\" class=\"data row6 col0\" >click_environment</td>\n      <td id=\"T_f0f78_row6_col1\" class=\"data row6 col1\" >int64</td>\n      <td id=\"T_f0f78_row6_col2\" class=\"data row6 col2\" >0</td>\n      <td id=\"T_f0f78_row6_col3\" class=\"data row6 col3\" >0.000000</td>\n    </tr>\n    <tr>\n      <th id=\"T_f0f78_level0_row7\" class=\"row_heading level0 row7\" >7</th>\n      <td id=\"T_f0f78_row7_col0\" class=\"data row7 col0\" >click_deviceGroup</td>\n      <td id=\"T_f0f78_row7_col1\" class=\"data row7 col1\" >int64</td>\n      <td id=\"T_f0f78_row7_col2\" class=\"data row7 col2\" >0</td>\n      <td id=\"T_f0f78_row7_col3\" class=\"data row7 col3\" >0.000000</td>\n    </tr>\n    <tr>\n      <th id=\"T_f0f78_level0_row8\" class=\"row_heading level0 row8\" >8</th>\n      <td id=\"T_f0f78_row8_col0\" class=\"data row8 col0\" >click_os</td>\n      <td id=\"T_f0f78_row8_col1\" class=\"data row8 col1\" >int64</td>\n      <td id=\"T_f0f78_row8_col2\" class=\"data row8 col2\" >0</td>\n      <td id=\"T_f0f78_row8_col3\" class=\"data row8 col3\" >0.000000</td>\n    </tr>\n    <tr>\n      <th id=\"T_f0f78_level0_row9\" class=\"row_heading level0 row9\" >9</th>\n      <td id=\"T_f0f78_row9_col0\" class=\"data row9 col0\" >click_country</td>\n      <td id=\"T_f0f78_row9_col1\" class=\"data row9 col1\" >int64</td>\n      <td id=\"T_f0f78_row9_col2\" class=\"data row9 col2\" >0</td>\n      <td id=\"T_f0f78_row9_col3\" class=\"data row9 col3\" >0.000000</td>\n    </tr>\n    <tr>\n      <th id=\"T_f0f78_level0_row10\" class=\"row_heading level0 row10\" >10</th>\n      <td id=\"T_f0f78_row10_col0\" class=\"data row10 col0\" >click_region</td>\n      <td id=\"T_f0f78_row10_col1\" class=\"data row10 col1\" >int64</td>\n      <td id=\"T_f0f78_row10_col2\" class=\"data row10 col2\" >0</td>\n      <td id=\"T_f0f78_row10_col3\" class=\"data row10 col3\" >0.000000</td>\n    </tr>\n    <tr>\n      <th id=\"T_f0f78_level0_row11\" class=\"row_heading level0 row11\" >11</th>\n      <td id=\"T_f0f78_row11_col0\" class=\"data row11 col0\" >click_referrer_type</td>\n      <td id=\"T_f0f78_row11_col1\" class=\"data row11 col1\" >int64</td>\n      <td id=\"T_f0f78_row11_col2\" class=\"data row11 col2\" >0</td>\n      <td id=\"T_f0f78_row11_col3\" class=\"data row11 col3\" >0.000000</td>\n    </tr>\n  </tbody>\n</table>\n"
     },
     "execution_count": 12,
     "metadata": {},
     "output_type": "execute_result"
    }
   ],
   "source": [
    "unsorted_df = pd.DataFrame({'colonne': df_cliks.dtypes.index,\n",
    "                            'Types': df_cliks.dtypes.values,\n",
    "                            'Effectif manquant': df_cliks.isna().sum().values,\n",
    "                            'Effectif manquant %': ((df_cliks.isna().sum(axis=0) / df_cliks.shape[0]) * 100).astype(\n",
    "                                float).values}).style.set_caption(\"Valeurs manquantes et leurs types df_cliks \")\n",
    "unsorted_df\n"
   ],
   "metadata": {
    "collapsed": false,
    "pycharm": {
     "name": "#%%\n"
    }
   }
  },
  {
   "cell_type": "markdown",
   "source": [
    "><font color = \"green\"><i> Les fichiers ne contiennent aucunes valeurs manquante</i></font>\n"
   ],
   "metadata": {
    "collapsed": false
   }
  },
  {
   "cell_type": "code",
   "execution_count": 13,
   "outputs": [
    {
     "data": {
      "text/plain": "      user_id  article_id  category_id\n0      170835      209122          332\n1      150849      209122          332\n2      147014      209122          332\n3      116929      209122          332\n4      308699      209122          332\n...       ...         ...          ...\n2564   322895       63746          133\n2565    51099       98243          220\n2566   130978      229190          375\n2567    34979      331149          436\n2568   322896      157507          281\n\n[2569 rows x 3 columns]",
      "text/html": "<div>\n<style scoped>\n    .dataframe tbody tr th:only-of-type {\n        vertical-align: middle;\n    }\n\n    .dataframe tbody tr th {\n        vertical-align: top;\n    }\n\n    .dataframe thead th {\n        text-align: right;\n    }\n</style>\n<table border=\"1\" class=\"dataframe\">\n  <thead>\n    <tr style=\"text-align: right;\">\n      <th></th>\n      <th>user_id</th>\n      <th>article_id</th>\n      <th>category_id</th>\n    </tr>\n  </thead>\n  <tbody>\n    <tr>\n      <th>0</th>\n      <td>170835</td>\n      <td>209122</td>\n      <td>332</td>\n    </tr>\n    <tr>\n      <th>1</th>\n      <td>150849</td>\n      <td>209122</td>\n      <td>332</td>\n    </tr>\n    <tr>\n      <th>2</th>\n      <td>147014</td>\n      <td>209122</td>\n      <td>332</td>\n    </tr>\n    <tr>\n      <th>3</th>\n      <td>116929</td>\n      <td>209122</td>\n      <td>332</td>\n    </tr>\n    <tr>\n      <th>4</th>\n      <td>308699</td>\n      <td>209122</td>\n      <td>332</td>\n    </tr>\n    <tr>\n      <th>...</th>\n      <td>...</td>\n      <td>...</td>\n      <td>...</td>\n    </tr>\n    <tr>\n      <th>2564</th>\n      <td>322895</td>\n      <td>63746</td>\n      <td>133</td>\n    </tr>\n    <tr>\n      <th>2565</th>\n      <td>51099</td>\n      <td>98243</td>\n      <td>220</td>\n    </tr>\n    <tr>\n      <th>2566</th>\n      <td>130978</td>\n      <td>229190</td>\n      <td>375</td>\n    </tr>\n    <tr>\n      <th>2567</th>\n      <td>34979</td>\n      <td>331149</td>\n      <td>436</td>\n    </tr>\n    <tr>\n      <th>2568</th>\n      <td>322896</td>\n      <td>157507</td>\n      <td>281</td>\n    </tr>\n  </tbody>\n</table>\n<p>2569 rows × 3 columns</p>\n</div>"
     },
     "execution_count": 13,
     "metadata": {},
     "output_type": "execute_result"
    }
   ],
   "source": [
    "df = df_cliks.merge(df_articles_meta, left_on='click_article_id', right_on='article_id')\n",
    "df = df[['user_id', 'article_id', 'category_id']]\n",
    "df"
   ],
   "metadata": {
    "collapsed": false,
    "pycharm": {
     "name": "#%%\n"
    }
   }
  },
  {
   "cell_type": "markdown",
   "source": [
    "* Création de la matrice user-rating"
   ],
   "metadata": {
    "collapsed": false
   }
  },
  {
   "cell_type": "code",
   "execution_count": 14,
   "outputs": [
    {
     "data": {
      "text/plain": "      user_id  category_id  rating\n0           8           26       1\n1           8          375       1\n2          77           43       1\n3          77          428       1\n4         111           99       1\n...       ...          ...     ...\n2301   322894          297       1\n2302   322895          133       1\n2303   322895          418       1\n2304   322896           26       1\n2305   322896          281       1\n\n[2306 rows x 3 columns]",
      "text/html": "<div>\n<style scoped>\n    .dataframe tbody tr th:only-of-type {\n        vertical-align: middle;\n    }\n\n    .dataframe tbody tr th {\n        vertical-align: top;\n    }\n\n    .dataframe thead th {\n        text-align: right;\n    }\n</style>\n<table border=\"1\" class=\"dataframe\">\n  <thead>\n    <tr style=\"text-align: right;\">\n      <th></th>\n      <th>user_id</th>\n      <th>category_id</th>\n      <th>rating</th>\n    </tr>\n  </thead>\n  <tbody>\n    <tr>\n      <th>0</th>\n      <td>8</td>\n      <td>26</td>\n      <td>1</td>\n    </tr>\n    <tr>\n      <th>1</th>\n      <td>8</td>\n      <td>375</td>\n      <td>1</td>\n    </tr>\n    <tr>\n      <th>2</th>\n      <td>77</td>\n      <td>43</td>\n      <td>1</td>\n    </tr>\n    <tr>\n      <th>3</th>\n      <td>77</td>\n      <td>428</td>\n      <td>1</td>\n    </tr>\n    <tr>\n      <th>4</th>\n      <td>111</td>\n      <td>99</td>\n      <td>1</td>\n    </tr>\n    <tr>\n      <th>...</th>\n      <td>...</td>\n      <td>...</td>\n      <td>...</td>\n    </tr>\n    <tr>\n      <th>2301</th>\n      <td>322894</td>\n      <td>297</td>\n      <td>1</td>\n    </tr>\n    <tr>\n      <th>2302</th>\n      <td>322895</td>\n      <td>133</td>\n      <td>1</td>\n    </tr>\n    <tr>\n      <th>2303</th>\n      <td>322895</td>\n      <td>418</td>\n      <td>1</td>\n    </tr>\n    <tr>\n      <th>2304</th>\n      <td>322896</td>\n      <td>26</td>\n      <td>1</td>\n    </tr>\n    <tr>\n      <th>2305</th>\n      <td>322896</td>\n      <td>281</td>\n      <td>1</td>\n    </tr>\n  </tbody>\n</table>\n<p>2306 rows × 3 columns</p>\n</div>"
     },
     "execution_count": 14,
     "metadata": {},
     "output_type": "execute_result"
    }
   ],
   "source": [
    "series = df.groupby(['user_id', 'category_id']).size()\n",
    "\n",
    "user_rating = series.to_frame()\n",
    "user_rating = user_rating.reset_index()\n",
    "user_rating.rename(columns = {0:'rating'}, inplace = True)\n",
    "user_rating"
   ],
   "metadata": {
    "collapsed": false,
    "pycharm": {
     "name": "#%%\n"
    }
   }
  },
  {
   "cell_type": "code",
   "execution_count": 15,
   "outputs": [
    {
     "data": {
      "text/plain": "<pandas.io.formats.style.Styler at 0x1e59d0f8908>",
      "text/html": "<style type=\"text/css\">\n</style>\n<table id=\"T_2903f_\">\n  <caption>Caractéristiques user_rating</caption>\n  <thead>\n    <tr>\n      <th class=\"blank level0\" >&nbsp;</th>\n      <th class=\"col_heading level0 col0\" >Caractéristiques</th>\n      <th class=\"col_heading level0 col1\" >Valeurs</th>\n    </tr>\n  </thead>\n  <tbody>\n    <tr>\n      <th id=\"T_2903f_level0_row0\" class=\"row_heading level0 row0\" >0</th>\n      <td id=\"T_2903f_row0_col0\" class=\"data row0 col0\" >count</td>\n      <td id=\"T_2903f_row0_col1\" class=\"data row0 col1\" >2306.000000</td>\n    </tr>\n    <tr>\n      <th id=\"T_2903f_level0_row1\" class=\"row_heading level0 row1\" >1</th>\n      <td id=\"T_2903f_row1_col0\" class=\"data row1 col0\" >mean</td>\n      <td id=\"T_2903f_row1_col1\" class=\"data row1 col1\" >1.114050</td>\n    </tr>\n    <tr>\n      <th id=\"T_2903f_level0_row2\" class=\"row_heading level0 row2\" >2</th>\n      <td id=\"T_2903f_row2_col0\" class=\"data row2 col0\" >std</td>\n      <td id=\"T_2903f_row2_col1\" class=\"data row2 col1\" >0.397937</td>\n    </tr>\n    <tr>\n      <th id=\"T_2903f_level0_row3\" class=\"row_heading level0 row3\" >3</th>\n      <td id=\"T_2903f_row3_col0\" class=\"data row3 col0\" >min</td>\n      <td id=\"T_2903f_row3_col1\" class=\"data row3 col1\" >1.000000</td>\n    </tr>\n    <tr>\n      <th id=\"T_2903f_level0_row4\" class=\"row_heading level0 row4\" >4</th>\n      <td id=\"T_2903f_row4_col0\" class=\"data row4 col0\" >25%</td>\n      <td id=\"T_2903f_row4_col1\" class=\"data row4 col1\" >1.000000</td>\n    </tr>\n    <tr>\n      <th id=\"T_2903f_level0_row5\" class=\"row_heading level0 row5\" >5</th>\n      <td id=\"T_2903f_row5_col0\" class=\"data row5 col0\" >50%</td>\n      <td id=\"T_2903f_row5_col1\" class=\"data row5 col1\" >1.000000</td>\n    </tr>\n    <tr>\n      <th id=\"T_2903f_level0_row6\" class=\"row_heading level0 row6\" >6</th>\n      <td id=\"T_2903f_row6_col0\" class=\"data row6 col0\" >75%</td>\n      <td id=\"T_2903f_row6_col1\" class=\"data row6 col1\" >1.000000</td>\n    </tr>\n    <tr>\n      <th id=\"T_2903f_level0_row7\" class=\"row_heading level0 row7\" >7</th>\n      <td id=\"T_2903f_row7_col0\" class=\"data row7 col0\" >max</td>\n      <td id=\"T_2903f_row7_col1\" class=\"data row7 col1\" >6.000000</td>\n    </tr>\n  </tbody>\n</table>\n"
     },
     "execution_count": 15,
     "metadata": {},
     "output_type": "execute_result"
    }
   ],
   "source": [
    "data = user_rating['rating'].describe()\n",
    "\n",
    "df_ser = pd.DataFrame({'Caractéristiques':data.index,\n",
    "               'Valeurs':data.values\n",
    "               })\n",
    "df_ser.style.set_caption(f'Caractéristiques user_rating')"
   ],
   "metadata": {
    "collapsed": false,
    "pycharm": {
     "name": "#%%\n"
    }
   }
  },
  {
   "cell_type": "code",
   "execution_count": 15,
   "outputs": [],
   "source": [],
   "metadata": {
    "collapsed": false,
    "pycharm": {
     "name": "#%%\n"
    }
   }
  },
  {
   "cell_type": "code",
   "execution_count": 16,
   "outputs": [
    {
     "data": {
      "text/plain": "1    2090\n2     183\n3      23\n4       7\n5       2\n6       1\nName: rating, dtype: int64"
     },
     "execution_count": 16,
     "metadata": {},
     "output_type": "execute_result"
    }
   ],
   "source": [
    "user_rating.rating.value_counts()"
   ],
   "metadata": {
    "collapsed": false,
    "pycharm": {
     "name": "#%%\n"
    }
   }
  },
  {
   "cell_type": "markdown",
   "source": [
    "><font color = \"cyan\"><i> Création de la matrice **user_rating_s** pour le **fichier sample**</i></font>\n"
   ],
   "metadata": {
    "collapsed": false
   }
  },
  {
   "cell_type": "code",
   "execution_count": 17,
   "outputs": [
    {
     "data": {
      "text/plain": "      user_id  article_id  category_id\n0           0      157541          281\n1          20      157541          281\n2          44      157541          281\n3          45      157541          281\n4          76      157541          281\n...       ...         ...          ...\n1878      681      260988          395\n1879      696      355863          448\n1880      703       84094          174\n1881      703       83472          174\n1882      704      162245          281\n\n[1883 rows x 3 columns]",
      "text/html": "<div>\n<style scoped>\n    .dataframe tbody tr th:only-of-type {\n        vertical-align: middle;\n    }\n\n    .dataframe tbody tr th {\n        vertical-align: top;\n    }\n\n    .dataframe thead th {\n        text-align: right;\n    }\n</style>\n<table border=\"1\" class=\"dataframe\">\n  <thead>\n    <tr style=\"text-align: right;\">\n      <th></th>\n      <th>user_id</th>\n      <th>article_id</th>\n      <th>category_id</th>\n    </tr>\n  </thead>\n  <tbody>\n    <tr>\n      <th>0</th>\n      <td>0</td>\n      <td>157541</td>\n      <td>281</td>\n    </tr>\n    <tr>\n      <th>1</th>\n      <td>20</td>\n      <td>157541</td>\n      <td>281</td>\n    </tr>\n    <tr>\n      <th>2</th>\n      <td>44</td>\n      <td>157541</td>\n      <td>281</td>\n    </tr>\n    <tr>\n      <th>3</th>\n      <td>45</td>\n      <td>157541</td>\n      <td>281</td>\n    </tr>\n    <tr>\n      <th>4</th>\n      <td>76</td>\n      <td>157541</td>\n      <td>281</td>\n    </tr>\n    <tr>\n      <th>...</th>\n      <td>...</td>\n      <td>...</td>\n      <td>...</td>\n    </tr>\n    <tr>\n      <th>1878</th>\n      <td>681</td>\n      <td>260988</td>\n      <td>395</td>\n    </tr>\n    <tr>\n      <th>1879</th>\n      <td>696</td>\n      <td>355863</td>\n      <td>448</td>\n    </tr>\n    <tr>\n      <th>1880</th>\n      <td>703</td>\n      <td>84094</td>\n      <td>174</td>\n    </tr>\n    <tr>\n      <th>1881</th>\n      <td>703</td>\n      <td>83472</td>\n      <td>174</td>\n    </tr>\n    <tr>\n      <th>1882</th>\n      <td>704</td>\n      <td>162245</td>\n      <td>281</td>\n    </tr>\n  </tbody>\n</table>\n<p>1883 rows × 3 columns</p>\n</div>"
     },
     "execution_count": 17,
     "metadata": {},
     "output_type": "execute_result"
    }
   ],
   "source": [
    "df_s = df_cliks_samp.merge(df_articles_meta, left_on='click_article_id', right_on='article_id')\n",
    "df_s = df_s[['user_id', 'article_id', 'category_id']]\n",
    "df_s"
   ],
   "metadata": {
    "collapsed": false,
    "pycharm": {
     "name": "#%%\n"
    }
   }
  },
  {
   "cell_type": "code",
   "execution_count": 18,
   "outputs": [
    {
     "data": {
      "text/plain": "      user_id  category_id  rating\n0           0          136       1\n1           0          281       1\n2           1          209       1\n3           1          375       1\n4           2           26       1\n...       ...          ...     ...\n1707      705          247       1\n1708      705          412       1\n1709      706          136       1\n1710      706          209       1\n1711      706          230       1\n\n[1712 rows x 3 columns]",
      "text/html": "<div>\n<style scoped>\n    .dataframe tbody tr th:only-of-type {\n        vertical-align: middle;\n    }\n\n    .dataframe tbody tr th {\n        vertical-align: top;\n    }\n\n    .dataframe thead th {\n        text-align: right;\n    }\n</style>\n<table border=\"1\" class=\"dataframe\">\n  <thead>\n    <tr style=\"text-align: right;\">\n      <th></th>\n      <th>user_id</th>\n      <th>category_id</th>\n      <th>rating</th>\n    </tr>\n  </thead>\n  <tbody>\n    <tr>\n      <th>0</th>\n      <td>0</td>\n      <td>136</td>\n      <td>1</td>\n    </tr>\n    <tr>\n      <th>1</th>\n      <td>0</td>\n      <td>281</td>\n      <td>1</td>\n    </tr>\n    <tr>\n      <th>2</th>\n      <td>1</td>\n      <td>209</td>\n      <td>1</td>\n    </tr>\n    <tr>\n      <th>3</th>\n      <td>1</td>\n      <td>375</td>\n      <td>1</td>\n    </tr>\n    <tr>\n      <th>4</th>\n      <td>2</td>\n      <td>26</td>\n      <td>1</td>\n    </tr>\n    <tr>\n      <th>...</th>\n      <td>...</td>\n      <td>...</td>\n      <td>...</td>\n    </tr>\n    <tr>\n      <th>1707</th>\n      <td>705</td>\n      <td>247</td>\n      <td>1</td>\n    </tr>\n    <tr>\n      <th>1708</th>\n      <td>705</td>\n      <td>412</td>\n      <td>1</td>\n    </tr>\n    <tr>\n      <th>1709</th>\n      <td>706</td>\n      <td>136</td>\n      <td>1</td>\n    </tr>\n    <tr>\n      <th>1710</th>\n      <td>706</td>\n      <td>209</td>\n      <td>1</td>\n    </tr>\n    <tr>\n      <th>1711</th>\n      <td>706</td>\n      <td>230</td>\n      <td>1</td>\n    </tr>\n  </tbody>\n</table>\n<p>1712 rows × 3 columns</p>\n</div>"
     },
     "execution_count": 18,
     "metadata": {},
     "output_type": "execute_result"
    }
   ],
   "source": [
    "series = df_s.groupby(['user_id', 'category_id']).size()\n",
    "\n",
    "user_rating_s = series.to_frame()\n",
    "user_rating_s = user_rating_s.reset_index()\n",
    "user_rating_s.rename(columns = {0:'rating'}, inplace = True)\n",
    "user_rating_s"
   ],
   "metadata": {
    "collapsed": false,
    "pycharm": {
     "name": "#%%\n"
    }
   }
  },
  {
   "cell_type": "code",
   "execution_count": 19,
   "outputs": [],
   "source": [
    "user_rating_enough_s = user_rating_s.loc[user_rating_s.rating > 1]\n",
    "reader = Reader()\n",
    "data_s = Dataset.load_from_df(user_rating_enough_s[['user_id', 'category_id', 'rating']], reader)\n",
    "\n",
    "trainset_s, testset_s = train_test_split(data_s, test_size=0.25)"
   ],
   "metadata": {
    "collapsed": false,
    "pycharm": {
     "name": "#%%\n"
    }
   }
  },
  {
   "cell_type": "markdown",
   "source": [
    "><font color = \"cyan\"><i>Jeu de données pour la librairie **Implicit**</i></font>\n"
   ],
   "metadata": {
    "collapsed": false
   }
  },
  {
   "cell_type": "code",
   "execution_count": 20,
   "outputs": [
    {
     "data": {
      "text/plain": "Index(['user_id', 'article_id', 'category_id'], dtype='object')"
     },
     "execution_count": 20,
     "metadata": {},
     "output_type": "execute_result"
    }
   ],
   "source": [
    "df.columns"
   ],
   "metadata": {
    "collapsed": false,
    "pycharm": {
     "name": "#%%\n"
    }
   }
  },
  {
   "cell_type": "code",
   "execution_count": 21,
   "outputs": [],
   "source": [
    "\n",
    "from sklearn.model_selection import train_test_split\n",
    "train, cros_val = train_test_split(df, test_size = 0.2)"
   ],
   "metadata": {
    "collapsed": false,
    "pycharm": {
     "name": "#%%\n"
    }
   }
  },
  {
   "cell_type": "code",
   "execution_count": 22,
   "outputs": [
    {
     "name": "stdout",
     "output_type": "stream",
     "text": [
      "Splitted dataset into train set and cross validation set\n",
      "Train shape : (2055, 3)\n",
      "cros_val shape : (514, 3)\n"
     ]
    }
   ],
   "source": [
    "print('Splitted dataset into train set and cross validation set')\n",
    "print('Train shape :', train.shape)\n",
    "print('cros_val shape :', cros_val.shape)"
   ],
   "metadata": {
    "collapsed": false,
    "pycharm": {
     "name": "#%%\n"
    }
   }
  },
  {
   "cell_type": "markdown",
   "source": [
    "## II Content-Based Filtering Model"
   ],
   "metadata": {
    "collapsed": false
   }
  },
  {
   "cell_type": "markdown",
   "source": [
    "![img](data/sys-rec_col.JPG )"
   ],
   "metadata": {
    "collapsed": false
   }
  },
  {
   "cell_type": "markdown",
   "source": [
    "> Le **filtrage basé sur le contenu** exploite la description des articles avec lesquels\n",
    " l’utilisateur a interagis afin de recommander des articles similaires.\n",
    " Cela ne dépend que des choix précédents de l’utilisateur, ce qui rend cette méthode robuste pour éviter le problème de démarrage à froid. On peut ainsi créer des profils d’ articles et des profils utilisateur.\n",
    "\n",
    "> La méthode **TF-IDF** est la plus couramment utilisée pour convertir l' article en une structure vectorielle, où chaque mot est représenté par une position dans le vecteur, et la valeur mesure la pertinence d’un mot donné dans cet article.\n",
    " Comme tous les éléments seront représentés dans le même modèle d’espace vectoriel, il s’agit de calculer la similitude entre les articles par le **cosinus de l'angle** entre les différents vecteurs.\n",
    "\n"
   ],
   "metadata": {
    "collapsed": false
   }
  },
  {
   "cell_type": "markdown",
   "source": [
    "<font color = \"grey\"><i>Chargement de la matrice **embedding** des articles</i></font>\n"
   ],
   "metadata": {
    "collapsed": false
   }
  },
  {
   "cell_type": "code",
   "execution_count": 23,
   "outputs": [
    {
     "data": {
      "text/plain": "(364047, 250)"
     },
     "execution_count": 23,
     "metadata": {},
     "output_type": "execute_result"
    }
   ],
   "source": [
    "with open(r\"data/articles_embeddings.pickle\", \"rb\") as input_file:\n",
    "    pickle_articles_emb = cPickle.load(input_file)\n",
    "\n",
    "pickle_articles_emb.shape"
   ],
   "metadata": {
    "collapsed": false,
    "pycharm": {
     "name": "#%%\n"
    }
   }
  },
  {
   "cell_type": "markdown",
   "source": [
    "<font color = \"cyan\"><i>récupération de **n articles similaires** pour un utilisateur (**par user_id**)</i></font>\n",
    "\n",
    "\n"
   ],
   "metadata": {
    "collapsed": false
   }
  },
  {
   "cell_type": "code",
   "execution_count": 24,
   "outputs": [
    {
     "data": {
      "text/plain": "[47678, 77966, 34030, 10345, 32934, 27638, 77297, 62907, 24634, 1803]"
     },
     "execution_count": 24,
     "metadata": {},
     "output_type": "execute_result"
    }
   ],
   "source": [
    "#nb of world\n",
    "def getnArticles(pickle_articles_emb, n, userId):\n",
    "\n",
    "    pickle_articles_emb_bis = pickle_articles_emb\n",
    "    # get all articles read by user\n",
    "    var = df_cliks.loc[df_cliks['user_id']==userId]['click_article_id'].tolist()\n",
    "\n",
    "    # chose randomly one\n",
    "    value = randint(0, len(var))\n",
    "\n",
    "    # delete all read articles except the selected one( we do not want to offer\n",
    "    # user to read something he already read)\n",
    "    for i in range(0, len(var)):\n",
    "        if i != value:\n",
    "            pickle_articles_emb_bis = np.delete(pickle_articles_emb_bis, [i], 0)\n",
    "\n",
    "    arr = []\n",
    "\n",
    "    # delete selected article in the new matrix\n",
    "    f = np.delete(pickle_articles_emb_bis, [value], 0)\n",
    "\n",
    "    # get n articles the most similar to the selected one\n",
    "    for i in range(0, n):\n",
    "        distances = distance.cdist([pickle_articles_emb_bis[value]], f, \"cosine\")[0]\n",
    "        min_index = np.argmin(distances)\n",
    "        f = np.delete(f, [min_index], 0)\n",
    "    # find corresponding matrix in original martix\n",
    "        result = np.where(pickle_articles_emb==f[min_index])\n",
    "        arr.append(result[0][0])\n",
    "\n",
    "    return arr\n",
    "\n",
    "arr = getnArticles(pickle_articles_emb, 10, 0)\n",
    "arr"
   ],
   "metadata": {
    "collapsed": false,
    "pycharm": {
     "name": "#%%\n"
    }
   }
  },
  {
   "cell_type": "markdown",
   "source": [],
   "metadata": {
    "collapsed": false
   }
  },
  {
   "cell_type": "markdown",
   "source": [
    "* On ajouter **le nombre de mots** de chaque article dans la matrice **embedding**"
   ],
   "metadata": {
    "collapsed": false
   }
  },
  {
   "cell_type": "code",
   "execution_count": 25,
   "outputs": [
    {
     "data": {
      "text/plain": "(364047, 251)"
     },
     "execution_count": 25,
     "metadata": {},
     "output_type": "execute_result"
    }
   ],
   "source": [
    "d = pickle_articles_emb\n",
    "max = df_articles_meta['words_count'].max()\n",
    "df_articles_meta['words_count'] = df_articles_meta['words_count'].apply(lambda x: x/max)\n",
    "\n",
    "d = np.append(d, np.reshape(df_articles_meta['words_count'].to_numpy(),\n",
    "                            newshape=(df_articles_meta['words_count'].shape[0], 1)),\n",
    "              axis=1)\n",
    "\n",
    "d.shape"
   ],
   "metadata": {
    "collapsed": false,
    "pycharm": {
     "name": "#%%\n"
    }
   }
  },
  {
   "cell_type": "code",
   "execution_count": 26,
   "outputs": [],
   "source": [
    "arr = getnArticles(d, 10, 0)"
   ],
   "metadata": {
    "collapsed": false,
    "pycharm": {
     "name": "#%%\n"
    }
   }
  },
  {
   "cell_type": "markdown",
   "source": [
    "<font color = \"green\"><i> Voici la liste des 10 articles similaires lus et vus par l'utilisateur 0.</i></font>\n",
    "\n",
    "><font color = \"green\"><i> Dans la recommandation par le contenu, nous avons proposé parmi tous les articles, ceux qui sont similaires aux articles sur lesquels l'utilisateur a cliqués.</i></font>"
   ],
   "metadata": {
    "collapsed": false
   }
  },
  {
   "cell_type": "code",
   "execution_count": 27,
   "outputs": [
    {
     "data": {
      "text/plain": "[629, 286, 306, 61, 48, 144, 58, 78, 840, 15]"
     },
     "execution_count": 27,
     "metadata": {},
     "output_type": "execute_result"
    }
   ],
   "source": [
    "arr"
   ],
   "metadata": {
    "collapsed": false,
    "pycharm": {
     "name": "#%%\n"
    }
   }
  },
  {
   "cell_type": "markdown",
   "source": [
    "# III) Collaborative Filtering Model\n",
    "![img](data/sys-rec_u.JPG )"
   ],
   "metadata": {
    "collapsed": false
   }
  },
  {
   "cell_type": "markdown",
   "source": [
    "> <font color = \"green\"> Le **filtrage basé sur la collaboration** fait des prédictions automatiques (filtrage) sur les intérêts d’un utilisateur en collectant les préférences ou les informations de goût de nombreux utilisateurs (collaboration). L’hypothèse sous-jacente de l’approche de filtrage collaboratif est que si une personne A a la même opinion qu’une personne B sur un ensemble d’éléments, A est plus susceptible d’avoir l’opinion de B pour un élément donné que celle d’une personne choisie au hasard.\n",
    "</i></font>\n",
    "\n",
    "\n",
    " <font color = \"green\"> On a 2 approches d'implémentation du **Collaborative Filtering**:<i>\n",
    "* une basée sur la mémoire : cette approche utilise la mémoire des interactions des utilisateurs précédents pour calculer les similitudes des utilisateurs en fonction des éléments avec lesquels ils ont interagis (approche basée sur l’utilisateur) ou calculer les similitudes des éléments en fonction des utilisateurs qui ont interagi avec eux (approche basée sur les éléments).\n",
    "* basé sur un modèle : les modèles sont développés à l’aide de différents algorithmes d’apprentissage automatique pour recommander des éléments aux utilisateurs. Il existe de nombreux algorithmes CF basés sur des modèles, tels que les réseaux de neurones, les réseaux bayésiens, les modèles de clustering et les modèles de facteurs latents tels que la décomposition de valeur singulière (SVD) et l’analyse sémantique latente probabiliste\n",
    "</i></font>"
   ],
   "metadata": {
    "collapsed": false,
    "pycharm": {
     "name": "#%% md\n"
    }
   }
  },
  {
   "cell_type": "markdown",
   "source": [
    "## Création d'un rating pour chaque catégorie d'article vue par chaque utilisateur\n",
    "\n"
   ],
   "metadata": {
    "collapsed": false
   }
  },
  {
   "cell_type": "code",
   "execution_count": 28,
   "outputs": [
    {
     "data": {
      "text/plain": "<pandas.io.formats.style.Styler at 0x1e5ad6d69c8>",
      "text/html": "<style type=\"text/css\">\n</style>\n<table id=\"T_27cf0_\">\n  <caption>Caractéristiques rating</caption>\n  <thead>\n    <tr>\n      <th class=\"blank level0\" >&nbsp;</th>\n      <th class=\"col_heading level0 col0\" >Caractéristiques</th>\n      <th class=\"col_heading level0 col1\" >Valeurs</th>\n    </tr>\n  </thead>\n  <tbody>\n    <tr>\n      <th id=\"T_27cf0_level0_row0\" class=\"row_heading level0 row0\" >0</th>\n      <td id=\"T_27cf0_row0_col0\" class=\"data row0 col0\" >count</td>\n      <td id=\"T_27cf0_row0_col1\" class=\"data row0 col1\" >2306.000000</td>\n    </tr>\n    <tr>\n      <th id=\"T_27cf0_level0_row1\" class=\"row_heading level0 row1\" >1</th>\n      <td id=\"T_27cf0_row1_col0\" class=\"data row1 col0\" >mean</td>\n      <td id=\"T_27cf0_row1_col1\" class=\"data row1 col1\" >1.114050</td>\n    </tr>\n    <tr>\n      <th id=\"T_27cf0_level0_row2\" class=\"row_heading level0 row2\" >2</th>\n      <td id=\"T_27cf0_row2_col0\" class=\"data row2 col0\" >std</td>\n      <td id=\"T_27cf0_row2_col1\" class=\"data row2 col1\" >0.397937</td>\n    </tr>\n    <tr>\n      <th id=\"T_27cf0_level0_row3\" class=\"row_heading level0 row3\" >3</th>\n      <td id=\"T_27cf0_row3_col0\" class=\"data row3 col0\" >min</td>\n      <td id=\"T_27cf0_row3_col1\" class=\"data row3 col1\" >1.000000</td>\n    </tr>\n    <tr>\n      <th id=\"T_27cf0_level0_row4\" class=\"row_heading level0 row4\" >4</th>\n      <td id=\"T_27cf0_row4_col0\" class=\"data row4 col0\" >25%</td>\n      <td id=\"T_27cf0_row4_col1\" class=\"data row4 col1\" >1.000000</td>\n    </tr>\n    <tr>\n      <th id=\"T_27cf0_level0_row5\" class=\"row_heading level0 row5\" >5</th>\n      <td id=\"T_27cf0_row5_col0\" class=\"data row5 col0\" >50%</td>\n      <td id=\"T_27cf0_row5_col1\" class=\"data row5 col1\" >1.000000</td>\n    </tr>\n    <tr>\n      <th id=\"T_27cf0_level0_row6\" class=\"row_heading level0 row6\" >6</th>\n      <td id=\"T_27cf0_row6_col0\" class=\"data row6 col0\" >75%</td>\n      <td id=\"T_27cf0_row6_col1\" class=\"data row6 col1\" >1.000000</td>\n    </tr>\n    <tr>\n      <th id=\"T_27cf0_level0_row7\" class=\"row_heading level0 row7\" >7</th>\n      <td id=\"T_27cf0_row7_col0\" class=\"data row7 col0\" >max</td>\n      <td id=\"T_27cf0_row7_col1\" class=\"data row7 col1\" >6.000000</td>\n    </tr>\n  </tbody>\n</table>\n"
     },
     "execution_count": 28,
     "metadata": {},
     "output_type": "execute_result"
    }
   ],
   "source": [
    "user_rating.rating.describe\n",
    "\n",
    "data = user_rating['rating'].describe()\n",
    "\n",
    "df_ser = pd.DataFrame({'Caractéristiques':data.index,\n",
    "               'Valeurs':data.values\n",
    "               })\n",
    "df_ser.style.set_caption(f'Caractéristiques rating')"
   ],
   "metadata": {
    "collapsed": false,
    "pycharm": {
     "name": "#%%\n"
    }
   }
  },
  {
   "cell_type": "code",
   "execution_count": 29,
   "outputs": [
    {
     "data": {
      "text/plain": "      user_id  category_id  rating\n0           8           26       1\n1           8          375       1\n2          77           43       1\n3          77          428       1\n4         111           99       1\n...       ...          ...     ...\n2301   322894          297       1\n2302   322895          133       1\n2303   322895          418       1\n2304   322896           26       1\n2305   322896          281       1\n\n[2306 rows x 3 columns]",
      "text/html": "<div>\n<style scoped>\n    .dataframe tbody tr th:only-of-type {\n        vertical-align: middle;\n    }\n\n    .dataframe tbody tr th {\n        vertical-align: top;\n    }\n\n    .dataframe thead th {\n        text-align: right;\n    }\n</style>\n<table border=\"1\" class=\"dataframe\">\n  <thead>\n    <tr style=\"text-align: right;\">\n      <th></th>\n      <th>user_id</th>\n      <th>category_id</th>\n      <th>rating</th>\n    </tr>\n  </thead>\n  <tbody>\n    <tr>\n      <th>0</th>\n      <td>8</td>\n      <td>26</td>\n      <td>1</td>\n    </tr>\n    <tr>\n      <th>1</th>\n      <td>8</td>\n      <td>375</td>\n      <td>1</td>\n    </tr>\n    <tr>\n      <th>2</th>\n      <td>77</td>\n      <td>43</td>\n      <td>1</td>\n    </tr>\n    <tr>\n      <th>3</th>\n      <td>77</td>\n      <td>428</td>\n      <td>1</td>\n    </tr>\n    <tr>\n      <th>4</th>\n      <td>111</td>\n      <td>99</td>\n      <td>1</td>\n    </tr>\n    <tr>\n      <th>...</th>\n      <td>...</td>\n      <td>...</td>\n      <td>...</td>\n    </tr>\n    <tr>\n      <th>2301</th>\n      <td>322894</td>\n      <td>297</td>\n      <td>1</td>\n    </tr>\n    <tr>\n      <th>2302</th>\n      <td>322895</td>\n      <td>133</td>\n      <td>1</td>\n    </tr>\n    <tr>\n      <th>2303</th>\n      <td>322895</td>\n      <td>418</td>\n      <td>1</td>\n    </tr>\n    <tr>\n      <th>2304</th>\n      <td>322896</td>\n      <td>26</td>\n      <td>1</td>\n    </tr>\n    <tr>\n      <th>2305</th>\n      <td>322896</td>\n      <td>281</td>\n      <td>1</td>\n    </tr>\n  </tbody>\n</table>\n<p>2306 rows × 3 columns</p>\n</div>"
     },
     "execution_count": 29,
     "metadata": {},
     "output_type": "execute_result"
    }
   ],
   "source": [
    "user_rating.loc[user_rating.rating > 0]"
   ],
   "metadata": {
    "collapsed": false,
    "pycharm": {
     "name": "#%%\n"
    }
   }
  },
  {
   "cell_type": "code",
   "execution_count": 30,
   "outputs": [],
   "source": [
    "user_rating_enough = user_rating.loc[user_rating.rating > 0]\n",
    "#print('On a sélectionné ', len(user_rating_enough), ' interactions.')"
   ],
   "metadata": {
    "collapsed": false,
    "pycharm": {
     "name": "#%%\n"
    }
   }
  },
  {
   "cell_type": "markdown",
   "source": [
    "><font color = \"green\"><i> 2306 ont été selectionné </i></font>"
   ],
   "metadata": {
    "collapsed": false
   }
  },
  {
   "cell_type": "code",
   "execution_count": 31,
   "outputs": [
    {
     "name": "stdout",
     "output_type": "stream",
     "text": [
      "Test set lenght : 577\n",
      "Train set lenght : 1729\n"
     ]
    }
   ],
   "source": [
    "from surprise.model_selection import train_test_split\n",
    "\n",
    "reader = Reader()\n",
    "data = Dataset.load_from_df(user_rating_enough[['user_id', 'category_id', 'rating']], reader)\n",
    "\n",
    "trainset, testset = train_test_split(data, test_size=0.25)\n",
    "print('Test set lenght :', len(testset))\n",
    "print('Train set lenght :', len(user_rating_enough) - len(testset))"
   ],
   "metadata": {
    "collapsed": false,
    "pycharm": {
     "name": "#%%\n"
    }
   }
  },
  {
   "cell_type": "markdown",
   "source": [
    "##  **k-NN** et optimisation des paramètres du modèle"
   ],
   "metadata": {
    "collapsed": false
   }
  },
  {
   "cell_type": "markdown",
   "source": [
    "><font color = \"green\"><i> Entrainement du modèle et recherche des paramètres optimaux </i></font>"
   ],
   "metadata": {
    "collapsed": false
   }
  },
  {
   "cell_type": "code",
   "execution_count": 32,
   "outputs": [
    {
     "name": "stdout",
     "output_type": "stream",
     "text": [
      "Computing the cosine similarity matrix...\n",
      "Done computing similarity matrix.\n",
      "Computing the cosine similarity matrix...\n",
      "Done computing similarity matrix.\n",
      "Computing the cosine similarity matrix...\n",
      "Done computing similarity matrix.\n",
      "Computing the cosine similarity matrix...\n",
      "Done computing similarity matrix.\n",
      "Computing the cosine similarity matrix...\n",
      "Done computing similarity matrix.\n",
      "Computing the cosine similarity matrix...\n",
      "Done computing similarity matrix.\n",
      "Computing the cosine similarity matrix...\n",
      "Done computing similarity matrix.\n",
      "Computing the cosine similarity matrix...\n",
      "Done computing similarity matrix.\n",
      "Computing the cosine similarity matrix...\n",
      "Done computing similarity matrix.\n",
      "Computing the cosine similarity matrix...\n",
      "Done computing similarity matrix.\n",
      "Computing the cosine similarity matrix...\n",
      "Done computing similarity matrix.\n",
      "Computing the cosine similarity matrix...\n",
      "Done computing similarity matrix.\n",
      "Computing the cosine similarity matrix...\n",
      "Done computing similarity matrix.\n",
      "Computing the cosine similarity matrix...\n",
      "Done computing similarity matrix.\n",
      "Computing the cosine similarity matrix...\n",
      "Done computing similarity matrix.\n",
      "Computing the cosine similarity matrix...\n",
      "Done computing similarity matrix.\n",
      "Computing the cosine similarity matrix...\n",
      "Done computing similarity matrix.\n",
      "Computing the cosine similarity matrix...\n",
      "Done computing similarity matrix.\n",
      "Computing the cosine similarity matrix...\n",
      "Done computing similarity matrix.\n",
      "Computing the cosine similarity matrix...\n",
      "Done computing similarity matrix.\n",
      "Computing the cosine similarity matrix...\n",
      "Done computing similarity matrix.\n",
      "Computing the cosine similarity matrix...\n",
      "Done computing similarity matrix.\n",
      "Computing the cosine similarity matrix...\n",
      "Done computing similarity matrix.\n",
      "Computing the cosine similarity matrix...\n",
      "Done computing similarity matrix.\n",
      "Computing the cosine similarity matrix...\n",
      "Done computing similarity matrix.\n",
      "Computing the cosine similarity matrix...\n",
      "Done computing similarity matrix.\n",
      "Computing the cosine similarity matrix...\n",
      "Done computing similarity matrix.\n",
      "Computing the cosine similarity matrix...\n",
      "Done computing similarity matrix.\n",
      "Computing the cosine similarity matrix...\n",
      "Done computing similarity matrix.\n",
      "Computing the cosine similarity matrix...\n",
      "Done computing similarity matrix.\n",
      "Computing the cosine similarity matrix...\n",
      "Done computing similarity matrix.\n",
      "Computing the cosine similarity matrix...\n",
      "Done computing similarity matrix.\n",
      "Computing the cosine similarity matrix...\n",
      "Done computing similarity matrix.\n",
      "Computing the cosine similarity matrix...\n",
      "Done computing similarity matrix.\n",
      "Computing the cosine similarity matrix...\n",
      "Done computing similarity matrix.\n",
      "Computing the cosine similarity matrix...\n",
      "Done computing similarity matrix.\n",
      "Computing the cosine similarity matrix...\n",
      "Done computing similarity matrix.\n",
      "Computing the cosine similarity matrix...\n",
      "Done computing similarity matrix.\n",
      "Computing the cosine similarity matrix...\n",
      "Done computing similarity matrix.\n",
      "Computing the cosine similarity matrix...\n",
      "Done computing similarity matrix.\n",
      "Computing the cosine similarity matrix...\n",
      "Done computing similarity matrix.\n",
      "Computing the cosine similarity matrix...\n",
      "Done computing similarity matrix.\n",
      "Computing the cosine similarity matrix...\n",
      "Done computing similarity matrix.\n",
      "Computing the cosine similarity matrix...\n",
      "Done computing similarity matrix.\n",
      "Computing the cosine similarity matrix...\n",
      "Done computing similarity matrix.\n",
      "Computing the cosine similarity matrix...\n",
      "Done computing similarity matrix.\n",
      "Computing the cosine similarity matrix...\n",
      "Done computing similarity matrix.\n",
      "Computing the cosine similarity matrix...\n",
      "Done computing similarity matrix.\n",
      "Computing the cosine similarity matrix...\n",
      "Done computing similarity matrix.\n",
      "Computing the cosine similarity matrix...\n",
      "Done computing similarity matrix.\n",
      "Computing the cosine similarity matrix...\n",
      "Done computing similarity matrix.\n",
      "Computing the cosine similarity matrix...\n",
      "Done computing similarity matrix.\n",
      "Computing the cosine similarity matrix...\n",
      "Done computing similarity matrix.\n",
      "Computing the cosine similarity matrix...\n",
      "Done computing similarity matrix.\n",
      "Computing the cosine similarity matrix...\n",
      "Done computing similarity matrix.\n",
      "Computing the cosine similarity matrix...\n",
      "Done computing similarity matrix.\n",
      "Computing the cosine similarity matrix...\n",
      "Done computing similarity matrix.\n",
      "Computing the cosine similarity matrix...\n",
      "Done computing similarity matrix.\n",
      "Computing the cosine similarity matrix...\n",
      "Done computing similarity matrix.\n",
      "Computing the cosine similarity matrix...\n",
      "Done computing similarity matrix.\n",
      "Computing the cosine similarity matrix...\n",
      "Done computing similarity matrix.\n",
      "Computing the cosine similarity matrix...\n",
      "Done computing similarity matrix.\n",
      "Computing the cosine similarity matrix...\n",
      "Done computing similarity matrix.\n",
      "Computing the cosine similarity matrix...\n",
      "Done computing similarity matrix.\n",
      "Computing the cosine similarity matrix...\n",
      "Done computing similarity matrix.\n",
      "Computing the cosine similarity matrix...\n",
      "Done computing similarity matrix.\n",
      "Computing the cosine similarity matrix...\n",
      "Done computing similarity matrix.\n",
      "Computing the cosine similarity matrix...\n",
      "Done computing similarity matrix.\n",
      "Computing the cosine similarity matrix...\n",
      "Done computing similarity matrix.\n",
      "Computing the cosine similarity matrix...\n",
      "Done computing similarity matrix.\n",
      "Computing the cosine similarity matrix...\n",
      "Done computing similarity matrix.\n",
      "Computing the cosine similarity matrix...\n",
      "Done computing similarity matrix.\n"
     ]
    }
   ],
   "source": [
    "from surprise import KNNWithMeans\n",
    "\n",
    "sim_options = {\n",
    "    \"name\": [\"cosine\"],\n",
    "    \"min_support\": [3, 4, 5],\n",
    "    \"user_based\": [False, True],\n",
    "}\n",
    "\n",
    "param_grid = {\"sim_options\": sim_options, \"k\": [5, 10], \"min_k\": [2, 3]}\n",
    "\n",
    "gs = GridSearchCV(KNNWithMeans, param_grid, measures=[\"rmse\", \"mae\"], cv=3)\n",
    "gs.fit(data)"
   ],
   "metadata": {
    "collapsed": false,
    "pycharm": {
     "name": "#%%\n"
    }
   }
  },
  {
   "cell_type": "markdown",
   "source": [
    "* Performance du modèle **KNNWithMeans**"
   ],
   "metadata": {
    "collapsed": false
   }
  },
  {
   "cell_type": "code",
   "execution_count": 33,
   "outputs": [
    {
     "name": "stdout",
     "output_type": "stream",
     "text": [
      "0.40579805566111005\n",
      "{'sim_options': {'name': 'cosine', 'min_support': 4, 'user_based': False}, 'k': 5, 'min_k': 3}\n"
     ]
    }
   ],
   "source": [
    "print(gs.best_score[\"rmse\"])\n",
    "print(gs.best_params[\"rmse\"])"
   ],
   "metadata": {
    "collapsed": false,
    "pycharm": {
     "name": "#%%\n"
    }
   }
  },
  {
   "cell_type": "code",
   "execution_count": 34,
   "outputs": [
    {
     "name": "stdout",
     "output_type": "stream",
     "text": [
      "Computing the msd similarity matrix...\n",
      "Done computing similarity matrix.\n",
      "Computing the msd similarity matrix...\n",
      "Done computing similarity matrix.\n",
      "Computing the msd similarity matrix...\n",
      "Done computing similarity matrix.\n",
      "Computing the msd similarity matrix...\n",
      "Done computing similarity matrix.\n",
      "Evaluating RMSE, MAE of algorithm KNNWithMeans on 3 split(s).\n",
      "\n",
      "                  Fold 1  Fold 2  Fold 3  Mean    Std     \n",
      "RMSE (testset)    0.5011  0.4324  0.4908  0.4748  0.0302  \n",
      "MAE (testset)     0.2041  0.1828  0.2026  0.1965  0.0097  \n",
      "Fit time          0.06    0.05    0.05    0.05    0.01    \n",
      "Test time         0.05    0.06    0.05    0.05    0.01    \n"
     ]
    },
    {
     "data": {
      "text/plain": "{'test_rmse': array([0.50105938, 0.43243373, 0.49081723]),\n 'test_mae': array([0.20412831, 0.18283452, 0.20261837]),\n 'fit_time': (0.06099867820739746, 0.04600071907043457, 0.04699873924255371),\n 'test_time': (0.04700064659118652, 0.06200146675109863, 0.05100059509277344)}"
     },
     "execution_count": 34,
     "metadata": {},
     "output_type": "execute_result"
    }
   ],
   "source": [
    "algo_knn = KNNWithMeans(k=10, min_k=3)\n",
    "algo_knn.fit(trainset)\n",
    "\n",
    "cross_validate(algo_knn, data, measures=['RMSE', 'MAE'], cv=3, verbose=True)"
   ],
   "metadata": {
    "collapsed": false,
    "pycharm": {
     "name": "#%%\n"
    }
   }
  },
  {
   "cell_type": "code",
   "execution_count": 35,
   "outputs": [
    {
     "name": "stdout",
     "output_type": "stream",
     "text": [
      "RMSE: 0.2951\n"
     ]
    },
    {
     "data": {
      "text/plain": "0.2950882470201359"
     },
     "execution_count": 35,
     "metadata": {},
     "output_type": "execute_result"
    }
   ],
   "source": [
    "predictions_knn = algo_knn.test(testset)\n",
    "accuracy.rmse(predictions_knn)"
   ],
   "metadata": {
    "collapsed": false,
    "pycharm": {
     "name": "#%%\n"
    }
   }
  },
  {
   "cell_type": "markdown",
   "source": [
    "\n",
    "<font color = \"cyan\"><i>Sauvegarde du modèle et récupération des 10 meilleurs des articles pour chaque utilisateur</i></font>"
   ],
   "metadata": {
    "collapsed": false
   }
  },
  {
   "cell_type": "code",
   "execution_count": 36,
   "outputs": [],
   "source": [
    "from collections import defaultdict\n",
    "\n",
    "\n",
    "def get_top_n(predictions, n=10):\n",
    "    \"\"\"Return the top-N recommendation for each user from a set of predictions.\n",
    "\n",
    "    Args:\n",
    "        predictions(list of Prediction objects): The list of predictions, as\n",
    "            returned by the test method of an algorithm.\n",
    "        n(int): The number of recommendation to output for each user. Default\n",
    "            is 10.\n",
    "\n",
    "    Returns:\n",
    "    A dict where keys are user (raw) ids and values are lists of tuples:\n",
    "        [(raw item id, rating estimation), ...] of size n.\n",
    "    \"\"\"\n",
    "\n",
    "    # First map the predictions to each user.\n",
    "    top_n = defaultdict(list)\n",
    "    for uid, iid, true_r, est, _ in predictions:\n",
    "        top_n[uid].append((iid, est))\n",
    "\n",
    "    # Then sort the predictions for each user and retrieve the k highest ones.\n",
    "    for uid, user_ratings in top_n.items():\n",
    "        user_ratings.sort(key=lambda x: x[1], reverse=True)\n",
    "        top_n[uid] = user_ratings[:n]\n",
    "\n",
    "    return top_n\n",
    "\n"
   ],
   "metadata": {
    "collapsed": false,
    "pycharm": {
     "name": "#%%\n"
    }
   }
  },
  {
   "cell_type": "code",
   "execution_count": 37,
   "outputs": [],
   "source": [
    "top_10_knn = get_top_n(predictions_knn, n=10)\n",
    "\n",
    "with open(\"top_10_knn.txt\", \"wb\") as fp:\n",
    "    pickle.dump(top_10_knn, fp)\n",
    "\n",
    "file_model = open('algo_knn.pickle', 'wb')\n",
    "pickle.dump(algo_knn, file_model)\n",
    "file_model.close()"
   ],
   "metadata": {
    "collapsed": false,
    "pycharm": {
     "name": "#%%\n"
    }
   }
  },
  {
   "cell_type": "markdown",
   "source": [
    "## **SVD** <i>Singular Value Decomposition</i> et optimisation des paramètres du modèle\n",
    "\n",
    "\n",
    "><font color = \"green\"><i>Décomposition en valeurs singulières est un algorithme de factorisation de matrice les plus utilisés. L'algorithme **SVD** est efficace car il permet de trouver des variables latentes qui lient les utilisateurs et les articles\n",
    "</i></font>\n"
   ],
   "metadata": {
    "collapsed": false
   }
  },
  {
   "cell_type": "markdown",
   "source": [
    "\n",
    "\n",
    "<font color = \"cyan\"><i>Entrainement du modèle et recherche des paramètres optimaux</i></font>"
   ],
   "metadata": {
    "collapsed": false
   }
  },
  {
   "cell_type": "code",
   "execution_count": 38,
   "outputs": [],
   "source": [
    "param_grid = {\"n_epochs\": [5, 10],\n",
    "              \"lr_all\": [0.002, 0.005],\n",
    "              \"reg_all\": [0.4, 0.6]\n",
    "}\n",
    "\n",
    "gs = GridSearchCV(SVD, param_grid, measures=[\"rmse\", \"mae\"], cv=3)\n",
    "\n",
    "gs.fit(data)"
   ],
   "metadata": {
    "collapsed": false,
    "pycharm": {
     "name": "#%%\n"
    }
   }
  },
  {
   "cell_type": "markdown",
   "source": [
    "* Performance du modèle **SVD**"
   ],
   "metadata": {
    "collapsed": false
   }
  },
  {
   "cell_type": "code",
   "execution_count": 39,
   "outputs": [
    {
     "name": "stdout",
     "output_type": "stream",
     "text": [
      "0.39262805798229133\n",
      "{'n_epochs': 10, 'lr_all': 0.005, 'reg_all': 0.4}\n"
     ]
    }
   ],
   "source": [
    "print(gs.best_score[\"rmse\"])\n",
    "print(gs.best_params[\"rmse\"])"
   ],
   "metadata": {
    "collapsed": false,
    "pycharm": {
     "name": "#%%\n"
    }
   }
  },
  {
   "cell_type": "code",
   "execution_count": 40,
   "outputs": [
    {
     "name": "stdout",
     "output_type": "stream",
     "text": [
      "Evaluating RMSE, MAE of algorithm SVD on 3 split(s).\n",
      "\n",
      "                  Fold 1  Fold 2  Fold 3  Mean    Std     \n",
      "RMSE (testset)    0.4470  0.3899  0.3474  0.3948  0.0408  \n",
      "MAE (testset)     0.2075  0.1917  0.1840  0.1944  0.0098  \n",
      "Fit time          0.12    0.12    0.12    0.12    0.00    \n",
      "Test time         0.01    0.01    0.01    0.01    0.00    \n"
     ]
    },
    {
     "data": {
      "text/plain": "{'test_rmse': array([0.44698428, 0.38992476, 0.34740025]),\n 'test_mae': array([0.20747006, 0.19172768, 0.18402409]),\n 'fit_time': (0.11899709701538086, 0.12499332427978516, 0.11700034141540527),\n 'test_time': (0.00799870491027832,\n  0.008001089096069336,\n  0.007999897003173828)}"
     },
     "execution_count": 40,
     "metadata": {},
     "output_type": "execute_result"
    }
   ],
   "source": [
    "algo_svd = SVD()\n",
    "algo_svd.fit(trainset)\n",
    "\n",
    "cross_validate(algo_svd, data, measures=['RMSE', 'MAE'], cv=3, verbose=True)"
   ],
   "metadata": {
    "collapsed": false,
    "pycharm": {
     "name": "#%%\n"
    }
   }
  },
  {
   "cell_type": "code",
   "execution_count": 41,
   "outputs": [
    {
     "name": "stdout",
     "output_type": "stream",
     "text": [
      "RMSE: 0.3054\n"
     ]
    },
    {
     "data": {
      "text/plain": "0.3053826159683244"
     },
     "execution_count": 41,
     "metadata": {},
     "output_type": "execute_result"
    }
   ],
   "source": [
    "predictions_svd = algo_svd.test(testset)\n",
    "accuracy.rmse(predictions_svd)"
   ],
   "metadata": {
    "collapsed": false,
    "pycharm": {
     "name": "#%%\n"
    }
   }
  },
  {
   "cell_type": "markdown",
   "source": [
    "\n",
    "<font color = \"cyan\"><i> Sauvegarde du modèle et récupération du top 10 des articles pour chaque utilisateur</i></font>"
   ],
   "metadata": {
    "collapsed": false
   }
  },
  {
   "cell_type": "code",
   "execution_count": 42,
   "outputs": [],
   "source": [
    "top_10_svd = get_top_n(predictions_svd, n=10)\n",
    "\n",
    "with open(\"top_10_svd.txt\", \"wb\") as fp:\n",
    "    pickle.dump(top_10_svd, fp)\n",
    "\n",
    "file_model = open('algo_svd.pickle', 'wb')\n",
    "pickle.dump(algo_svd, file_model)\n",
    "file_model.close()\n"
   ],
   "metadata": {
    "collapsed": false,
    "pycharm": {
     "name": "#%%\n"
    }
   }
  },
  {
   "cell_type": "markdown",
   "source": [
    "# IV. Librairie **Implicit**\n"
   ],
   "metadata": {
    "collapsed": false
   }
  },
  {
   "cell_type": "code",
   "execution_count": 42,
   "outputs": [],
   "source": [],
   "metadata": {
    "collapsed": false,
    "pycharm": {
     "name": "#%%\n"
    }
   }
  },
  {
   "cell_type": "markdown",
   "source": [
    "\n",
    "<font color = \"green\"><i> L'algorithme **AlternatingLeastSquares** permet la factorisation de matrice dans le cas du Collaborative Filtering implicite.</i></font>"
   ],
   "metadata": {
    "collapsed": false
   }
  },
  {
   "cell_type": "code",
   "execution_count": 43,
   "outputs": [],
   "source": [
    "import scipy.sparse as sparse\n",
    "import implicit\n",
    "\n",
    "user_categories = sparse.csr_matrix((user_rating_enough['rating'].astype(float),\n",
    "                                   (user_rating_enough['user_id'],\n",
    "                                    user_rating_enough['category_id'])))\n",
    "category_users = sparse.csr_matrix((user_rating_enough['rating'].astype(float),\n",
    "                                (user_rating_enough['category_id'],\n",
    "                                 user_rating_enough['user_id'])))\n",
    "\n",
    "alpha = 40\n",
    "train_c = (category_users*alpha).astype('double')"
   ],
   "metadata": {
    "collapsed": false,
    "pycharm": {
     "name": "#%%\n"
    }
   }
  },
  {
   "cell_type": "code",
   "execution_count": 44,
   "outputs": [
    {
     "name": "stderr",
     "output_type": "stream",
     "text": [
      "WARNING:root:Intel MKL BLAS detected. Its highly recommend to set the environment variable 'export MKL_NUM_THREADS=1' to disable its internal multithreading\n"
     ]
    },
    {
     "data": {
      "text/plain": "  0%|          | 0/10 [00:00<?, ?it/s]",
      "application/vnd.jupyter.widget-view+json": {
       "version_major": 2,
       "version_minor": 0,
       "model_id": "fbb39ed9ed6b479990706142e875ea59"
      }
     },
     "metadata": {},
     "output_type": "display_data"
    }
   ],
   "source": [
    "model = implicit.als.AlternatingLeastSquares(factors=500, iterations=10)\n",
    "\n",
    "model.fit(train_c)"
   ],
   "metadata": {
    "collapsed": false,
    "pycharm": {
     "name": "#%%\n"
    }
   }
  },
  {
   "cell_type": "code",
   "execution_count": 44,
   "outputs": [],
   "source": [],
   "metadata": {
    "collapsed": false,
    "pycharm": {
     "name": "#%%\n"
    }
   }
  },
  {
   "cell_type": "code",
   "execution_count": 45,
   "outputs": [],
   "source": [
    "import csv\n",
    "\n",
    "fields = 'user_id', 'article_list'\n",
    "filename = 'rec_train.csv'\n",
    "\n",
    "\n",
    "df_recommendations= pd.DataFrame(columns=['user_id', 'article_list'])"
   ],
   "metadata": {
    "collapsed": false,
    "pycharm": {
     "name": "#%%\n"
    }
   }
  },
  {
   "cell_type": "code",
   "execution_count": 45,
   "outputs": [],
   "source": [],
   "metadata": {
    "collapsed": false,
    "pycharm": {
     "name": "#%%\n"
    }
   }
  },
  {
   "cell_type": "code",
   "execution_count": 46,
   "outputs": [],
   "source": [
    "\n",
    "userId = user_rating_enough['user_id'].values.tolist()\n",
    "i=0\n",
    "for user in userId:\n",
    "\n",
    "    scores = []\n",
    "    items = []\n",
    "    results = []\n",
    "    dict={}\n",
    "    results.append(user)\n",
    "    recommendations = model.recommend(user, user_categories, N = 5)\n",
    "    for item in recommendations:\n",
    "        ids, score = item\n",
    "        scores.append(score)\n",
    "        items.append(ids)\n",
    "    results.append(items)\n",
    "\n",
    "    if(user not in df_recommendations['user_id'].values):\n",
    "\n",
    "        dict={'user_id': user,\n",
    "            'article_list':items}\n",
    "        df_recommendations = df_recommendations.append(dict, ignore_index = True)\n"
   ],
   "metadata": {
    "collapsed": false,
    "pycharm": {
     "name": "#%%\n"
    }
   }
  },
  {
   "cell_type": "code",
   "execution_count": 47,
   "outputs": [],
   "source": [
    "df_recommendations.to_csv('df_recommendations.csv',index= False)\n"
   ],
   "metadata": {
    "collapsed": false,
    "pycharm": {
     "name": "#%%\n"
    }
   }
  },
  {
   "cell_type": "markdown",
   "source": [
    "# V. Ajout de nouveau utilisateur ou d'utilisateur sans contenu\n"
   ],
   "metadata": {
    "collapsed": false
   }
  },
  {
   "cell_type": "markdown",
   "source": [
    "\n",
    "><font color = \"green\"><i> Tous les utilisateurs qui n'on pas de contenu consulté ou les nouveaux utilisateurs se verrons attribués\n",
    "des articles de référence. Les articles de référence sont le top 10 des articles recommcomendé a tout le monde </i></font>\n",
    "\n"
   ],
   "metadata": {
    "collapsed": false
   }
  },
  {
   "cell_type": "code",
   "execution_count": 48,
   "outputs": [],
   "source": [
    "list_all_recom = []\n",
    "for row in range (len(df_recommendations['article_list'])):\n",
    "   list_all_recom = list_all_recom + df_recommendations['article_list'][row]"
   ],
   "metadata": {
    "collapsed": false,
    "pycharm": {
     "name": "#%%\n"
    }
   }
  },
  {
   "cell_type": "code",
   "execution_count": 49,
   "outputs": [
    {
     "data": {
      "text/plain": "281    512\n375    500\n43     493\n340    465\n99     405\n331    338\n136    315\n354    275\n26     190\n412     78\nName: article, dtype: int64"
     },
     "execution_count": 49,
     "metadata": {},
     "output_type": "execute_result"
    }
   ],
   "source": [
    "article = pd.Index(list_all_recom,name='article' )\n",
    "article.value_counts().head(10)"
   ],
   "metadata": {
    "collapsed": false,
    "pycharm": {
     "name": "#%%\n"
    }
   }
  },
  {
   "cell_type": "markdown",
   "source": [
    "<font color = \"green\"><i> top 10 des articles les plus recommandés</i></font>\n",
    "\n",
    "**281 375 340 43 99 136 331 354 26 332**"
   ],
   "metadata": {
    "collapsed": false
   }
  },
  {
   "cell_type": "code",
   "execution_count": 50,
   "outputs": [
    {
     "data": {
      "text/plain": "Int64Index([281, 375, 43, 340, 99, 331, 136, 354, 26, 412], dtype='int64')"
     },
     "execution_count": 50,
     "metadata": {},
     "output_type": "execute_result"
    }
   ],
   "source": [
    "article.value_counts().head(10).index\n",
    "\n"
   ],
   "metadata": {
    "collapsed": false,
    "pycharm": {
     "name": "#%%\n"
    }
   }
  },
  {
   "cell_type": "markdown",
   "source": [
    "><font color = \"green\"><i>L'ajout de nouvelle article se fera a la suite de dfarticle metadata </i></font>\n",
    "\n"
   ],
   "metadata": {
    "collapsed": false,
    "pycharm": {
     "name": "#%% md\n"
    }
   }
  }
 ],
 "metadata": {
  "kernelspec": {
   "display_name": "Python 3",
   "language": "python",
   "name": "python3"
  },
  "language_info": {
   "codemirror_mode": {
    "name": "ipython",
    "version": 2
   },
   "file_extension": ".py",
   "mimetype": "text/x-python",
   "name": "python",
   "nbconvert_exporter": "python",
   "pygments_lexer": "ipython2",
   "version": "2.7.6"
  }
 },
 "nbformat": 4,
 "nbformat_minor": 0
}