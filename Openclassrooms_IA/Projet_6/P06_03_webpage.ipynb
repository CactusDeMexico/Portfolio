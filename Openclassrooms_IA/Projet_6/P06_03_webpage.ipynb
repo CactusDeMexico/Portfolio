{
 "cells": [
  {
   "cell_type": "code",
   "execution_count": null,
   "metadata": {
    "collapsed": true
   },
   "outputs": [],
   "source": []
  },
  {
   "cell_type": "markdown",
   "source": [
    "# Projet 6 :  Améliorez le produit IA de votre start-up\n",
    "## Dashboard"
   ],
   "metadata": {
    "collapsed": false
   }
  },
  {
   "cell_type": "markdown",
   "source": [
    "<font color = \"grey\"><i> Chargement des modules necessaires </i></font>"
   ],
   "metadata": {
    "collapsed": false
   }
  },
  {
   "cell_type": "code",
   "execution_count": 1,
   "outputs": [
    {
     "name": "stderr",
     "output_type": "stream",
     "text": [
      "C:\\Users\\marj1\\AppData\\Local\\Temp/ipykernel_8228/3287845210.py:2: UserWarning: \n",
      "The dash_core_components package is deprecated. Please replace\n",
      "`import dash_core_components as dcc` with `from dash import dcc`\n",
      "  import dash_core_components as dcc\n",
      "C:\\Users\\marj1\\AppData\\Local\\Temp/ipykernel_8228/3287845210.py:3: UserWarning: \n",
      "The dash_html_components package is deprecated. Please replace\n",
      "`import dash_html_components as html` with `from dash import html`\n",
      "  import dash_html_components as html\n"
     ]
    }
   ],
   "source": [
    "import dash\n",
    "import dash_core_components as dcc\n",
    "import dash_html_components as html\n",
    "from dash.dependencies import Input, Output\n",
    "import pandas as pd\n",
    "import plotly.express as px\n",
    "from IPython.display import clear_output"
   ],
   "metadata": {
    "collapsed": false,
    "pycharm": {
     "name": "#%%\n"
    }
   }
  },
  {
   "cell_type": "markdown",
   "source": [
    "<font color = \"grey\"><i> Chargement du dataframe  </i></font>"
   ],
   "metadata": {
    "collapsed": false
   }
  },
  {
   "cell_type": "code",
   "execution_count": 2,
   "outputs": [
    {
     "name": "stdout",
     "output_type": "stream",
     "text": [
      "xxx C:\\Users\\marj1\\PycharmProjects\\Projet6\\data\n"
     ]
    }
   ],
   "source": [
    "import plotly.graph_objects as go\n",
    "\n",
    "\n",
    "missing_values = [\"na\",\"n/a\",\"--\",\" \"]\n",
    "df_img_clus_2D = pd.read_csv(\"P6_02_img_clus_2D.csv\",sep=',',\n",
    "                             na_values=missing_values,\n",
    "                             low_memory=False)\n",
    "df = px.data.iris()\n",
    "clear_output()\n",
    "X_projected_0 = df_img_clus_2D.iloc[:, 0]\n",
    "X_projected_1 = df_img_clus_2D.iloc[:, 1]\n",
    "import os\n",
    "assets_path = os.getcwd() +'\\data'\n",
    "print(\"xxx\",assets_path)"
   ],
   "metadata": {
    "collapsed": false,
    "pycharm": {
     "name": "#%%\n"
    }
   }
  },
  {
   "cell_type": "markdown",
   "source": [
    "<font color = \"grey\"><i> Configuration donnée dashboard </i></font>"
   ],
   "metadata": {
    "collapsed": false
   }
  },
  {
   "cell_type": "code",
   "source": [
    "app = dash.Dash(__name__,assets_folder=assets_path)\n",
    "\n",
    "app.layout = html.Div([\n",
    "    dcc.Graph(id=\"scatter-plot\"),\n",
    "    html.P(\"Projection des {} images et des 3 centroides sur le {}e plan factoriel\"\\\n",
    "                    .format(X_projected_0.shape[0], 1)),\n",
    "    dcc.RangeSlider(\n",
    "        id='range-slider',\n",
    "        min=-60, max=60, step=20,\n",
    "        marks={-60: '-60', 60: '-60'},\n",
    "        value=[0.5, 2]\n",
    "    ),html.H2(children='World cloud'),\n",
    "    html.Img(src=app.get_asset_url('wc_pic.png'),\n",
    "            style={'height':'70%', 'width':'70%'})\n",
    "])\n",
    "\n",
    "@app.callback(\n",
    "    Output(\"scatter-plot\", \"figure\"),\n",
    "    [Input(\"range-slider\", \"value\")])\n",
    "def update_bar_chart(slider_range):\n",
    "    low, high = slider_range\n",
    "\n",
    "    fig = px.scatter(df_img_clus_2D,\n",
    "                 x=\"0\",\n",
    "                 y=\"1\",\n",
    "                 color=\"cluster\"\n",
    "\n",
    "        )\n",
    "\n",
    "    fig.update_xaxes()\n",
    "    fig.update_yaxes()\n",
    "\n",
    "    margin = go.Margin(l=20, r=20, b=30, t=30)\n",
    "    fig.update_layout(yaxis_range=[-60,60])\n",
    "    fig.update_layout(margin=margin)\n",
    "    return fig\n"
   ],
   "metadata": {
    "collapsed": false,
    "pycharm": {
     "name": "#%%\n"
    }
   },
   "execution_count": 3,
   "outputs": []
  },
  {
   "cell_type": "markdown",
   "source": [
    "<font color = \"grey\"><i> Lancement dashboard  </i></font>"
   ],
   "metadata": {
    "collapsed": false
   }
  },
  {
   "cell_type": "code",
   "execution_count": 4,
   "outputs": [
    {
     "name": "stdout",
     "output_type": "stream",
     "text": [
      "Dash is running on http://127.0.0.1:8050/\n",
      "\n",
      " * Serving Flask app '__main__' (lazy loading)\n",
      " * Environment: production\n",
      "\u001B[31m   WARNING: This is a development server. Do not use it in a production deployment.\u001B[0m\n",
      "\u001B[2m   Use a production WSGI server instead.\u001B[0m\n",
      " * Debug mode: on\n"
     ]
    },
    {
     "name": "stderr",
     "output_type": "stream",
     "text": [
      "c:\\users\\marj1\\pycharmprojects\\projet6\\env\\lib\\site-packages\\plotly\\graph_objs\\_deprecations.py:405: DeprecationWarning:\n",
      "\n",
      "plotly.graph_objs.Margin is deprecated.\n",
      "Please replace it with one of the following more specific types\n",
      "  - plotly.graph_objs.layout.Margin\n",
      "\n",
      "\n"
     ]
    }
   ],
   "source": [
    "app.run_server(debug=True, use_reloader=False)\n"
   ],
   "metadata": {
    "collapsed": false,
    "pycharm": {
     "name": "#%%\n"
    }
   }
  }
 ],
 "metadata": {
  "kernelspec": {
   "display_name": "Python 3",
   "language": "python",
   "name": "python3"
  },
  "language_info": {
   "codemirror_mode": {
    "name": "ipython",
    "version": 2
   },
   "file_extension": ".py",
   "mimetype": "text/x-python",
   "name": "python",
   "nbconvert_exporter": "python",
   "pygments_lexer": "ipython2",
   "version": "2.7.6"
  }
 },
 "nbformat": 4,
 "nbformat_minor": 0
}