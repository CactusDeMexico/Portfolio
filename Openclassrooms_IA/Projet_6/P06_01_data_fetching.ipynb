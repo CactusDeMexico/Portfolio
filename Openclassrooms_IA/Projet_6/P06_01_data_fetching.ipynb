{
 "cells": [
  {
   "cell_type": "code",
   "execution_count": null,
   "metadata": {
    "collapsed": true
   },
   "outputs": [],
   "source": []
  },
  {
   "cell_type": "markdown",
   "source": [
    "# Projet 6 :  Améliorez le produit IA de votre start-up\n",
    "<font color = \"cyan\"><i>  Récupération des données et enregistrement sur fichier csv</i></font>"
   ],
   "metadata": {
    "collapsed": false
   }
  },
  {
   "cell_type": "markdown",
   "source": [
    "<font color = \"grey\"><i> Chargement des modules necessaires </i></font>"
   ],
   "metadata": {
    "collapsed": false,
    "pycharm": {
     "name": "#%% md\n"
    }
   }
  },
  {
   "cell_type": "code",
   "source": [
    "import os\n",
    "import requests\n",
    "import uuid\n",
    "import json\n",
    "import pandas as pd"
   ],
   "metadata": {
    "collapsed": false,
    "pycharm": {
     "name": "#%%\n"
    }
   },
   "execution_count": 1,
   "outputs": []
  },
  {
   "cell_type": "markdown",
   "source": [
    "## Sommaire\n",
    "<h1><a href='#data_fetch'>I)Récupération des données</a></h1>\n",
    "    <h2><a href='#data_fetch_api'>I.1) Utilisation de l'API Yelp</a></h2>\n",
    "    <h2><a href='#data_save'>I.2) Enregistrement des données dans un dictionnaire</a></h2>\n",
    "    <h2><a href='#data_gen'>I.3) Conversion en fichier csv</a></h2>"
   ],
   "metadata": {
    "collapsed": false
   }
  },
  {
   "cell_type": "markdown",
   "source": [
    "<a id='data_fetch'></a>\n",
    "## I) Récupération des données"
   ],
   "metadata": {
    "collapsed": false,
    "pycharm": {
     "name": "#%% md\n"
    }
   }
  },
  {
   "cell_type": "markdown",
   "source": [
    "<a id='data_fetch_api'></a>\n",
    "### I.1)  Utilisation de l'API\n",
    "<font color = \"cyan\"><i>  requêtes **GET** pour obtenir les commentaires et les photos de 200 restaurants de Paris.</i></font>"
   ],
   "metadata": {
    "collapsed": false,
    "pycharm": {
     "name": "#%% md\n"
    }
   }
  },
  {
   "cell_type": "code",
   "execution_count": 2,
   "outputs": [
    {
     "name": "stdout",
     "output_type": "stream",
     "text": [
      "key :x D47uwli50NFj4QTtEV4lZiYpGEgm7-GdQo49r0DV7OhiCQyZAXtuPMPQVyZO1eFixU5QKJwsrhpghei0zXU9IceeN2ZSxlzgj1b3yluznBAs6z1wmWZiRA4DcVFZYXYx\n",
      "https://api.yelp.com/v3/businesses/search\n",
      "The status code is 200\n",
      "{\"businesses\": [{\"id\": \"-0iLH7iQNYtoURciDpJf6w\", \"alias\": \"le-comptoir-de-la-gastronomie-paris\", \"name\": \"Le Comptoir de la Gastronomie\", \"image_url\": \"https://s3-media2.fl.yelpcdn.com/bphoto/Je6THJBI0U0b1N47INfaKQ/o.jpg\", \"is_closed\": false, \"url\": \"https://www.yelp.com/biz/le-comptoir-de-la-gastronomie-paris?adjust_creative=kbKyAG8-dQFg3Zw0SZOBMQ&utm_campaign=yelp_api_v3&utm_medium=api_v3_business_search&utm_source=kbKyAG8-dQFg3Zw0SZOBMQ\", \"review_count\": 1107, \"categories\": [{\"alias\": \"french\", \"title\": \"French\"}], \"rating\": 4.5, \"coordinates\": {\"latitude\": 48.8645157999652, \"longitude\": 2.34540185646608}, \"transactions\": [], \"price\": \"\\u20ac\\u20ac\", \"location\": {\"address1\": \"34 rue Montmartre\", \"address2\": \"\", \"address3\": \"\", \"city\": \"Paris\", \"zip_code\": \"75001\", \"country\": \"FR\", \"state\": \"75\", \"display_address\": [\"34 rue Montmartre\", \"75001 Paris\", \"France\"]}, \"phone\": \"+33142333132\", \"display_phone\": \"+33 1 42 33 31 32\", \"distance\": 370.8275165771047}, {\"id\": \"IU9_wVOGBKjfqTTpAXpKcQ\", \"alias\": \"bistro-des-augustins-paris\", \"name\": \"Bistro des Augustins\", \"image_url\": \"https://s3-media1.fl.yelpcdn.com/bphoto/hPCZTbuWGgjBvMsB2unxWg/o.jpg\", \"is_closed\": false, \"url\": \"https://www.yelp.com/biz/bistro-des-augustins-paris?adjust_creative=kbKyAG8-dQFg3Zw0SZOBMQ&utm_campaign=yelp_api_v3&utm_medium=api_v3_business_search&utm_source=kbKyAG8-dQFg3Zw0SZOBMQ\", \"review_count\": 433, \"categories\": [{\"alias\": \"bistros\", \"title\": \"Bistros\"}, {\"alias\": \"wine_bars\", \"title\": \"Wine Bars\"}], \"rating\": 4.5, \"coordinates\": {\"latitude\": 48.854754, \"longitude\": 2.342119}, \"transactions\": [], \"price\": \"\\u20ac\\u20ac\", \"location\": {\"address1\": \"39 quai des Grands Augustins\", \"address2\": null, \"address3\": null, \"city\": \"Paris\", \"zip_code\": \"75006\", \"country\": \"FR\", \"state\": \"75\", \"display_address\": [\"39 quai des Grands Augustins\", \"75006 Paris\", \"France\"]}, \"phone\": \"+33143540441\", \"display_phone\": \"+33 1 43 54 04 41\", \"distance\": 801.1176096949143}, {\"id\": \"cEjF41ZQB8-SST8cd3EsEw\", \"alias\": \"l-avant-comptoir-paris-3\", \"name\": \"L'Avant Comptoir\", \"image_url\": \"https://s3-media3.fl.yelpcdn.com/bphoto/mVwgxgmpUcAUOZKdxypwSw/o.jpg\", \"is_closed\": false, \"url\": \"https://www.yelp.com/biz/l-avant-comptoir-paris-3?adjust_creative=kbKyAG8-dQFg3Zw0SZOBMQ&utm_campaign=yelp_api_v3&utm_medium=api_v3_business_search&utm_source=kbKyAG8-dQFg3Zw0SZOBMQ\", \"review_count\": 612, \"categories\": [{\"alias\": \"tapas\", \"title\": \"Tapas Bars\"}, {\"alias\": \"wine_bars\", \"title\": \"Wine Bars\"}], \"rating\": 4.5, \"coordinates\": {\"latitude\": 48.85202, \"longitude\": 2.3388}, \"transactions\": [], \"price\": \"\\u20ac\\u20ac\", \"location\": {\"address1\": \"3 carrefour de l'Od\\u00e9on\", \"address2\": \"\", \"address3\": \"\", \"city\": \"Paris\", \"zip_code\": \"75006\", \"country\": \"FR\", \"state\": \"75\", \"display_address\": [\"3 carrefour de l'Od\\u00e9on\", \"75006 Paris\", \"France\"]}, \"phone\": \"+33142384755\", \"display_phone\": \"+33 1 42 38 47 55\", \"distance\": 1130.0258091234216}, {\"id\": \"FFz-WusZrBYZexKqhqzCkg\", \"alias\": \"l-as-du-fallafel-paris\", \"name\": \"L'As du Fallafel\", \"image_url\": \"https://s3-media2.fl.yelpcdn.com/bphoto/wdIhzKpjykaxsDiSCynQTA/o.jpg\", \"is_closed\": false, \"url\": \"https://www.yelp.com/biz/l-as-du-fallafel-paris?adjust_creative=kbKyAG8-dQFg3Zw0SZOBMQ&utm_campaign=yelp_api_v3&utm_medium=api_v3_business_search&utm_source=kbKyAG8-dQFg3Zw0SZOBMQ\", \"review_count\": 1811, \"categories\": [{\"alias\": \"kosher\", \"title\": \"Kosher\"}, {\"alias\": \"sandwiches\", \"title\": \"Sandwiches\"}, {\"alias\": \"falafel\", \"title\": \"Falafel\"}], \"rating\": 4.5, \"coordinates\": {\"latitude\": 48.857498, \"longitude\": 2.35908}, \"transactions\": [], \"price\": \"\\u20ac\", \"location\": {\"address1\": \"34 rue des Rosiers\", \"address2\": \"\", \"address3\": \"\", \"city\": \"Paris\", \"zip_code\": \"75004\", \"country\": \"FR\", \"state\": \"75\", \"display_address\": [\"34 rue des Rosiers\", \"75004 Paris\", \"France\"]}, \"phone\": \"+33148876360\", \"display_phone\": \"+33 1 48 87 63 60\", \"distance\": 1334.296841418717}, {\"id\": \"KggnM_Z4wOa_JExunaaWHg\", \"alias\": \"le-temps-des-cerises-paris-5\", \"name\": \"Le Temps des Cerises\", \"image_url\": \"https://s3-media1.fl.yelpcdn.com/bphoto/g3AabbeUo_jMvM2jjSH1XQ/o.jpg\", \"is_closed\": false, \"url\": \"https://www.yelp.com/biz/le-temps-des-cerises-paris-5?adjust_creative=kbKyAG8-dQFg3Zw0SZOBMQ&utm_campaign=yelp_api_v3&utm_medium=api_v3_business_search&utm_source=kbKyAG8-dQFg3Zw0SZOBMQ\", \"review_count\": 342, \"categories\": [{\"alias\": \"french\", \"title\": \"French\"}, {\"alias\": \"bistros\", \"title\": \"Bistros\"}, {\"alias\": \"cafes\", \"title\": \"Cafes\"}], \"rating\": 4.5, \"coordinates\": {\"latitude\": 48.852569, \"longitude\": 2.364184}, \"transactions\": [], \"price\": \"\\u20ac\\u20ac\", \"location\": {\"address1\": \"31 rue de la Cerisaie\", \"address2\": null, \"address3\": null, \"city\": \"Paris\", \"zip_code\": \"75004\", \"country\": \"FR\", \"state\": \"75\", \"display_address\": [\"31 rue de la Cerisaie\", \"75004 Paris\", \"France\"]}, \"phone\": \"+33142720863\", \"display_phone\": \"+33 1 42 72 08 63\", \"distance\": 1920.7073073260806}, {\"id\": \"ijqSzadlZ9SCXvUEpMimcA\", \"alias\": \"angelina-paris\", \"name\": \"Angelina\", \"image_url\": \"https://s3-media3.fl.yelpcdn.com/bphoto/DPM5TBOugWZeUJDG55zfwQ/o.jpg\", \"is_closed\": false, \"url\": \"https://www.yelp.com/biz/angelina-paris?adjust_creative=kbKyAG8-dQFg3Zw0SZOBMQ&utm_campaign=yelp_api_v3&utm_medium=api_v3_business_search&utm_source=kbKyAG8-dQFg3Zw0SZOBMQ\", \"review_count\": 1348, \"categories\": [{\"alias\": \"breakfast_brunch\", \"title\": \"Breakfast & Brunch\"}, {\"alias\": \"tea\", \"title\": \"Tea Rooms\"}, {\"alias\": \"cakeshop\", \"title\": \"Patisserie/Cake Shop\"}], \"rating\": 4.0, \"coordinates\": {\"latitude\": 48.865092, \"longitude\": 2.328464}, \"transactions\": [], \"price\": \"\\u20ac\\u20ac\\u20ac\", \"location\": {\"address1\": \"226 rue de Rivoli\", \"address2\": null, \"address3\": null, \"city\": \"Paris\", \"zip_code\": \"75001\", \"country\": \"FR\", \"state\": \"75\", \"display_address\": [\"226 rue de Rivoli\", \"75001 Paris\", \"France\"]}, \"phone\": \"+33142608200\", \"display_phone\": \"+33 1 42 60 82 00\", \"distance\": 1059.8775176567408}, {\"id\": \"PHsKPp496sFZm9K9Xz_TlA\", \"alias\": \"sanukiya-paris\", \"name\": \"Sanukiya\", \"image_url\": \"https://s3-media1.fl.yelpcdn.com/bphoto/1NCC7PiIP0sMuUpYIkRvKw/o.jpg\", \"is_closed\": false, \"url\": \"https://www.yelp.com/biz/sanukiya-paris?adjust_creative=kbKyAG8-dQFg3Zw0SZOBMQ&utm_campaign=yelp_api_v3&utm_medium=api_v3_business_search&utm_source=kbKyAG8-dQFg3Zw0SZOBMQ\", \"review_count\": 347, \"categories\": [{\"alias\": \"japanese\", \"title\": \"Japanese\"}], \"rating\": 4.5, \"coordinates\": {\"latitude\": 48.8647, \"longitude\": 2.3338199}, \"transactions\": [], \"price\": \"\\u20ac\\u20ac\", \"location\": {\"address1\": \"9 rue d'Argenteuil\", \"address2\": \"\", \"address3\": \"\", \"city\": \"Paris\", \"zip_code\": \"75001\", \"country\": \"FR\", \"state\": \"75\", \"display_address\": [\"9 rue d'Argenteuil\", \"75001 Paris\", \"France\"]}, \"phone\": \"+33142605261\", \"display_phone\": \"+33 1 42 60 52 61\", \"distance\": 687.1289064340056}, {\"id\": \"70xArgLO0k56YAytyBIHyg\", \"alias\": \"baguetts-caf\\u00e9-paris\", \"name\": \"Baguett's Caf\\u00e9\", \"image_url\": \"https://s3-media4.fl.yelpcdn.com/bphoto/6MMvedSh18l1YnJZOprd8Q/o.jpg\", \"is_closed\": false, \"url\": \"https://www.yelp.com/biz/baguetts-caf%C3%A9-paris?adjust_creative=kbKyAG8-dQFg3Zw0SZOBMQ&utm_campaign=yelp_api_v3&utm_medium=api_v3_business_search&utm_source=kbKyAG8-dQFg3Zw0SZOBMQ\", \"review_count\": 193, \"categories\": [{\"alias\": \"cafes\", \"title\": \"Cafes\"}, {\"alias\": \"breakfast_brunch\", \"title\": \"Breakfast & Brunch\"}], \"rating\": 4.5, \"coordinates\": {\"latitude\": 48.86528, \"longitude\": 2.33657}, \"transactions\": [], \"price\": \"\\u20ac\\u20ac\", \"location\": {\"address1\": \"33 rue de Richelieu\", \"address2\": \"\", \"address3\": \"\", \"city\": \"Paris\", \"zip_code\": \"75001\", \"country\": \"FR\", \"state\": \"75\", \"display_address\": [\"33 rue de Richelieu\", \"75001 Paris\", \"France\"]}, \"phone\": \"+33954830486\", \"display_phone\": \"+33 9 54 83 04 86\", \"distance\": 556.2220788075778}, {\"id\": \"-umFmobUgpW_05m_ud1vHw\", \"alias\": \"la-cordonnerie-paris-5\", \"name\": \"La Cordonnerie\", \"image_url\": \"https://s3-media2.fl.yelpcdn.com/bphoto/X1Se23PBPKPppASL4Se76A/o.jpg\", \"is_closed\": false, \"url\": \"https://www.yelp.com/biz/la-cordonnerie-paris-5?adjust_creative=kbKyAG8-dQFg3Zw0SZOBMQ&utm_campaign=yelp_api_v3&utm_medium=api_v3_business_search&utm_source=kbKyAG8-dQFg3Zw0SZOBMQ\", \"review_count\": 80, \"categories\": [{\"alias\": \"french\", \"title\": \"French\"}], \"rating\": 5.0, \"coordinates\": {\"latitude\": 48.86543, \"longitude\": 2.33237}, \"transactions\": [], \"price\": \"\\u20ac\\u20ac\\u20ac\", \"location\": {\"address1\": \"20 rue Saint Roch\", \"address2\": null, \"address3\": null, \"city\": \"Paris\", \"zip_code\": \"75001\", \"country\": \"FR\", \"state\": \"75\", \"display_address\": [\"20 rue Saint Roch\", \"75001 Paris\", \"France\"]}, \"phone\": \"+33142601742\", \"display_phone\": \"+33 1 42 60 17 42\", \"distance\": 811.3762476895778}, {\"id\": \"28m3vU-aLX76lMEyT3WL5Q\", \"alias\": \"pain-vin-fromages-paris\", \"name\": \"Pain Vin Fromages\", \"image_url\": \"https://s3-media2.fl.yelpcdn.com/bphoto/gBaxX3MHScEyCWpLGzG2Ew/o.jpg\", \"is_closed\": false, \"url\": \"https://www.yelp.com/biz/pain-vin-fromages-paris?adjust_creative=kbKyAG8-dQFg3Zw0SZOBMQ&utm_campaign=yelp_api_v3&utm_medium=api_v3_business_search&utm_source=kbKyAG8-dQFg3Zw0SZOBMQ\", \"review_count\": 251, \"categories\": [{\"alias\": \"fondue\", \"title\": \"Fondue\"}], \"rating\": 4.5, \"coordinates\": {\"latitude\": 48.860525, \"longitude\": 2.354439}, \"transactions\": [], \"price\": \"\\u20ac\\u20ac\", \"location\": {\"address1\": \"3 rue Geoffroy-l'Angevin\", \"address2\": null, \"address3\": null, \"city\": \"Paris\", \"zip_code\": \"75004\", \"country\": \"FR\", \"state\": \"75\", \"display_address\": [\"3 rue Geoffroy-l'Angevin\", \"75004 Paris\", \"France\"]}, \"phone\": \"+33142740752\", \"display_phone\": \"+33 1 42 74 07 52\", \"distance\": 913.1624141139349}, {\"id\": \"WHHt_Jb8Tgidn9mW7oDnIg\", \"alias\": \"la-co\\u00efncidence-paris-4\", \"name\": \"La Co\\u00efncidence\", \"image_url\": \"https://s3-media1.fl.yelpcdn.com/bphoto/QdrAgEgbd5TLlqZYT_dezg/o.jpg\", \"is_closed\": false, \"url\": \"https://www.yelp.com/biz/la-co%C3%AFncidence-paris-4?adjust_creative=kbKyAG8-dQFg3Zw0SZOBMQ&utm_campaign=yelp_api_v3&utm_medium=api_v3_business_search&utm_source=kbKyAG8-dQFg3Zw0SZOBMQ\", \"review_count\": 493, \"categories\": [{\"alias\": \"french\", \"title\": \"French\"}], \"rating\": 4.5, \"coordinates\": {\"latitude\": 48.868105, \"longitude\": 2.284365}, \"transactions\": [], \"price\": \"\\u20ac\\u20ac\", \"location\": {\"address1\": \"15 rue Mesnil\", \"address2\": \"\", \"address3\": \"\", \"city\": \"Paris\", \"zip_code\": \"75116\", \"country\": \"FR\", \"state\": \"75\", \"display_address\": [\"15 rue Mesnil\", \"75116 Paris\", \"France\"]}, \"phone\": \"+33147559644\", \"display_phone\": \"+33 1 47 55 96 44\", \"distance\": 4281.588159098756}, {\"id\": \"_qACPRqSQ6Nvd20H8EY3uw\", \"alias\": \"frenchie-restaurant-paris\", \"name\": \"Frenchie Restaurant\", \"image_url\": \"https://s3-media2.fl.yelpcdn.com/bphoto/E8EGlQnkJX4Z1SnsW_-qtg/o.jpg\", \"is_closed\": false, \"url\": \"https://www.yelp.com/biz/frenchie-restaurant-paris?adjust_creative=kbKyAG8-dQFg3Zw0SZOBMQ&utm_campaign=yelp_api_v3&utm_medium=api_v3_business_search&utm_source=kbKyAG8-dQFg3Zw0SZOBMQ\", \"review_count\": 214, \"categories\": [{\"alias\": \"french\", \"title\": \"French\"}, {\"alias\": \"modern_european\", \"title\": \"Modern European\"}], \"rating\": 4.5, \"coordinates\": {\"latitude\": 48.867754322367, \"longitude\": 2.3477420774331}, \"transactions\": [], \"price\": \"\\u20ac\\u20ac\\u20ac\\u20ac\", \"location\": {\"address1\": \"5-6 rue du Nil\", \"address2\": null, \"address3\": null, \"city\": \"Paris\", \"zip_code\": \"75002\", \"country\": \"FR\", \"state\": \"75\", \"display_address\": [\"5-6 rue du Nil\", \"75002 Paris\", \"France\"]}, \"phone\": \"+33140399619\", \"display_phone\": \"+33 1 40 39 96 19\", \"distance\": 763.3950800840072}, {\"id\": \"4fyyfJ7S8m6TaHL_Ho7mWA\", \"alias\": \"caf\\u00e9-plume-paris-2\", \"name\": \"Caf\\u00e9 Plume\", \"image_url\": \"https://s3-media3.fl.yelpcdn.com/bphoto/rGwxQWIFAseAnmZGUL0oaA/o.jpg\", \"is_closed\": false, \"url\": \"https://www.yelp.com/biz/caf%C3%A9-plume-paris-2?adjust_creative=kbKyAG8-dQFg3Zw0SZOBMQ&utm_campaign=yelp_api_v3&utm_medium=api_v3_business_search&utm_source=kbKyAG8-dQFg3Zw0SZOBMQ\", \"review_count\": 18, \"categories\": [{\"alias\": \"brasseries\", \"title\": \"Brasseries\"}], \"rating\": 4.0, \"coordinates\": {\"latitude\": 48.862233, \"longitude\": 2.339744}, \"transactions\": [], \"price\": \"\\u20ac\\u20ac\", \"location\": {\"address1\": \"164 rue Saint-Honor\\u00e9\", \"address2\": \"\", \"address3\": null, \"city\": \"Paris\", \"zip_code\": \"75001\", \"country\": \"FR\", \"state\": \"75\", \"display_address\": [\"164 rue Saint-Honor\\u00e9\", \"75001 Paris\", \"France\"]}, \"phone\": \"+33142602766\", \"display_phone\": \"+33 1 42 60 27 66\", \"distance\": 178.4724530940123}, {\"id\": \"ctP4c3mwVO5oOzLI48LtuQ\", \"alias\": \"les-antiquaires-paris\", \"name\": \"Les Antiquaires\", \"image_url\": \"https://s3-media3.fl.yelpcdn.com/bphoto/aBwaSVkWWFKTGl1gM8N90g/o.jpg\", \"is_closed\": false, \"url\": \"https://www.yelp.com/biz/les-antiquaires-paris?adjust_creative=kbKyAG8-dQFg3Zw0SZOBMQ&utm_campaign=yelp_api_v3&utm_medium=api_v3_business_search&utm_source=kbKyAG8-dQFg3Zw0SZOBMQ\", \"review_count\": 349, \"categories\": [{\"alias\": \"bistros\", \"title\": \"Bistros\"}], \"rating\": 4.5, \"coordinates\": {\"latitude\": 48.8580664639432, \"longitude\": 2.32823697067099}, \"transactions\": [], \"price\": \"\\u20ac\\u20ac\", \"location\": {\"address1\": \"13 rue du Bac\", \"address2\": \"\", \"address3\": \"\", \"city\": \"Paris\", \"zip_code\": \"75007\", \"country\": \"FR\", \"state\": \"75\", \"display_address\": [\"13 rue du Bac\", \"75007 Paris\", \"France\"]}, \"phone\": \"+33142610836\", \"display_phone\": \"+33 1 42 61 08 36\", \"distance\": 1105.8560284268087}, {\"id\": \"wLgAxIB7111BcWLWh7KpFw\", \"alias\": \"la-r\\u00e9galade-paris-3\", \"name\": \"La R\\u00e9galade\", \"image_url\": \"https://s3-media2.fl.yelpcdn.com/bphoto/nwb_ZGdDYX5X-jaLE7Id7w/o.jpg\", \"is_closed\": false, \"url\": \"https://www.yelp.com/biz/la-r%C3%A9galade-paris-3?adjust_creative=kbKyAG8-dQFg3Zw0SZOBMQ&utm_campaign=yelp_api_v3&utm_medium=api_v3_business_search&utm_source=kbKyAG8-dQFg3Zw0SZOBMQ\", \"review_count\": 88, \"categories\": [{\"alias\": \"french\", \"title\": \"French\"}], \"rating\": 4.5, \"coordinates\": {\"latitude\": 48.8616441182389, \"longitude\": 2.34201570904084}, \"transactions\": [], \"price\": \"\\u20ac\\u20ac\\u20ac\", \"location\": {\"address1\": \"106 rue Saint-Honor\\u00e9\", \"address2\": \"\", \"address3\": \"\", \"city\": \"Paris\", \"zip_code\": \"75001\", \"country\": \"FR\", \"state\": \"75\", \"display_address\": [\"106 rue Saint-Honor\\u00e9\", \"75001 Paris\", \"France\"]}, \"phone\": \"+33142219240\", \"display_phone\": \"+33 1 42 21 92 40\", \"distance\": 36.280480383292954}, {\"id\": \"Vc-sEV8jnXpHbFeUvP5tLA\", \"alias\": \"le-relais-de-l-entrec\\u00f4te-paris-4\", \"name\": \"Le Relais de l'Entrec\\u00f4te\", \"image_url\": \"https://s3-media2.fl.yelpcdn.com/bphoto/7dOOSqmMo5AfDjCGSv4QnQ/o.jpg\", \"is_closed\": false, \"url\": \"https://www.yelp.com/biz/le-relais-de-l-entrec%C3%B4te-paris-4?adjust_creative=kbKyAG8-dQFg3Zw0SZOBMQ&utm_campaign=yelp_api_v3&utm_medium=api_v3_business_search&utm_source=kbKyAG8-dQFg3Zw0SZOBMQ\", \"review_count\": 434, \"categories\": [{\"alias\": \"steak\", \"title\": \"Steakhouses\"}], \"rating\": 4.0, \"coordinates\": {\"latitude\": 48.85469, \"longitude\": 2.3329}, \"transactions\": [], \"price\": \"\\u20ac\\u20ac\\u20ac\", \"location\": {\"address1\": \"20 rue Saint Beno\\u00eet\", \"address2\": null, \"address3\": null, \"city\": \"Paris\", \"zip_code\": \"75006\", \"country\": \"FR\", \"state\": \"75\", \"display_address\": [\"20 rue Saint Beno\\u00eet\", \"75006 Paris\", \"France\"]}, \"phone\": \"+33145491600\", \"display_phone\": \"+33 1 45 49 16 00\", \"distance\": 1054.0192939334372}, {\"id\": \"PGH7BfXz0PNHuwlSt453rA\", \"alias\": \"le-boui-boui-paris\", \"name\": \"Le Boui Boui\", \"image_url\": \"https://s3-media3.fl.yelpcdn.com/bphoto/ByEGEZObiEotGPlZzBuyLg/o.jpg\", \"is_closed\": false, \"url\": \"https://www.yelp.com/biz/le-boui-boui-paris?adjust_creative=kbKyAG8-dQFg3Zw0SZOBMQ&utm_campaign=yelp_api_v3&utm_medium=api_v3_business_search&utm_source=kbKyAG8-dQFg3Zw0SZOBMQ\", \"review_count\": 58, \"categories\": [{\"alias\": \"french\", \"title\": \"French\"}], \"rating\": 4.5, \"coordinates\": {\"latitude\": 48.865005, \"longitude\": 2.347665}, \"transactions\": [], \"price\": \"\\u20ac\\u20ac\", \"location\": {\"address1\": \"11 rue Marie Stuart\", \"address2\": null, \"address3\": null, \"city\": \"Paris\", \"zip_code\": \"75002\", \"country\": \"FR\", \"state\": \"75\", \"display_address\": [\"11 rue Marie Stuart\", \"75002 Paris\", \"France\"]}, \"phone\": \"+33142364094\", \"display_phone\": \"+33 1 42 36 40 94\", \"distance\": 526.9014333643286}, {\"id\": \"26Ts-2XRSeqiweSwLuyv6Q\", \"alias\": \"grenouilles-paris\", \"name\": \"Grenouilles\", \"image_url\": \"https://s3-media4.fl.yelpcdn.com/bphoto/fgVrLC9wMetmYwaPSGly_w/o.jpg\", \"is_closed\": false, \"url\": \"https://www.yelp.com/biz/grenouilles-paris?adjust_creative=kbKyAG8-dQFg3Zw0SZOBMQ&utm_campaign=yelp_api_v3&utm_medium=api_v3_business_search&utm_source=kbKyAG8-dQFg3Zw0SZOBMQ\", \"review_count\": 38, \"categories\": [{\"alias\": \"sandwiches\", \"title\": \"Sandwiches\"}, {\"alias\": \"delicatessen\", \"title\": \"Delicatessen\"}], \"rating\": 5.0, \"coordinates\": {\"latitude\": 48.8871061857917, \"longitude\": 2.34178242552619}, \"transactions\": [], \"price\": \"\\u20ac\", \"location\": {\"address1\": \"55 rue du Chevalier de la Barre\", \"address2\": \"\", \"address3\": null, \"city\": \"Paris\", \"zip_code\": \"75018\", \"country\": \"FR\", \"state\": \"75\", \"display_address\": [\"55 rue du Chevalier de la Barre\", \"75018 Paris\", \"France\"]}, \"phone\": \"+33665139567\", \"display_phone\": \"+33 6 65 13 95 67\", \"distance\": 2796.4077926191967}, {\"id\": \"kYb2q4Li8Cw2PY_I9lCJOw\", \"alias\": \"chez-janou-paris\", \"name\": \"Chez Janou\", \"image_url\": \"https://s3-media2.fl.yelpcdn.com/bphoto/gCrBJ7SsnPpGC6NCEkj4vA/o.jpg\", \"is_closed\": false, \"url\": \"https://www.yelp.com/biz/chez-janou-paris?adjust_creative=kbKyAG8-dQFg3Zw0SZOBMQ&utm_campaign=yelp_api_v3&utm_medium=api_v3_business_search&utm_source=kbKyAG8-dQFg3Zw0SZOBMQ\", \"review_count\": 532, \"categories\": [{\"alias\": \"bistros\", \"title\": \"Bistros\"}, {\"alias\": \"provencal\", \"title\": \"Provencal\"}], \"rating\": 4.0, \"coordinates\": {\"latitude\": 48.8566952430158, \"longitude\": 2.36717752386277}, \"transactions\": [], \"price\": \"\\u20ac\\u20ac\", \"location\": {\"address1\": \"2 rue Roger Verlomme\", \"address2\": \"\", \"address3\": \"\", \"city\": \"Paris\", \"zip_code\": \"75003\", \"country\": \"FR\", \"state\": \"75\", \"display_address\": [\"2 rue Roger Verlomme\", \"75003 Paris\", \"France\"]}, \"phone\": \"+33142722841\", \"display_phone\": \"+33 1 42 72 28 41\", \"distance\": 1922.3345786490104}, {\"id\": \"YRMHyCvqMz_lLgpqjNj_tw\", \"alias\": \"la-droguerie-du-marais-paris\", \"name\": \"La Droguerie du Marais\", \"image_url\": \"https://s3-media2.fl.yelpcdn.com/bphoto/YwUvdUKseG8-X8P-vVBPKw/o.jpg\", \"is_closed\": false, \"url\": \"https://www.yelp.com/biz/la-droguerie-du-marais-paris?adjust_creative=kbKyAG8-dQFg3Zw0SZOBMQ&utm_campaign=yelp_api_v3&utm_medium=api_v3_business_search&utm_source=kbKyAG8-dQFg3Zw0SZOBMQ\", \"review_count\": 214, \"categories\": [{\"alias\": \"creperies\", \"title\": \"Creperies\"}], \"rating\": 4.5, \"coordinates\": {\"latitude\": 48.85789, \"longitude\": 2.35797}, \"transactions\": [], \"price\": \"\\u20ac\", \"location\": {\"address1\": \"56 rue des Rosiers\", \"address2\": \"\", \"address3\": \"\", \"city\": \"Paris\", \"zip_code\": \"75004\", \"country\": \"FR\", \"state\": \"75\", \"display_address\": [\"56 rue des Rosiers\", \"75004 Paris\", \"France\"]}, \"phone\": \"\", \"display_phone\": \"\", \"distance\": 1248.4868955927175}, {\"id\": \"SkZWjUwmNgcCJJQvgJT1DQ\", \"alias\": \"la-jacobine-paris\", \"name\": \"La Jacobine\", \"image_url\": \"https://s3-media4.fl.yelpcdn.com/bphoto/nzAcUmxZ3NhEg5TSSv6hxw/o.jpg\", \"is_closed\": false, \"url\": \"https://www.yelp.com/biz/la-jacobine-paris?adjust_creative=kbKyAG8-dQFg3Zw0SZOBMQ&utm_campaign=yelp_api_v3&utm_medium=api_v3_business_search&utm_source=kbKyAG8-dQFg3Zw0SZOBMQ\", \"review_count\": 280, \"categories\": [{\"alias\": \"tea\", \"title\": \"Tea Rooms\"}, {\"alias\": \"french\", \"title\": \"French\"}], \"rating\": 4.5, \"coordinates\": {\"latitude\": 48.8532345157095, \"longitude\": 2.33900494873524}, \"transactions\": [], \"price\": \"\\u20ac\\u20ac\\u20ac\", \"location\": {\"address1\": \"59-61 rue Saint-Andr\\u00e9 des Arts\", \"address2\": \"\", \"address3\": \"\", \"city\": \"Paris\", \"zip_code\": \"75006\", \"country\": \"FR\", \"state\": \"75\", \"display_address\": [\"59-61 rue Saint-Andr\\u00e9 des Arts\", \"75006 Paris\", \"France\"]}, \"phone\": \"+33146341595\", \"display_phone\": \"+33 1 46 34 15 95\", \"distance\": 996.9503876116776}, {\"id\": \"n-XIbgR-Gwb1CqBMyjwj0w\", \"alias\": \"chez-fernand-paris\", \"name\": \"Chez Fernand\", \"image_url\": \"https://s3-media2.fl.yelpcdn.com/bphoto/_ZzJL3hpRm4FM9Cz2FrjhA/o.jpg\", \"is_closed\": false, \"url\": \"https://www.yelp.com/biz/chez-fernand-paris?adjust_creative=kbKyAG8-dQFg3Zw0SZOBMQ&utm_campaign=yelp_api_v3&utm_medium=api_v3_business_search&utm_source=kbKyAG8-dQFg3Zw0SZOBMQ\", \"review_count\": 194, \"categories\": [{\"alias\": \"french\", \"title\": \"French\"}], \"rating\": 4.5, \"coordinates\": {\"latitude\": 48.85461, \"longitude\": 2.33954}, \"transactions\": [], \"price\": \"\\u20ac\\u20ac\\u20ac\", \"location\": {\"address1\": \"9 rue Christine\", \"address2\": null, \"address3\": null, \"city\": \"Paris\", \"zip_code\": \"75006\", \"country\": \"FR\", \"state\": \"75\", \"display_address\": [\"9 rue Christine\", \"75006 Paris\", \"France\"]}, \"phone\": \"+33143251855\", \"display_phone\": \"+33 1 43 25 18 55\", \"distance\": 839.1033071385376}, {\"id\": \"XlBCQgnHlYUByBejO8r79g\", \"alias\": \"l-epicure-paris-2\", \"name\": \"L'Epicure\", \"image_url\": \"https://s3-media3.fl.yelpcdn.com/bphoto/laiSZlAeTrw95G7znboD4Q/o.jpg\", \"is_closed\": false, \"url\": \"https://www.yelp.com/biz/l-epicure-paris-2?adjust_creative=kbKyAG8-dQFg3Zw0SZOBMQ&utm_campaign=yelp_api_v3&utm_medium=api_v3_business_search&utm_source=kbKyAG8-dQFg3Zw0SZOBMQ\", \"review_count\": 158, \"categories\": [{\"alias\": \"french\", \"title\": \"French\"}, {\"alias\": \"breakfast_brunch\", \"title\": \"Breakfast & Brunch\"}], \"rating\": 4.5, \"coordinates\": {\"latitude\": 48.871697, \"longitude\": 2.314657}, \"transactions\": [], \"price\": \"\\u20ac\\u20ac\\u20ac\\u20ac\", \"location\": {\"address1\": \"112 rue du Faubourg Saint-Honor\\u00e9\", \"address2\": \"\", \"address3\": \"\", \"city\": \"Paris\", \"zip_code\": \"75008\", \"country\": \"FR\", \"state\": \"75\", \"display_address\": [\"112 rue du Faubourg Saint-Honor\\u00e9\", \"75008 Paris\", \"France\"]}, \"phone\": \"+33153434340\", \"display_phone\": \"+33 1 53 43 43 40\", \"distance\": 2283.854093006916}, {\"id\": \"XNfpjD7KWU-r1jB1SR3alg\", \"alias\": \"cr\\u00eaperie-saint-eustache-paris-2\", \"name\": \"Cr\\u00eaperie Saint Eustache\", \"image_url\": \"https://s3-media1.fl.yelpcdn.com/bphoto/M1ZLSossCsNW19dz1yjqCQ/o.jpg\", \"is_closed\": false, \"url\": \"https://www.yelp.com/biz/cr%C3%AAperie-saint-eustache-paris-2?adjust_creative=kbKyAG8-dQFg3Zw0SZOBMQ&utm_campaign=yelp_api_v3&utm_medium=api_v3_business_search&utm_source=kbKyAG8-dQFg3Zw0SZOBMQ\", \"review_count\": 49, \"categories\": [{\"alias\": \"creperies\", \"title\": \"Creperies\"}], \"rating\": 4.5, \"coordinates\": {\"latitude\": 48.86148, \"longitude\": 2.34229}, \"transactions\": [], \"price\": \"\\u20ac\\u20ac\", \"location\": {\"address1\": \"2 rue Sauval\", \"address2\": null, \"address3\": null, \"city\": \"Paris\", \"zip_code\": \"75001\", \"country\": \"FR\", \"state\": \"75\", \"display_address\": [\"2 rue Sauval\", \"75001 Paris\", \"France\"]}, \"phone\": \"+33140284039\", \"display_phone\": \"+33 1 40 28 40 39\", \"distance\": 54.22531448383937}, {\"id\": \"KglDmt_BDOEqmBjJ8X2bPQ\", \"alias\": \"le-relais-de-l-entrec\\u00f4te-paris-3\", \"name\": \"Le Relais de l\\u2019Entrec\\u00f4te\", \"image_url\": \"https://s3-media2.fl.yelpcdn.com/bphoto/okTGLBTEt7rhbl0bl7cDGA/o.jpg\", \"is_closed\": false, \"url\": \"https://www.yelp.com/biz/le-relais-de-l-entrec%C3%B4te-paris-3?adjust_creative=kbKyAG8-dQFg3Zw0SZOBMQ&utm_campaign=yelp_api_v3&utm_medium=api_v3_business_search&utm_source=kbKyAG8-dQFg3Zw0SZOBMQ\", \"review_count\": 502, \"categories\": [{\"alias\": \"steak\", \"title\": \"Steakhouses\"}], \"rating\": 4.0, \"coordinates\": {\"latitude\": 48.86808, \"longitude\": 2.30295}, \"transactions\": [], \"price\": \"\\u20ac\\u20ac\\u20ac\", \"location\": {\"address1\": \"15 rue Marbeuf\", \"address2\": null, \"address3\": null, \"city\": \"Paris\", \"zip_code\": \"75008\", \"country\": \"FR\", \"state\": \"75\", \"display_address\": [\"15 rue Marbeuf\", \"75008 Paris\", \"France\"]}, \"phone\": \"+33149520717\", \"display_phone\": \"+33 1 49 52 07 17\", \"distance\": 2946.9230410857513}, {\"id\": \"qz7R7oLeEEfvKOlWCxqMVw\", \"alias\": \"les-philosophes-paris\", \"name\": \"Les Philosophes\", \"image_url\": \"https://s3-media2.fl.yelpcdn.com/bphoto/IC491egaE9VwGHYdapqopQ/o.jpg\", \"is_closed\": false, \"url\": \"https://www.yelp.com/biz/les-philosophes-paris?adjust_creative=kbKyAG8-dQFg3Zw0SZOBMQ&utm_campaign=yelp_api_v3&utm_medium=api_v3_business_search&utm_source=kbKyAG8-dQFg3Zw0SZOBMQ\", \"review_count\": 334, \"categories\": [{\"alias\": \"bistros\", \"title\": \"Bistros\"}], \"rating\": 4.0, \"coordinates\": {\"latitude\": 48.857332, \"longitude\": 2.357493}, \"transactions\": [], \"price\": \"\\u20ac\\u20ac\", \"location\": {\"address1\": \"28 rue Vieille du Temple\", \"address2\": \"\", \"address3\": \"\", \"city\": \"Paris\", \"zip_code\": \"75004\", \"country\": \"FR\", \"state\": \"75\", \"display_address\": [\"28 rue Vieille du Temple\", \"75004 Paris\", \"France\"]}, \"phone\": \"+33148874964\", \"display_phone\": \"+33 1 48 87 49 64\", \"distance\": 1234.8543073234268}, {\"id\": \"v5Noospim4MQhncZRpCuCA\", \"alias\": \"le-petit-march\\u00e9-paris-6\", \"name\": \"Le Petit March\\u00e9\", \"image_url\": \"https://s3-media3.fl.yelpcdn.com/bphoto/StFf6q_7jAad0_RxC22fXg/o.jpg\", \"is_closed\": false, \"url\": \"https://www.yelp.com/biz/le-petit-march%C3%A9-paris-6?adjust_creative=kbKyAG8-dQFg3Zw0SZOBMQ&utm_campaign=yelp_api_v3&utm_medium=api_v3_business_search&utm_source=kbKyAG8-dQFg3Zw0SZOBMQ\", \"review_count\": 92, \"categories\": [{\"alias\": \"french\", \"title\": \"French\"}], \"rating\": 4.5, \"coordinates\": {\"latitude\": 48.857267, \"longitude\": 2.366041}, \"transactions\": [], \"price\": \"\\u20ac\\u20ac\\u20ac\", \"location\": {\"address1\": \"9 rue B\\u00e9arn\", \"address2\": null, \"address3\": null, \"city\": \"Paris\", \"zip_code\": \"75003\", \"country\": \"FR\", \"state\": \"75\", \"display_address\": [\"9 rue B\\u00e9arn\", \"75003 Paris\", \"France\"]}, \"phone\": \"+33142720667\", \"display_phone\": \"+33 1 42 72 06 67\", \"distance\": 1824.1128632263924}, {\"id\": \"u0lE065YXe5sKcDiAzJcHg\", \"alias\": \"heureux-comme-alexandre-paris-3\", \"name\": \"Heureux Comme Alexandre\", \"image_url\": \"https://s3-media2.fl.yelpcdn.com/bphoto/-7NpEcEZGdcZNUOq9mlLaw/o.jpg\", \"is_closed\": false, \"url\": \"https://www.yelp.com/biz/heureux-comme-alexandre-paris-3?adjust_creative=kbKyAG8-dQFg3Zw0SZOBMQ&utm_campaign=yelp_api_v3&utm_medium=api_v3_business_search&utm_source=kbKyAG8-dQFg3Zw0SZOBMQ\", \"review_count\": 96, \"categories\": [{\"alias\": \"fondue\", \"title\": \"Fondue\"}], \"rating\": 4.5, \"coordinates\": {\"latitude\": 48.85178, \"longitude\": 2.34472}, \"transactions\": [], \"price\": \"\\u20ac\\u20ac\", \"location\": {\"address1\": \"24 rue Parcheminerie\", \"address2\": \"\", \"address3\": \"\", \"city\": \"Paris\", \"zip_code\": \"75005\", \"country\": \"FR\", \"state\": \"75\", \"display_address\": [\"24 rue Parcheminerie\", \"75005 Paris\", \"France\"]}, \"phone\": \"+33143264966\", \"display_phone\": \"+33 1 43 26 49 66\", \"distance\": 1147.345328423919}, {\"id\": \"zj5rGr-hkPjPxM1oxDi3Zg\", \"alias\": \"pedzouille-paris\", \"name\": \"Pedzouille\", \"image_url\": \"https://s3-media2.fl.yelpcdn.com/bphoto/krUDBs1PuPshFVb3-MobSA/o.jpg\", \"is_closed\": false, \"url\": \"https://www.yelp.com/biz/pedzouille-paris?adjust_creative=kbKyAG8-dQFg3Zw0SZOBMQ&utm_campaign=yelp_api_v3&utm_medium=api_v3_business_search&utm_source=kbKyAG8-dQFg3Zw0SZOBMQ\", \"review_count\": 22, \"categories\": [{\"alias\": \"bistros\", \"title\": \"Bistros\"}, {\"alias\": \"steak\", \"title\": \"Steakhouses\"}], \"rating\": 5.0, \"coordinates\": {\"latitude\": 48.876133, \"longitude\": 2.348528}, \"transactions\": [], \"price\": \"\\u20ac\\u20ac\", \"location\": {\"address1\": \"66 rue du Faubourg Poissonni\\u00e8re\", \"address2\": \"\", \"address3\": \"\", \"city\": \"Paris\", \"zip_code\": \"75010\", \"country\": \"FR\", \"state\": \"75\", \"display_address\": [\"66 rue du Faubourg Poissonni\\u00e8re\", \"75010 Paris\", \"France\"]}, \"phone\": \"+33986404242\", \"display_phone\": \"+33 9 86 40 42 42\", \"distance\": 1643.7520327275713}, {\"id\": \"5oR_HYjo9dJUQCIr9jpzfw\", \"alias\": \"le-train-bleu-paris-3\", \"name\": \"Le Train Bleu\", \"image_url\": \"https://s3-media2.fl.yelpcdn.com/bphoto/Z9XhJ0STFgSW6gSitVF0GQ/o.jpg\", \"is_closed\": false, \"url\": \"https://www.yelp.com/biz/le-train-bleu-paris-3?adjust_creative=kbKyAG8-dQFg3Zw0SZOBMQ&utm_campaign=yelp_api_v3&utm_medium=api_v3_business_search&utm_source=kbKyAG8-dQFg3Zw0SZOBMQ\", \"review_count\": 261, \"categories\": [{\"alias\": \"french\", \"title\": \"French\"}], \"rating\": 4.0, \"coordinates\": {\"latitude\": 48.844901, \"longitude\": 2.373278}, \"transactions\": [], \"price\": \"\\u20ac\\u20ac\\u20ac\\u20ac\", \"location\": {\"address1\": \"Place Louis Armand\", \"address2\": \"1er \\u00e9tage\", \"address3\": \"\", \"city\": \"Paris\", \"zip_code\": \"75012\", \"country\": \"FR\", \"state\": \"75\", \"display_address\": [\"Place Louis Armand\", \"1er \\u00e9tage\", \"75012 Paris\", \"France\"]}, \"phone\": \"+33143430906\", \"display_phone\": \"+33 1 43 43 09 06\", \"distance\": 2963.974796067611}, {\"id\": \"DwZsEW-rBrBBLHioGdKoAg\", \"alias\": \"la-fontaine-de-mars-paris-2\", \"name\": \"La Fontaine de Mars\", \"image_url\": \"https://s3-media2.fl.yelpcdn.com/bphoto/VCtekvmamfjFyRRYwQUraw/o.jpg\", \"is_closed\": false, \"url\": \"https://www.yelp.com/biz/la-fontaine-de-mars-paris-2?adjust_creative=kbKyAG8-dQFg3Zw0SZOBMQ&utm_campaign=yelp_api_v3&utm_medium=api_v3_business_search&utm_source=kbKyAG8-dQFg3Zw0SZOBMQ\", \"review_count\": 276, \"categories\": [{\"alias\": \"french\", \"title\": \"French\"}], \"rating\": 4.5, \"coordinates\": {\"latitude\": 48.858394, \"longitude\": 2.302568}, \"transactions\": [], \"price\": \"\\u20ac\\u20ac\\u20ac\", \"location\": {\"address1\": \"129 rue Saint-Dominique\", \"address2\": null, \"address3\": null, \"city\": \"Paris\", \"zip_code\": \"75007\", \"country\": \"FR\", \"state\": \"75\", \"display_address\": [\"129 rue Saint-Dominique\", \"75007 Paris\", \"France\"]}, \"phone\": \"+33147054644\", \"display_phone\": \"+33 1 47 05 46 44\", \"distance\": 2922.4633600414268}, {\"id\": \"sFdV05m6Pw5Rw6DdrpQlIw\", \"alias\": \"l-escargot-paris-3\", \"name\": \"L'Escargot\", \"image_url\": \"https://s3-media3.fl.yelpcdn.com/bphoto/yy-GWVc0A6WNhdtj_naumw/o.jpg\", \"is_closed\": false, \"url\": \"https://www.yelp.com/biz/l-escargot-paris-3?adjust_creative=kbKyAG8-dQFg3Zw0SZOBMQ&utm_campaign=yelp_api_v3&utm_medium=api_v3_business_search&utm_source=kbKyAG8-dQFg3Zw0SZOBMQ\", \"review_count\": 205, \"categories\": [{\"alias\": \"french\", \"title\": \"French\"}], \"rating\": 4.0, \"coordinates\": {\"latitude\": 48.864206, \"longitude\": 2.3467}, \"transactions\": [], \"price\": \"\\u20ac\\u20ac\\u20ac\", \"location\": {\"address1\": \"38 rue Montorgueil\", \"address2\": null, \"address3\": null, \"city\": \"Paris\", \"zip_code\": \"75001\", \"country\": \"FR\", \"state\": \"75\", \"display_address\": [\"38 rue Montorgueil\", \"75001 Paris\", \"France\"]}, \"phone\": \"+33142368351\", \"display_phone\": \"+33 1 42 36 83 51\", \"distance\": 416.3347408028919}, {\"id\": \"K-cAB9sz9UoopOP0APEi0g\", \"alias\": \"les-cocottes-paris-4\", \"name\": \"Les Cocottes\", \"image_url\": \"https://s3-media4.fl.yelpcdn.com/bphoto/P7Qh9STbT0IJQDY0ohNuqg/o.jpg\", \"is_closed\": false, \"url\": \"https://www.yelp.com/biz/les-cocottes-paris-4?adjust_creative=kbKyAG8-dQFg3Zw0SZOBMQ&utm_campaign=yelp_api_v3&utm_medium=api_v3_business_search&utm_source=kbKyAG8-dQFg3Zw0SZOBMQ\", \"review_count\": 515, \"categories\": [{\"alias\": \"bistros\", \"title\": \"Bistros\"}], \"rating\": 4.0, \"coordinates\": {\"latitude\": 48.85819, \"longitude\": 2.30183}, \"transactions\": [], \"price\": \"\\u20ac\\u20ac\\u20ac\", \"location\": {\"address1\": \"135 rue Saint Dominique\", \"address2\": null, \"address3\": \"\", \"city\": \"Paris\", \"zip_code\": \"75007\", \"country\": \"FR\", \"state\": \"01\", \"display_address\": [\"135 rue Saint Dominique\", \"75007 Paris\", \"France\"]}, \"phone\": \"+33145501028\", \"display_phone\": \"+33 1 45 50 10 28\", \"distance\": 2975.893673927617}, {\"id\": \"e6RHSG0d94yzA3McN-eFxg\", \"alias\": \"gemini-paris-2\", \"name\": \"Gemini\", \"image_url\": \"https://s3-media1.fl.yelpcdn.com/bphoto/qOqdhgVcEI8cpfNyYfbmFA/o.jpg\", \"is_closed\": false, \"url\": \"https://www.yelp.com/biz/gemini-paris-2?adjust_creative=kbKyAG8-dQFg3Zw0SZOBMQ&utm_campaign=yelp_api_v3&utm_medium=api_v3_business_search&utm_source=kbKyAG8-dQFg3Zw0SZOBMQ\", \"review_count\": 31, \"categories\": [{\"alias\": \"italian\", \"title\": \"Italian\"}], \"rating\": 4.5, \"coordinates\": {\"latitude\": 48.8593674647599, \"longitude\": 2.34705866389581}, \"transactions\": [], \"price\": \"\\u20ac\\u20ac\", \"location\": {\"address1\": \"16 rue des Halles\", \"address2\": \"\", \"address3\": \"\", \"city\": \"Paris\", \"zip_code\": \"75001\", \"country\": \"FR\", \"state\": \"75\", \"display_address\": [\"16 rue des Halles\", \"75001 Paris\", \"France\"]}, \"phone\": \"+33142615920\", \"display_phone\": \"+33 1 42 61 59 20\", \"distance\": 460.5143411189723}, {\"id\": \"dKZo3hRz0sSsQrdahj45uA\", \"alias\": \"ellsworth-paris\", \"name\": \"Ellsworth\", \"image_url\": \"https://s3-media2.fl.yelpcdn.com/bphoto/YqHLLxUdjU9ENBVW0giIBg/o.jpg\", \"is_closed\": false, \"url\": \"https://www.yelp.com/biz/ellsworth-paris?adjust_creative=kbKyAG8-dQFg3Zw0SZOBMQ&utm_campaign=yelp_api_v3&utm_medium=api_v3_business_search&utm_source=kbKyAG8-dQFg3Zw0SZOBMQ\", \"review_count\": 114, \"categories\": [{\"alias\": \"wine_bars\", \"title\": \"Wine Bars\"}, {\"alias\": \"french\", \"title\": \"French\"}], \"rating\": 4.5, \"coordinates\": {\"latitude\": 48.86558, \"longitude\": 2.33689}, \"transactions\": [], \"price\": \"\\u20ac\\u20ac\\u20ac\", \"location\": {\"address1\": \"34 rue de Richelieu\", \"address2\": \"\", \"address3\": \"\", \"city\": \"Paris\", \"zip_code\": \"75001\", \"country\": \"FR\", \"state\": \"75\", \"display_address\": [\"34 rue de Richelieu\", \"75001 Paris\", \"France\"]}, \"phone\": \"+33142605966\", \"display_phone\": \"+33 1 42 60 59 66\", \"distance\": 552.2317155767232}, {\"id\": \"4qTUBV_TXHVZRctoZwr1bg\", \"alias\": \"les-artizans-paris\", \"name\": \"Les Artizans\", \"image_url\": \"https://s3-media3.fl.yelpcdn.com/bphoto/88CJJCZclBqIdAhfbCgkZA/o.jpg\", \"is_closed\": false, \"url\": \"https://www.yelp.com/biz/les-artizans-paris?adjust_creative=kbKyAG8-dQFg3Zw0SZOBMQ&utm_campaign=yelp_api_v3&utm_medium=api_v3_business_search&utm_source=kbKyAG8-dQFg3Zw0SZOBMQ\", \"review_count\": 24, \"categories\": [{\"alias\": \"cakeshop\", \"title\": \"Patisserie/Cake Shop\"}, {\"alias\": \"bistros\", \"title\": \"Bistros\"}], \"rating\": 4.5, \"coordinates\": {\"latitude\": 48.863763, \"longitude\": 2.346643}, \"transactions\": [], \"price\": \"\\u20ac\\u20ac\", \"location\": {\"address1\": \"30 rue de Montorgueil\", \"address2\": \"\", \"address3\": \"\", \"city\": \"Paris\", \"zip_code\": \"75001\", \"country\": \"FR\", \"state\": \"75\", \"display_address\": [\"30 rue de Montorgueil\", \"75001 Paris\", \"France\"]}, \"phone\": \"+33140284474\", \"display_phone\": \"+33 1 40 28 44 74\", \"distance\": 385.205000315054}, {\"id\": \"5TbITr_zImkiSc_EWOJkjw\", \"alias\": \"girafe-paris\", \"name\": \"Girafe\", \"image_url\": \"https://s3-media2.fl.yelpcdn.com/bphoto/QkJWLgrYkeYFOG-St5CszA/o.jpg\", \"is_closed\": false, \"url\": \"https://www.yelp.com/biz/girafe-paris?adjust_creative=kbKyAG8-dQFg3Zw0SZOBMQ&utm_campaign=yelp_api_v3&utm_medium=api_v3_business_search&utm_source=kbKyAG8-dQFg3Zw0SZOBMQ\", \"review_count\": 46, \"categories\": [{\"alias\": \"french\", \"title\": \"French\"}, {\"alias\": \"seafood\", \"title\": \"Seafood\"}], \"rating\": 4.0, \"coordinates\": {\"latitude\": 48.862584, \"longitude\": 2.2885815}, \"transactions\": [], \"price\": \"\\u20ac\\u20ac\\u20ac\\u20ac\", \"location\": {\"address1\": \"1 place du Trocad\\u00e9ro\", \"address2\": \"\", \"address3\": \"Palais de Chaillot\", \"city\": \"Paris\", \"zip_code\": \"75016\", \"country\": \"FR\", \"state\": \"75\", \"display_address\": [\"1 place du Trocad\\u00e9ro\", \"Palais de Chaillot\", \"75016 Paris\", \"France\"]}, \"phone\": \"+33140627061\", \"display_phone\": \"+33 1 40 62 70 61\", \"distance\": 3919.094023470385}, {\"id\": \"P_mUlHo2-sl7xDJDb5yJQA\", \"alias\": \"aux-vieux-gar\\u00e7ons-paris\", \"name\": \"Aux Vieux Gar\\u00e7ons\", \"image_url\": \"https://s3-media2.fl.yelpcdn.com/bphoto/whMsQ33105ZJSdIzR6-C5Q/o.jpg\", \"is_closed\": false, \"url\": \"https://www.yelp.com/biz/aux-vieux-gar%C3%A7ons-paris?adjust_creative=kbKyAG8-dQFg3Zw0SZOBMQ&utm_campaign=yelp_api_v3&utm_medium=api_v3_business_search&utm_source=kbKyAG8-dQFg3Zw0SZOBMQ\", \"review_count\": 13, \"categories\": [{\"alias\": \"french\", \"title\": \"French\"}], \"rating\": 4.5, \"coordinates\": {\"latitude\": 48.857, \"longitude\": 2.32462}, \"transactions\": [], \"price\": \"\\u20ac\\u20ac\\u20ac\", \"location\": {\"address1\": \"213 bd St Germain\", \"address2\": \"\", \"address3\": \"\", \"city\": \"Paris\", \"zip_code\": \"75007\", \"country\": \"FR\", \"state\": \"75\", \"display_address\": [\"213 bd St Germain\", \"75007 Paris\", \"France\"]}, \"phone\": \"+33142220657\", \"display_phone\": \"+33 1 42 22 06 57\", \"distance\": 1395.7842065230818}, {\"id\": \"i0sd2IWFV0aRJOUA1zzRuQ\", \"alias\": \"le-brun-paris-4\", \"name\": \"Le Brun\", \"image_url\": \"https://s3-media2.fl.yelpcdn.com/bphoto/6u_NVmldUWuJi8mZ_Jb_YA/o.jpg\", \"is_closed\": false, \"url\": \"https://www.yelp.com/biz/le-brun-paris-4?adjust_creative=kbKyAG8-dQFg3Zw0SZOBMQ&utm_campaign=yelp_api_v3&utm_medium=api_v3_business_search&utm_source=kbKyAG8-dQFg3Zw0SZOBMQ\", \"review_count\": 8, \"categories\": [{\"alias\": \"french\", \"title\": \"French\"}], \"rating\": 5.0, \"coordinates\": {\"latitude\": 48.86128, \"longitude\": 2.3432}, \"transactions\": [], \"location\": {\"address1\": \"95 rue Saint Honor\\u00e9\", \"address2\": null, \"address3\": \"\", \"city\": \"Paris\", \"zip_code\": \"75001\", \"country\": \"FR\", \"state\": \"75\", \"display_address\": [\"95 rue Saint Honor\\u00e9\", \"75001 Paris\", \"France\"]}, \"phone\": \"+33954001047\", \"display_phone\": \"+33 9 54 00 10 47\", \"distance\": 117.36729827935154}, {\"id\": \"ce3vXRUtUKZjbGf2fv8VzQ\", \"alias\": \"ober-mamma-paris\", \"name\": \"Ober Mamma\", \"image_url\": \"https://s3-media3.fl.yelpcdn.com/bphoto/W_QFGV2B3lBFgPagF7O7-w/o.jpg\", \"is_closed\": false, \"url\": \"https://www.yelp.com/biz/ober-mamma-paris?adjust_creative=kbKyAG8-dQFg3Zw0SZOBMQ&utm_campaign=yelp_api_v3&utm_medium=api_v3_business_search&utm_source=kbKyAG8-dQFg3Zw0SZOBMQ\", \"review_count\": 256, \"categories\": [{\"alias\": \"pizza\", \"title\": \"Pizza\"}, {\"alias\": \"italian\", \"title\": \"Italian\"}, {\"alias\": \"cocktailbars\", \"title\": \"Cocktail Bars\"}], \"rating\": 4.5, \"coordinates\": {\"latitude\": 48.86446, \"longitude\": 2.37018}, \"transactions\": [], \"price\": \"\\u20ac\\u20ac\", \"location\": {\"address1\": \"107 boulevard Richard Lenoir\", \"address2\": \"\", \"address3\": \"\", \"city\": \"Paris\", \"zip_code\": \"75011\", \"country\": \"FR\", \"state\": \"75\", \"display_address\": [\"107 boulevard Richard Lenoir\", \"75011 Paris\", \"France\"]}, \"phone\": \"+33158306278\", \"display_phone\": \"+33 1 58 30 62 78\", \"distance\": 2058.541363116274}, {\"id\": \"tM2GensNFi0OjEDhrbA4TQ\", \"alias\": \"lion-sot-paris\", \"name\": \"Lion Sot\", \"image_url\": \"https://s3-media3.fl.yelpcdn.com/bphoto/100IqkXG7aBM0HII9gZQ1A/o.jpg\", \"is_closed\": false, \"url\": \"https://www.yelp.com/biz/lion-sot-paris?adjust_creative=kbKyAG8-dQFg3Zw0SZOBMQ&utm_campaign=yelp_api_v3&utm_medium=api_v3_business_search&utm_source=kbKyAG8-dQFg3Zw0SZOBMQ\", \"review_count\": 6, \"categories\": [{\"alias\": \"french\", \"title\": \"French\"}], \"rating\": 5.0, \"coordinates\": {\"latitude\": 48.8329024303849, \"longitude\": 2.33268231153488}, \"transactions\": [], \"location\": {\"address1\": \"6 avenue Ren\\u00e9 Coty\", \"address2\": \"\", \"address3\": null, \"city\": \"Paris\", \"zip_code\": \"75014\", \"country\": \"FR\", \"state\": \"75\", \"display_address\": [\"6 avenue Ren\\u00e9 Coty\", \"75014 Paris\", \"France\"]}, \"phone\": \"+33612886959\", \"display_phone\": \"+33 6 12 88 69 59\", \"distance\": 3304.302922286411}, {\"id\": \"n601y41nOORUePsM7KsuaA\", \"alias\": \"gambino-paris-2\", \"name\": \"Gambino\", \"image_url\": \"https://s3-media1.fl.yelpcdn.com/bphoto/VMKqpx_joPC1k5aKE5kTfA/o.jpg\", \"is_closed\": false, \"url\": \"https://www.yelp.com/biz/gambino-paris-2?adjust_creative=kbKyAG8-dQFg3Zw0SZOBMQ&utm_campaign=yelp_api_v3&utm_medium=api_v3_business_search&utm_source=kbKyAG8-dQFg3Zw0SZOBMQ\", \"review_count\": 209, \"categories\": [{\"alias\": \"italian\", \"title\": \"Italian\"}], \"rating\": 4.5, \"coordinates\": {\"latitude\": 48.86736, \"longitude\": 2.33298}, \"transactions\": [], \"price\": \"\\u20ac\\u20ac\", \"location\": {\"address1\": \"6 rue Gomboust\", \"address2\": null, \"address3\": null, \"city\": \"Paris\", \"zip_code\": \"75001\", \"country\": \"FR\", \"state\": \"75\", \"display_address\": [\"6 rue Gomboust\", \"75001 Paris\", \"France\"]}, \"phone\": \"+33142601270\", \"display_phone\": \"+33 1 42 60 12 70\", \"distance\": 901.5001287226743}, {\"id\": \"aPLSj-9aNHSQpi7Sf5_9hA\", \"alias\": \"le-comptoir-paris-18\", \"name\": \"Le Comptoir\", \"image_url\": \"https://s3-media4.fl.yelpcdn.com/bphoto/YkB2NVGQv8l_j2fXLdvrrA/o.jpg\", \"is_closed\": false, \"url\": \"https://www.yelp.com/biz/le-comptoir-paris-18?adjust_creative=kbKyAG8-dQFg3Zw0SZOBMQ&utm_campaign=yelp_api_v3&utm_medium=api_v3_business_search&utm_source=kbKyAG8-dQFg3Zw0SZOBMQ\", \"review_count\": 440, \"categories\": [{\"alias\": \"bistros\", \"title\": \"Bistros\"}], \"rating\": 4.0, \"coordinates\": {\"latitude\": 48.851945700766, \"longitude\": 2.338757487651}, \"transactions\": [], \"price\": \"\\u20ac\\u20ac\\u20ac\", \"location\": {\"address1\": \"9 carrefour de l'Odeon\", \"address2\": \"\", \"address3\": \"\", \"city\": \"Paris\", \"zip_code\": \"75006\", \"country\": \"FR\", \"state\": \"75\", \"display_address\": [\"9 carrefour de l'Odeon\", \"75006 Paris\", \"France\"]}, \"phone\": \"+33144270750\", \"display_phone\": \"+33 1 44 27 07 50\", \"distance\": 1140.6769197997376}, {\"id\": \"d62JZpmI45AseBwTypnJ8g\", \"alias\": \"le-caveau-du-palais-paris\", \"name\": \"Le Caveau du Palais\", \"image_url\": \"https://s3-media2.fl.yelpcdn.com/bphoto/QeiJgeT-dvWPRhDrKlqreg/o.jpg\", \"is_closed\": false, \"url\": \"https://www.yelp.com/biz/le-caveau-du-palais-paris?adjust_creative=kbKyAG8-dQFg3Zw0SZOBMQ&utm_campaign=yelp_api_v3&utm_medium=api_v3_business_search&utm_source=kbKyAG8-dQFg3Zw0SZOBMQ\", \"review_count\": 26, \"categories\": [{\"alias\": \"french\", \"title\": \"French\"}], \"rating\": 4.5, \"coordinates\": {\"latitude\": 48.856535, \"longitude\": 2.342053}, \"transactions\": [], \"price\": \"\\u20ac\\u20ac\\u20ac\", \"location\": {\"address1\": \"19 place Dauphine\", \"address2\": null, \"address3\": null, \"city\": \"Paris\", \"zip_code\": \"75001\", \"country\": \"FR\", \"state\": \"75\", \"display_address\": [\"19 place Dauphine\", \"75001 Paris\", \"France\"]}, \"phone\": \"+33143260428\", \"display_phone\": \"+33 1 43 26 04 28\", \"distance\": 603.1167871840688}, {\"id\": \"ASbVOR_nTHvwEM9GPTyC0Q\", \"alias\": \"caf\\u00e9-de-paris-paris-9\", \"name\": \"Caf\\u00e9 de Paris\", \"image_url\": \"https://s3-media2.fl.yelpcdn.com/bphoto/cCMlrVqUObJM6UGIf3fZFg/o.jpg\", \"is_closed\": false, \"url\": \"https://www.yelp.com/biz/caf%C3%A9-de-paris-paris-9?adjust_creative=kbKyAG8-dQFg3Zw0SZOBMQ&utm_campaign=yelp_api_v3&utm_medium=api_v3_business_search&utm_source=kbKyAG8-dQFg3Zw0SZOBMQ\", \"review_count\": 60, \"categories\": [{\"alias\": \"brasseries\", \"title\": \"Brasseries\"}], \"rating\": 4.0, \"coordinates\": {\"latitude\": 48.863662, \"longitude\": 2.33385}, \"transactions\": [], \"price\": \"\\u20ac\\u20ac\", \"location\": {\"address1\": \"3 rue de l'\\u00c9chelle\", \"address2\": \"\", \"address3\": null, \"city\": \"Paris\", \"zip_code\": \"75001\", \"country\": \"FR\", \"state\": \"75\", \"display_address\": [\"3 rue de l'\\u00c9chelle\", \"75001 Paris\", \"France\"]}, \"phone\": \"+33142608426\", \"display_phone\": \"+33 1 42 60 84 26\", \"distance\": 635.8604880821752}, {\"id\": \"fJAK_McN2JC_y1uTsYte0w\", \"alias\": \"bouillon-chartier-paris-4\", \"name\": \"Bouillon Chartier\", \"image_url\": \"https://s3-media2.fl.yelpcdn.com/bphoto/MPDgGiJwZjII8ip75VxdVg/o.jpg\", \"is_closed\": false, \"url\": \"https://www.yelp.com/biz/bouillon-chartier-paris-4?adjust_creative=kbKyAG8-dQFg3Zw0SZOBMQ&utm_campaign=yelp_api_v3&utm_medium=api_v3_business_search&utm_source=kbKyAG8-dQFg3Zw0SZOBMQ\", \"review_count\": 3, \"categories\": [{\"alias\": \"french\", \"title\": \"French\"}], \"rating\": 5.0, \"coordinates\": {\"latitude\": 48.8443, \"longitude\": 2.3233}, \"transactions\": [], \"location\": {\"address1\": \"59 boulevard du Montparnasse\", \"address2\": \"\", \"address3\": null, \"city\": \"Paris\", \"zip_code\": \"75006\", \"country\": \"FR\", \"state\": \"01\", \"display_address\": [\"59 boulevard du Montparnasse\", \"75006 Paris\", \"France\"]}, \"phone\": \"+33145491900\", \"display_phone\": \"+33 1 45 49 19 00\", \"distance\": 2399.3267472689226}, {\"id\": \"PXYLVsHC33f_dQVVCH-PMw\", \"alias\": \"victoires-paris-2\", \"name\": \"Victoires\", \"image_url\": \"https://s3-media3.fl.yelpcdn.com/bphoto/nhZolH9Fv8NP7BA5svDXqA/o.jpg\", \"is_closed\": false, \"url\": \"https://www.yelp.com/biz/victoires-paris-2?adjust_creative=kbKyAG8-dQFg3Zw0SZOBMQ&utm_campaign=yelp_api_v3&utm_medium=api_v3_business_search&utm_source=kbKyAG8-dQFg3Zw0SZOBMQ\", \"review_count\": 220, \"categories\": [{\"alias\": \"french\", \"title\": \"French\"}], \"rating\": 4.0, \"coordinates\": {\"latitude\": 48.865569, \"longitude\": 2.340286}, \"transactions\": [], \"price\": \"\\u20ac\\u20ac\", \"location\": {\"address1\": \"6 rue la Vrilli\\u00e8re\", \"address2\": null, \"address3\": null, \"city\": \"Paris\", \"zip_code\": \"75001\", \"country\": \"FR\", \"state\": \"75\", \"display_address\": [\"6 rue la Vrilli\\u00e8re\", \"75001 Paris\", \"France\"]}, \"phone\": \"+33142614378\", \"display_phone\": \"+33 1 42 61 43 78\", \"distance\": 423.92921152509274}, {\"id\": \"Hxqo84j1PWvo0-HizpHsuA\", \"alias\": \"l-\\u00eelot-paris-2\", \"name\": \"L'\\u00eelot\", \"image_url\": \"https://s3-media2.fl.yelpcdn.com/bphoto/B7JaBq2XmN_ZVOtKP3z65Q/o.jpg\", \"is_closed\": false, \"url\": \"https://www.yelp.com/biz/l-%C3%AElot-paris-2?adjust_creative=kbKyAG8-dQFg3Zw0SZOBMQ&utm_campaign=yelp_api_v3&utm_medium=api_v3_business_search&utm_source=kbKyAG8-dQFg3Zw0SZOBMQ\", \"review_count\": 57, \"categories\": [{\"alias\": \"seafood\", \"title\": \"Seafood\"}], \"rating\": 4.5, \"coordinates\": {\"latitude\": 48.8647842407227, \"longitude\": 2.36330199241638}, \"transactions\": [], \"price\": \"\\u20ac\\u20ac\", \"location\": {\"address1\": \"4 rue de la Corderie\", \"address2\": \"\", \"address3\": \"\", \"city\": \"Paris\", \"zip_code\": \"75003\", \"country\": \"FR\", \"state\": \"75\", \"display_address\": [\"4 rue de la Corderie\", \"75003 Paris\", \"France\"]}, \"phone\": \"+33695128661\", \"display_phone\": \"+33 6 95 12 86 61\", \"distance\": 1579.0082849816222}, {\"id\": \"xcC4XZCk2cSPxfHGKcGfPg\", \"alias\": \"chez-alain-miam-miam-paris\", \"name\": \"Chez Alain Miam Miam\", \"image_url\": \"https://s3-media3.fl.yelpcdn.com/bphoto/VXCpqumlx9yx8HuimnHaSw/o.jpg\", \"is_closed\": false, \"url\": \"https://www.yelp.com/biz/chez-alain-miam-miam-paris?adjust_creative=kbKyAG8-dQFg3Zw0SZOBMQ&utm_campaign=yelp_api_v3&utm_medium=api_v3_business_search&utm_source=kbKyAG8-dQFg3Zw0SZOBMQ\", \"review_count\": 162, \"categories\": [{\"alias\": \"creperies\", \"title\": \"Creperies\"}, {\"alias\": \"bakeries\", \"title\": \"Bakeries\"}, {\"alias\": \"sandwiches\", \"title\": \"Sandwiches\"}], \"rating\": 4.5, \"coordinates\": {\"latitude\": 48.862262, \"longitude\": 2.362023}, \"transactions\": [], \"price\": \"\\u20ac\\u20ac\", \"location\": {\"address1\": \"26 rue Charlot\", \"address2\": \"\", \"address3\": \"\", \"city\": \"Paris\", \"zip_code\": \"75003\", \"country\": \"FR\", \"state\": \"75\", \"display_address\": [\"26 rue Charlot\", \"75003 Paris\", \"France\"]}, \"phone\": \"+33183970415\", \"display_phone\": \"+33 1 83 97 04 15\", \"distance\": 1454.3021080264577}, {\"id\": \"2qzLbDM1dkpsKyyCXAEXWw\", \"alias\": \"guy-savoy-paris-3\", \"name\": \"Guy Savoy\", \"image_url\": \"https://s3-media1.fl.yelpcdn.com/bphoto/8cnVgI5q8czJnsDKaJoltA/o.jpg\", \"is_closed\": false, \"url\": \"https://www.yelp.com/biz/guy-savoy-paris-3?adjust_creative=kbKyAG8-dQFg3Zw0SZOBMQ&utm_campaign=yelp_api_v3&utm_medium=api_v3_business_search&utm_source=kbKyAG8-dQFg3Zw0SZOBMQ\", \"review_count\": 68, \"categories\": [{\"alias\": \"french\", \"title\": \"French\"}], \"rating\": 4.5, \"coordinates\": {\"latitude\": 48.857, \"longitude\": 2.3386999}, \"transactions\": [], \"price\": \"\\u20ac\\u20ac\\u20ac\\u20ac\", \"location\": {\"address1\": \"Monnaie de Paris\", \"address2\": \"11 quai de Conti\", \"address3\": \"\", \"city\": \"Paris\", \"zip_code\": \"75006\", \"country\": \"FR\", \"state\": \"75\", \"display_address\": [\"Monnaie de Paris\", \"11 quai de Conti\", \"75006 Paris\", \"France\"]}, \"phone\": \"+33143804061\", \"display_phone\": \"+33 1 43 80 40 61\", \"distance\": 624.0484956364656}], \"total\": 240, \"region\": {\"center\": {\"longitude\": 2.3421478271484375, \"latitude\": 48.86195860677958}}}\n"
     ]
    }
   ],
   "source": [
    "\n",
    "env_key_yelp     = 'YELP_KEY'\n",
    "env_endpoint_yelp = 'YELP_ENDPOINT'\n",
    "\n",
    "if not env_key_yelp  in os.environ:\n",
    "    print(\"No environment variable found for translator key.\\n Enter key:\")\n",
    "    os.environ[\"YELP_KEY\"] = input()\n",
    "env_key_yelp = os.environ[env_key_yelp]\n",
    "\n",
    "if not env_endpoint_yelp in os.environ:\n",
    "    print(\"No environment variable found for endpoint translator.\\n Enter key:\")\n",
    "    os.environ[\"YELP_ENDPOINT\"] = input()\n",
    "\n",
    "endpoint = os.environ[env_endpoint_yelp]\n",
    "path = '/businesses/search'\n",
    "constructed_url = endpoint + path\n",
    "print(\"key :x\",env_key_yelp)\n",
    "headers = {'Authorization': 'Bearer %s' % env_key_yelp}\n",
    "\n",
    "params = {'term':'restaurants',\n",
    "          'location':'Paris',\n",
    "          'offset':0, 'limit':50}\n",
    "\n",
    "request = requests.get(constructed_url, params=params,\n",
    "                       headers=headers)\n",
    "print(constructed_url)\n",
    "print('The status code is {}'.format(request.status_code))\n",
    "\n",
    "response = request.text\n",
    "print(response)\n",
    "businesses = json.loads(response)['businesses']"
   ],
   "metadata": {
    "collapsed": false,
    "pycharm": {
     "name": "#%%\n"
    }
   }
  },
  {
   "cell_type": "markdown",
   "source": [
    "<a id='data_save'></a>\n",
    "### I.2) Enregistrement des données dans un dictionnaire"
   ],
   "metadata": {
    "collapsed": false
   }
  },
  {
   "cell_type": "code",
   "source": [
    "data = {'id': [], 'name': [], 'text_review': [], 'photo_1': [],\n",
    "        'photo_2': [], 'photo_3': []}\n",
    "\n",
    "data_1 = {'id': [], 'name': [], 'text_review': [], 'rating': []}\n",
    "\n",
    "for elt in businesses:\n",
    "    url = 'https://api.yelp.com/v3/businesses/' + elt['id'] + '/reviews'\n",
    "    params = {'locale':'fr_FR'}\n",
    "    req = requests.get(url, headers=headers, params=params)\n",
    "    if req.status_code == 200:\n",
    "        response = req.text\n",
    "        reviews = json.loads(response)['reviews']\n",
    "        text_reviews   = \"\"\n",
    "        text_reviews_l = \"\"\n",
    "        for elt_r in reviews:\n",
    "            text_reviews = text_reviews + \" \" + elt_r['text']\n",
    "\n",
    "        text_reviews_l = text_reviews\n",
    "        url_1 = 'https://api.yelp.com/v3/businesses/' + elt['id']\n",
    "        req_1 = requests.get(url_1, headers=headers)\n",
    "        if req_1.status_code == 200:\n",
    "            response_1 = req_1.text\n",
    "            names = json.loads(response_1)['name']\n",
    "            photos = json.loads(response_1)['photos']\n",
    "            if (len(photos) == 3 and len(text_reviews_l) != 0):\n",
    "                data['id'].append(elt['id'])\n",
    "                data['name'].append(names)\n",
    "                data['text_review'].append(text_reviews_l)\n",
    "                data['photo_1'].append(photos[0])\n",
    "                data['photo_2'].append(photos[1])\n",
    "                data['photo_3'].append(photos[2])\n",
    "                for elt_r in reviews:\n",
    "                    data_1['id'].append(elt['id'])\n",
    "                    data_1['name'].append(names)\n",
    "                    data_1['text_review'].append(elt_r['text'])\n",
    "                    data_1['rating'].append(elt_r['rating'])"
   ],
   "metadata": {
    "collapsed": false,
    "pycharm": {
     "name": "#%%\n"
    }
   },
   "execution_count": 3,
   "outputs": []
  },
  {
   "cell_type": "markdown",
   "source": [
    "<font color = \"cyan\"><i>  Récupération de 200 restaurants avec des avis négatifs</i></font>"
   ],
   "metadata": {
    "collapsed": false,
    "pycharm": {
     "name": "#%% md\n"
    }
   }
  },
  {
   "cell_type": "code",
   "execution_count": 4,
   "outputs": [],
   "source": [
    "i = 0\n",
    "while len(data['id']) < 180:\n",
    "    i += 50\n",
    "    params = {'term':'restaurants', 'location':'Paris',\n",
    "                  'offset':i, 'limit':50}\n",
    "\n",
    "    request = requests.get(constructed_url, params=params,\n",
    "                               headers=headers)\n",
    "    if request.status_code == 200:\n",
    "\n",
    "        response = request.text\n",
    "        businesses = json.loads(response)['businesses']\n",
    "\n",
    "\n",
    "        for elt in businesses:\n",
    "            if  len(data['id']) < 180 :\n",
    "\n",
    "                url = 'https://api.yelp.com/v3/businesses/' + elt['id'] + '/reviews'\n",
    "                params = {'locale':'fr_FR'}\n",
    "                req = requests.get(url, headers=headers, params=params)\n",
    "                if req.status_code == 200:\n",
    "\n",
    "                    response = req.text\n",
    "                    reviews = json.loads(response)['reviews']\n",
    "                    text_reviews   = \"\"\n",
    "                    text_reviews_l = \"\"\n",
    "                    for elt_r in reviews:\n",
    "                        text_reviews = text_reviews + \" \" + elt_r['text']\n",
    "\n",
    "                    text_reviews_l = text_reviews\n",
    "                    url_1 = 'https://api.yelp.com/v3/businesses/' + elt['id']\n",
    "                    req_1 = requests.get(url_1, headers=headers)\n",
    "                    if req_1.status_code == 200:\n",
    "                        response_1 = req_1.text\n",
    "                        names = json.loads(response_1)['name']\n",
    "                        photos = json.loads(response_1)['photos']\n",
    "                        if (len(photos) == 3 and len(text_reviews_l) != 0)  :\n",
    "\n",
    "                            data['id'].append(elt['id'])\n",
    "                            data['name'].append(names)\n",
    "                            data['text_review'].append(text_reviews_l)\n",
    "                            data['photo_1'].append(photos[0])\n",
    "                            data['photo_2'].append(photos[1])\n",
    "                            data['photo_3'].append(photos[2])\n",
    "                            for elt_r in reviews:\n",
    "                                data_1['id'].append(elt['id'])\n",
    "                                data_1['name'].append(names)\n",
    "                                data_1['text_review'].append(elt_r['text'])\n",
    "                                data_1['rating'].append(elt_r['rating'])\n",
    "            else:\n",
    "                elt=businesses\n"
   ],
   "metadata": {
    "collapsed": false,
    "pycharm": {
     "name": "#%%\n"
    }
   }
  },
  {
   "cell_type": "markdown",
   "source": [
    "<a id='data_gen'></a>\n",
    "### I.3) Conversion en fichier csv"
   ],
   "metadata": {
    "collapsed": false
   }
  },
  {
   "cell_type": "code",
   "execution_count": 5,
   "outputs": [
    {
     "data": {
      "text/plain": "                       id                           name  \\\n0  -0iLH7iQNYtoURciDpJf6w  Le Comptoir de la Gastronomie   \n1  IU9_wVOGBKjfqTTpAXpKcQ           Bistro des Augustins   \n2  cEjF41ZQB8-SST8cd3EsEw               L'Avant Comptoir   \n3  FFz-WusZrBYZexKqhqzCkg               L'As du Fallafel   \n4  KggnM_Z4wOa_JExunaaWHg           Le Temps des Cerises   \n\n                                         text_review  \\\n0   J'y suis allé pour acheter un foie gras cru à...   \n1   Les plats étaient très bons et suffisamment c...   \n2   Escargot une délicieuse délicatesse de France...   \n3   FR: Ca vaut absolument la peine! A savoir: il...   \n4   Un gros \"Mouais\"\\nAttiré par les bons comment...   \n\n                                             photo_1  \\\n0  https://s3-media2.fl.yelpcdn.com/bphoto/Je6THJ...   \n1  https://s3-media1.fl.yelpcdn.com/bphoto/hPCZTb...   \n2  https://s3-media3.fl.yelpcdn.com/bphoto/mVwgxg...   \n3  https://s3-media2.fl.yelpcdn.com/bphoto/wdIhzK...   \n4  https://s3-media1.fl.yelpcdn.com/bphoto/g3Aabb...   \n\n                                             photo_2  \\\n0  https://s3-media2.fl.yelpcdn.com/bphoto/Y0D70M...   \n1  https://s3-media4.fl.yelpcdn.com/bphoto/Y5fZV7...   \n2  https://s3-media3.fl.yelpcdn.com/bphoto/XA5QGI...   \n3  https://s3-media2.fl.yelpcdn.com/bphoto/DDass9...   \n4  https://s3-media4.fl.yelpcdn.com/bphoto/Fd0Ozo...   \n\n                                             photo_3  \n0  https://s3-media4.fl.yelpcdn.com/bphoto/HetBW7...  \n1  https://s3-media1.fl.yelpcdn.com/bphoto/lbhWbW...  \n2  https://s3-media2.fl.yelpcdn.com/bphoto/azxglN...  \n3  https://s3-media3.fl.yelpcdn.com/bphoto/QMNELS...  \n4  https://s3-media2.fl.yelpcdn.com/bphoto/Eo8fY7...  ",
      "text/html": "<div>\n<style scoped>\n    .dataframe tbody tr th:only-of-type {\n        vertical-align: middle;\n    }\n\n    .dataframe tbody tr th {\n        vertical-align: top;\n    }\n\n    .dataframe thead th {\n        text-align: right;\n    }\n</style>\n<table border=\"1\" class=\"dataframe\">\n  <thead>\n    <tr style=\"text-align: right;\">\n      <th></th>\n      <th>id</th>\n      <th>name</th>\n      <th>text_review</th>\n      <th>photo_1</th>\n      <th>photo_2</th>\n      <th>photo_3</th>\n    </tr>\n  </thead>\n  <tbody>\n    <tr>\n      <th>0</th>\n      <td>-0iLH7iQNYtoURciDpJf6w</td>\n      <td>Le Comptoir de la Gastronomie</td>\n      <td>J'y suis allé pour acheter un foie gras cru à...</td>\n      <td>https://s3-media2.fl.yelpcdn.com/bphoto/Je6THJ...</td>\n      <td>https://s3-media2.fl.yelpcdn.com/bphoto/Y0D70M...</td>\n      <td>https://s3-media4.fl.yelpcdn.com/bphoto/HetBW7...</td>\n    </tr>\n    <tr>\n      <th>1</th>\n      <td>IU9_wVOGBKjfqTTpAXpKcQ</td>\n      <td>Bistro des Augustins</td>\n      <td>Les plats étaient très bons et suffisamment c...</td>\n      <td>https://s3-media1.fl.yelpcdn.com/bphoto/hPCZTb...</td>\n      <td>https://s3-media4.fl.yelpcdn.com/bphoto/Y5fZV7...</td>\n      <td>https://s3-media1.fl.yelpcdn.com/bphoto/lbhWbW...</td>\n    </tr>\n    <tr>\n      <th>2</th>\n      <td>cEjF41ZQB8-SST8cd3EsEw</td>\n      <td>L'Avant Comptoir</td>\n      <td>Escargot une délicieuse délicatesse de France...</td>\n      <td>https://s3-media3.fl.yelpcdn.com/bphoto/mVwgxg...</td>\n      <td>https://s3-media3.fl.yelpcdn.com/bphoto/XA5QGI...</td>\n      <td>https://s3-media2.fl.yelpcdn.com/bphoto/azxglN...</td>\n    </tr>\n    <tr>\n      <th>3</th>\n      <td>FFz-WusZrBYZexKqhqzCkg</td>\n      <td>L'As du Fallafel</td>\n      <td>FR: Ca vaut absolument la peine! A savoir: il...</td>\n      <td>https://s3-media2.fl.yelpcdn.com/bphoto/wdIhzK...</td>\n      <td>https://s3-media2.fl.yelpcdn.com/bphoto/DDass9...</td>\n      <td>https://s3-media3.fl.yelpcdn.com/bphoto/QMNELS...</td>\n    </tr>\n    <tr>\n      <th>4</th>\n      <td>KggnM_Z4wOa_JExunaaWHg</td>\n      <td>Le Temps des Cerises</td>\n      <td>Un gros \"Mouais\"\\nAttiré par les bons comment...</td>\n      <td>https://s3-media1.fl.yelpcdn.com/bphoto/g3Aabb...</td>\n      <td>https://s3-media4.fl.yelpcdn.com/bphoto/Fd0Ozo...</td>\n      <td>https://s3-media2.fl.yelpcdn.com/bphoto/Eo8fY7...</td>\n    </tr>\n  </tbody>\n</table>\n</div>"
     },
     "execution_count": 5,
     "metadata": {},
     "output_type": "execute_result"
    }
   ],
   "source": [
    "df_yelp = pd.DataFrame.from_dict(data)\n",
    "df_rating = pd.DataFrame.from_dict(data_1)\n",
    "\n",
    "\n",
    "df_yelp.head()"
   ],
   "metadata": {
    "collapsed": false,
    "pycharm": {
     "name": "#%%\n"
    }
   }
  },
  {
   "cell_type": "code",
   "execution_count": 6,
   "outputs": [
    {
     "data": {
      "text/plain": "                       id                           name  \\\n0  -0iLH7iQNYtoURciDpJf6w  Le Comptoir de la Gastronomie   \n1  -0iLH7iQNYtoURciDpJf6w  Le Comptoir de la Gastronomie   \n2  -0iLH7iQNYtoURciDpJf6w  Le Comptoir de la Gastronomie   \n3  IU9_wVOGBKjfqTTpAXpKcQ           Bistro des Augustins   \n4  IU9_wVOGBKjfqTTpAXpKcQ           Bistro des Augustins   \n\n                                         text_review  rating  \n0  J'y suis allé pour acheter un foie gras cru à ...       5  \n1  Une adresse immanquable. \\nLe meilleur magret ...       5  \n2  Très bon, le prix abordable et le restaurant e...       4  \n3  Les plats étaient très bons et suffisamment co...       5  \n4  Le vin était bon et à un prix pas déconnant do...       2  ",
      "text/html": "<div>\n<style scoped>\n    .dataframe tbody tr th:only-of-type {\n        vertical-align: middle;\n    }\n\n    .dataframe tbody tr th {\n        vertical-align: top;\n    }\n\n    .dataframe thead th {\n        text-align: right;\n    }\n</style>\n<table border=\"1\" class=\"dataframe\">\n  <thead>\n    <tr style=\"text-align: right;\">\n      <th></th>\n      <th>id</th>\n      <th>name</th>\n      <th>text_review</th>\n      <th>rating</th>\n    </tr>\n  </thead>\n  <tbody>\n    <tr>\n      <th>0</th>\n      <td>-0iLH7iQNYtoURciDpJf6w</td>\n      <td>Le Comptoir de la Gastronomie</td>\n      <td>J'y suis allé pour acheter un foie gras cru à ...</td>\n      <td>5</td>\n    </tr>\n    <tr>\n      <th>1</th>\n      <td>-0iLH7iQNYtoURciDpJf6w</td>\n      <td>Le Comptoir de la Gastronomie</td>\n      <td>Une adresse immanquable. \\nLe meilleur magret ...</td>\n      <td>5</td>\n    </tr>\n    <tr>\n      <th>2</th>\n      <td>-0iLH7iQNYtoURciDpJf6w</td>\n      <td>Le Comptoir de la Gastronomie</td>\n      <td>Très bon, le prix abordable et le restaurant e...</td>\n      <td>4</td>\n    </tr>\n    <tr>\n      <th>3</th>\n      <td>IU9_wVOGBKjfqTTpAXpKcQ</td>\n      <td>Bistro des Augustins</td>\n      <td>Les plats étaient très bons et suffisamment co...</td>\n      <td>5</td>\n    </tr>\n    <tr>\n      <th>4</th>\n      <td>IU9_wVOGBKjfqTTpAXpKcQ</td>\n      <td>Bistro des Augustins</td>\n      <td>Le vin était bon et à un prix pas déconnant do...</td>\n      <td>2</td>\n    </tr>\n  </tbody>\n</table>\n</div>"
     },
     "execution_count": 6,
     "metadata": {},
     "output_type": "execute_result"
    }
   ],
   "source": [
    "\n",
    "df_rating.head()"
   ],
   "metadata": {
    "collapsed": false,
    "pycharm": {
     "name": "#%%\n"
    }
   }
  },
  {
   "cell_type": "code",
   "execution_count": 7,
   "outputs": [],
   "source": [
    "df_yelp.to_csv(\"data/P6_01_dataset_yelp.csv\", sep=',', index=False)\n",
    "df_rating.to_csv(\"data/P6_01_dataset_rating.csv\", sep=',', index=False)"
   ],
   "metadata": {
    "collapsed": false,
    "pycharm": {
     "name": "#%%\n"
    }
   }
  }
 ],
 "metadata": {
  "kernelspec": {
   "display_name": "Python 3",
   "language": "python",
   "name": "python3"
  },
  "language_info": {
   "codemirror_mode": {
    "name": "ipython",
    "version": 2
   },
   "file_extension": ".py",
   "mimetype": "text/x-python",
   "name": "python",
   "nbconvert_exporter": "python",
   "pygments_lexer": "ipython2",
   "version": "2.7.6"
  }
 },
 "nbformat": 4,
 "nbformat_minor": 0
}