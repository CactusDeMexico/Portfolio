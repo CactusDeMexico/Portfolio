{
 "cells": [
  {
   "cell_type": "markdown",
   "source": [
    "# Projet 3 : Préparez des données pour un organisme de santé publique\n",
    "## Dashboard"
   ],
   "metadata": {
    "collapsed": false
   }
  },
  {
   "cell_type": "markdown",
   "source": [
    "<font color = \"grey\"><i> Chargement des modules necessaires </i></font>"
   ],
   "metadata": {
    "collapsed": false,
    "pycharm": {
     "name": "#%% md\n"
    }
   }
  },
  {
   "cell_type": "code",
   "execution_count": 4,
   "metadata": {
    "collapsed": true
   },
   "outputs": [],
   "source": [
    "import dash\n",
    "import dash_core_components as dcc\n",
    "import dash_html_components as html\n",
    "from dash.dependencies import Input, Output\n",
    "import pandas as pd\n",
    "import plotly.express as px"
   ]
  },
  {
   "cell_type": "markdown",
   "source": [
    "<font color = \"grey\"><i> Chargement du dataframe  </i></font>"
   ],
   "metadata": {
    "collapsed": false
   }
  },
  {
   "cell_type": "code",
   "execution_count": 5,
   "outputs": [],
   "source": [
    "df_dash= pd.read_pickle(\"data/data_dashboard\")"
   ],
   "metadata": {
    "collapsed": false,
    "pycharm": {
     "name": "#%%\n"
    }
   }
  },
  {
   "cell_type": "markdown",
   "source": [
    "<font color = \"grey\"><i> Lancement dashboard  </i></font>"
   ],
   "metadata": {
    "collapsed": false,
    "pycharm": {
     "name": "#%% md\n"
    }
   }
  },
  {
   "cell_type": "code",
   "execution_count": 6,
   "outputs": [
    {
     "name": "stdout",
     "output_type": "stream",
     "text": [
      "Dash is running on http://127.0.0.1:8050/\n",
      "\n",
      "Dash is running on http://127.0.0.1:8050/\n",
      "\n",
      " * Serving Flask app '__main__' (lazy loading)\r\n",
      " * Environment: production\r\n",
      "\u001B[31m   WARNING: This is a development server. Do not use it in a production deployment.\u001B[0m\r\n",
      "\u001B[2m   Use a production WSGI server instead.\u001B[0m\r\n",
      " * Debug mode: on\r\n",
      "0\n",
      "None\n",
      "5\n",
      "5\n"
     ]
    }
   ],
   "source": [
    "# This dataframe has 244 lines, but 4 distinct values for `day`\n",
    "df = df_dash\n",
    "cols = ['energy_100g', 'fat_100g','carbohydrates_100g', 'sugars_100g', 'fiber_100g', 'proteins_100g','saturated-fat_100g','salt_100g']\n",
    "external_stylesheets = ['https://codepen.io/chriddyp/pen/bWLwgP.css']\n",
    "nutriscores = ['a','b','c','d','e']\n",
    "sugar = 0\n",
    "salt = 0\n",
    "app = dash.Dash(__name__, external_stylesheets = external_stylesheets)\n",
    "\n",
    "app.layout = html.Div(children=[\n",
    "    html.Div([\n",
    "\n",
    "        html.H1(children='Nutriscore'),\n",
    "\n",
    "\n",
    "        dcc.Dropdown(\n",
    "\n",
    "            id='names',\n",
    "            value='nutrition_grade_fr',\n",
    "            options=[{'value': score, 'label': score}\n",
    "                     for score in nutriscores],\n",
    "            clearable=False\n",
    "        ),\n",
    "        html.P(\"Valeurs:\"),\n",
    "        dcc.Dropdown(\n",
    "            id='values',\n",
    "            value='energy_100g',\n",
    "            options=[{'value': col, 'label': col}\n",
    "                     for col in cols],\n",
    "            clearable=False\n",
    "        ),\n",
    "        dcc.Graph(id=\"pie-chart\"),\n",
    "], className='row'),\n",
    "html.Div([\n",
    "        html.H1(children='Calculateur de sucre et sel '),\n",
    "\n",
    "        html.Div([\n",
    "        html.H2(children='Sucre_100g '),\n",
    "                  dcc.Input(\n",
    "                id='num-sucre',\n",
    "                type='number',\n",
    "                value=0\n",
    "                ),\n",
    "            html.Tr([html.Td(['sucre total ']), html.Td(id='sucre')]),\n",
    "        ]\n",
    "        , className='two columns'),\n",
    "        html.Div([\n",
    "            html.H2(children='Quantité (gr)'),\n",
    "            dcc.Input(\n",
    "                id='num_sucre_q',\n",
    "                type='number',\n",
    "                value=0\n",
    "            )\n",
    "            ], className='two columns'),\n",
    "         html.Div([\n",
    "            html.H2(children='Sel_100g '),\n",
    "            dcc.Input(\n",
    "                id='num_sel',\n",
    "                type='number',\n",
    "                value=0\n",
    "            ),\n",
    "            html.Table([\n",
    "            html.Tr([html.Td(['sel total ']), html.Td(id='sel')]),\n",
    "            ])\n",
    "            ], className='two columns'),\n",
    "    html.Div([\n",
    "            html.H2(children='Quantité (gr)'),\n",
    "            dcc.Input(\n",
    "                id='num_sel_q',\n",
    "                type='number',\n",
    "                value=0\n",
    "            ),\n",
    "            ], className='two columns'),\n",
    "\n",
    "\n",
    "\n",
    "    ], className='row'),\n",
    "\n",
    "    html.Div([\n",
    "        html.H2(' La quantité de sel journalière a ne pas dépasser est de 5g et le sucre de 25g')])\n",
    "])\n",
    "\n",
    "\n",
    "\n",
    "\n",
    "@app.callback(Output(\"pie-chart\", \"figure\"), Input(\"names\", \"value\"),Input(\"values\", \"value\"))\n",
    "def generate_chart(names, values):\n",
    "\n",
    "    fig = px.pie(df, values=values, names=names, title='Répartition des nutriscores')\n",
    "    return fig\n",
    "@app.callback(Output('sel', 'children') ,Input('num_sel', 'value'),Input('num_sel_q','value'))\n",
    "def calculate_salt(num_sel,num_sel_q):\n",
    "    salt = (num_sel*num_sel_q)/100\n",
    "    return salt\n",
    "\n",
    "@app.callback( Output('sucre', 'children'),Input('num-sucre', 'value'),Input('num_sucre_q','value'))\n",
    "def calculate_sugar(num_sucre,num_sucre_q):\n",
    "    print(num_sucre)\n",
    "    sucre = (num_sucre*num_sucre_q)/100\n",
    "    return sucre\n",
    "\n",
    "\n",
    "\n",
    "\n",
    "app.run_server(debug=True, use_reloader=False)"
   ],
   "metadata": {
    "collapsed": false,
    "pycharm": {
     "name": "#%%\n"
    }
   }
  }
 ],
 "metadata": {
  "kernelspec": {
   "display_name": "Python 3",
   "language": "python",
   "name": "python3"
  },
  "language_info": {
   "codemirror_mode": {
    "name": "ipython",
    "version": 2
   },
   "file_extension": ".py",
   "mimetype": "text/x-python",
   "name": "python",
   "nbconvert_exporter": "python",
   "pygments_lexer": "ipython2",
   "version": "2.7.6"
  }
 },
 "nbformat": 4,
 "nbformat_minor": 0
}